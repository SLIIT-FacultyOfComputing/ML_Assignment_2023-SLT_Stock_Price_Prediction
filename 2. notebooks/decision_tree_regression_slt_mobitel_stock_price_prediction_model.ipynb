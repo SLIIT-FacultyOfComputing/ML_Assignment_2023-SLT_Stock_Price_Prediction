{
 "cells": [
  {
   "cell_type": "markdown",
   "metadata": {
    "id": "z732hgQ2ciNC"
   },
   "source": [
    "# 📉📊📈**Comparing the Performance of Various Machine Learning Models for SLT Stock Price Prediction**📉📊📈\n"
   ]
  },
  {
   "cell_type": "markdown",
   "metadata": {
    "id": "HeO2YW6zCcXx"
   },
   "source": [
    "# ✅ **Decision Tree Regression** ✅"
   ]
  },
  {
   "cell_type": "markdown",
   "metadata": {
    "id": "R_uYpX1mPZkw"
   },
   "source": [
    "Decision trees are versatile algorithms that can be used for both regression and classification tasks. They construct tree-like structures by recursively partitioning a dataset into smaller subsets based on feature values, while simultaneously building a decision tree. The process continues until the data is fully partitioned or a stopping criterion is met. The resulting tree consists of decision nodes that represent feature-based decisions and leaf nodes that hold the final predictions or classifications. Decision trees are effective in creating interpretable and easy-to-follow models for making decisions based on input features."
   ]
  },
  {
   "cell_type": "markdown",
   "metadata": {
    "id": "oB73Je3vJLd4"
   },
   "source": [
    "# **Import Libraries**"
   ]
  },
  {
   "cell_type": "code",
   "execution_count": 30,
   "metadata": {
    "ExecuteTime": {
     "end_time": "2023-04-07T10:52:20.570422Z",
     "start_time": "2023-04-07T10:52:19.434183Z"
    },
    "id": "K2_XVJjHCgP5"
   },
   "outputs": [],
   "source": [
    "# Import Libraries\n",
    "import numpy as np\n",
    "import matplotlib.pyplot as plt\n",
    "import pandas as pd\n",
    "\n",
    "import warnings\n",
    "warnings.filterwarnings(\"ignore\")\n",
    "\n",
    "# Matplotlib and Seaborn for graphs and plottting\n",
    "import matplotlib.pyplot as plt\n",
    "import seaborn as sns\n",
    "%matplotlib inline"
   ]
  },
  {
   "cell_type": "markdown",
   "metadata": {},
   "source": [
    "# **Load data into a Data Frame**"
   ]
  },
  {
   "cell_type": "code",
   "execution_count": 31,
   "metadata": {
    "ExecuteTime": {
     "end_time": "2023-04-07T10:52:21.121523Z",
     "start_time": "2023-04-07T10:52:19.434183Z"
    }
   },
   "outputs": [
    {
     "data": {
      "text/html": [
       "<div>\n",
       "<style scoped>\n",
       "    .dataframe tbody tr th:only-of-type {\n",
       "        vertical-align: middle;\n",
       "    }\n",
       "\n",
       "    .dataframe tbody tr th {\n",
       "        vertical-align: top;\n",
       "    }\n",
       "\n",
       "    .dataframe thead th {\n",
       "        text-align: right;\n",
       "    }\n",
       "</style>\n",
       "<table border=\"1\" class=\"dataframe\">\n",
       "  <thead>\n",
       "    <tr style=\"text-align: right;\">\n",
       "      <th></th>\n",
       "      <th>Date</th>\n",
       "      <th>Price</th>\n",
       "      <th>Open</th>\n",
       "      <th>High</th>\n",
       "      <th>Low</th>\n",
       "      <th>Vol.</th>\n",
       "      <th>Change %</th>\n",
       "    </tr>\n",
       "  </thead>\n",
       "  <tbody>\n",
       "    <tr>\n",
       "      <th>0</th>\n",
       "      <td>7/8/2009</td>\n",
       "      <td>46.50</td>\n",
       "      <td>48.0</td>\n",
       "      <td>48.0</td>\n",
       "      <td>46.50</td>\n",
       "      <td>9.90K</td>\n",
       "      <td>-0.53%</td>\n",
       "    </tr>\n",
       "    <tr>\n",
       "      <th>1</th>\n",
       "      <td>7/9/2009</td>\n",
       "      <td>46.00</td>\n",
       "      <td>47.0</td>\n",
       "      <td>47.0</td>\n",
       "      <td>45.75</td>\n",
       "      <td>17.40K</td>\n",
       "      <td>-1.08%</td>\n",
       "    </tr>\n",
       "    <tr>\n",
       "      <th>2</th>\n",
       "      <td>7/13/2009</td>\n",
       "      <td>45.75</td>\n",
       "      <td>46.0</td>\n",
       "      <td>47.0</td>\n",
       "      <td>45.75</td>\n",
       "      <td>22.10K</td>\n",
       "      <td>-0.54%</td>\n",
       "    </tr>\n",
       "    <tr>\n",
       "      <th>3</th>\n",
       "      <td>7/14/2009</td>\n",
       "      <td>45.75</td>\n",
       "      <td>45.5</td>\n",
       "      <td>46.0</td>\n",
       "      <td>45.00</td>\n",
       "      <td>20.60K</td>\n",
       "      <td>0.00%</td>\n",
       "    </tr>\n",
       "    <tr>\n",
       "      <th>4</th>\n",
       "      <td>7/15/2009</td>\n",
       "      <td>45.50</td>\n",
       "      <td>45.5</td>\n",
       "      <td>46.0</td>\n",
       "      <td>45.25</td>\n",
       "      <td>23.60K</td>\n",
       "      <td>-0.55%</td>\n",
       "    </tr>\n",
       "    <tr>\n",
       "      <th>...</th>\n",
       "      <td>...</td>\n",
       "      <td>...</td>\n",
       "      <td>...</td>\n",
       "      <td>...</td>\n",
       "      <td>...</td>\n",
       "      <td>...</td>\n",
       "      <td>...</td>\n",
       "    </tr>\n",
       "    <tr>\n",
       "      <th>95</th>\n",
       "      <td>11/25/2009</td>\n",
       "      <td>40.00</td>\n",
       "      <td>40.5</td>\n",
       "      <td>41.0</td>\n",
       "      <td>39.50</td>\n",
       "      <td>19.80K</td>\n",
       "      <td>-1.23%</td>\n",
       "    </tr>\n",
       "    <tr>\n",
       "      <th>96</th>\n",
       "      <td>11/26/2009</td>\n",
       "      <td>39.75</td>\n",
       "      <td>40.0</td>\n",
       "      <td>40.0</td>\n",
       "      <td>39.75</td>\n",
       "      <td>15.00K</td>\n",
       "      <td>-0.63%</td>\n",
       "    </tr>\n",
       "    <tr>\n",
       "      <th>97</th>\n",
       "      <td>11/27/2009</td>\n",
       "      <td>40.00</td>\n",
       "      <td>40.0</td>\n",
       "      <td>40.0</td>\n",
       "      <td>39.50</td>\n",
       "      <td>16.60K</td>\n",
       "      <td>0.63%</td>\n",
       "    </tr>\n",
       "    <tr>\n",
       "      <th>98</th>\n",
       "      <td>11/30/2009</td>\n",
       "      <td>41.25</td>\n",
       "      <td>40.5</td>\n",
       "      <td>42.0</td>\n",
       "      <td>40.25</td>\n",
       "      <td>8.20K</td>\n",
       "      <td>3.13%</td>\n",
       "    </tr>\n",
       "    <tr>\n",
       "      <th>99</th>\n",
       "      <td>12/2/2009</td>\n",
       "      <td>41.50</td>\n",
       "      <td>41.0</td>\n",
       "      <td>42.0</td>\n",
       "      <td>41.00</td>\n",
       "      <td>20.20K</td>\n",
       "      <td>0.61%</td>\n",
       "    </tr>\n",
       "  </tbody>\n",
       "</table>\n",
       "<p>100 rows × 7 columns</p>\n",
       "</div>"
      ],
      "text/plain": [
       "          Date  Price  Open  High    Low    Vol. Change %\n",
       "0     7/8/2009  46.50  48.0  48.0  46.50   9.90K   -0.53%\n",
       "1     7/9/2009  46.00  47.0  47.0  45.75  17.40K   -1.08%\n",
       "2    7/13/2009  45.75  46.0  47.0  45.75  22.10K   -0.54%\n",
       "3    7/14/2009  45.75  45.5  46.0  45.00  20.60K    0.00%\n",
       "4    7/15/2009  45.50  45.5  46.0  45.25  23.60K   -0.55%\n",
       "..         ...    ...   ...   ...    ...     ...      ...\n",
       "95  11/25/2009  40.00  40.5  41.0  39.50  19.80K   -1.23%\n",
       "96  11/26/2009  39.75  40.0  40.0  39.75  15.00K   -0.63%\n",
       "97  11/27/2009  40.00  40.0  40.0  39.50  16.60K    0.63%\n",
       "98  11/30/2009  41.25  40.5  42.0  40.25   8.20K    3.13%\n",
       "99   12/2/2009  41.50  41.0  42.0  41.00  20.20K    0.61%\n",
       "\n",
       "[100 rows x 7 columns]"
      ]
     },
     "execution_count": 31,
     "metadata": {},
     "output_type": "execute_result"
    }
   ],
   "source": [
    "# Import the dataset\n",
    "dataset = pd.read_csv(r\"..\\1. dataset\\TeleCom_2009_2023_Daily.csv\")\n",
    "\n",
    "# View Columns\n",
    "dataset.head(100)"
   ]
  },
  {
   "cell_type": "markdown",
   "metadata": {},
   "source": [
    "# **Data Preprocessing**"
   ]
  },
  {
   "cell_type": "code",
   "execution_count": 123,
   "metadata": {
    "ExecuteTime": {
     "end_time": "2023-04-07T10:52:21.148447Z",
     "start_time": "2023-04-07T10:52:20.569423Z"
    }
   },
   "outputs": [
    {
     "data": {
      "text/html": [
       "<div>\n",
       "<style scoped>\n",
       "    .dataframe tbody tr th:only-of-type {\n",
       "        vertical-align: middle;\n",
       "    }\n",
       "\n",
       "    .dataframe tbody tr th {\n",
       "        vertical-align: top;\n",
       "    }\n",
       "\n",
       "    .dataframe thead th {\n",
       "        text-align: right;\n",
       "    }\n",
       "</style>\n",
       "<table border=\"1\" class=\"dataframe\">\n",
       "  <thead>\n",
       "    <tr style=\"text-align: right;\">\n",
       "      <th></th>\n",
       "      <th>Date</th>\n",
       "      <th>Price</th>\n",
       "      <th>Open</th>\n",
       "      <th>High</th>\n",
       "      <th>Low</th>\n",
       "      <th>Vol.</th>\n",
       "      <th>Change %</th>\n",
       "      <th>Increase_Decrease</th>\n",
       "      <th>Buy_Sell_on_Open</th>\n",
       "      <th>Buy_Sell</th>\n",
       "      <th>Returns</th>\n",
       "      <th>Open-Close</th>\n",
       "      <th>High-Low</th>\n",
       "      <th>Open-Price</th>\n",
       "    </tr>\n",
       "  </thead>\n",
       "  <tbody>\n",
       "    <tr>\n",
       "      <th>6</th>\n",
       "      <td>7/17/2009</td>\n",
       "      <td>45.50</td>\n",
       "      <td>45.00</td>\n",
       "      <td>46.00</td>\n",
       "      <td>45.00</td>\n",
       "      <td>71.70K</td>\n",
       "      <td>1.11%</td>\n",
       "      <td>0</td>\n",
       "      <td>1</td>\n",
       "      <td>1</td>\n",
       "      <td>0.011111</td>\n",
       "      <td>-0.50</td>\n",
       "      <td>1.00</td>\n",
       "      <td>-0.50</td>\n",
       "    </tr>\n",
       "    <tr>\n",
       "      <th>7</th>\n",
       "      <td>7/20/2009</td>\n",
       "      <td>46.50</td>\n",
       "      <td>46.00</td>\n",
       "      <td>47.00</td>\n",
       "      <td>46.00</td>\n",
       "      <td>68.80K</td>\n",
       "      <td>2.20%</td>\n",
       "      <td>1</td>\n",
       "      <td>1</td>\n",
       "      <td>1</td>\n",
       "      <td>0.021978</td>\n",
       "      <td>-0.50</td>\n",
       "      <td>1.00</td>\n",
       "      <td>-0.50</td>\n",
       "    </tr>\n",
       "    <tr>\n",
       "      <th>8</th>\n",
       "      <td>7/21/2009</td>\n",
       "      <td>47.50</td>\n",
       "      <td>47.25</td>\n",
       "      <td>48.50</td>\n",
       "      <td>47.00</td>\n",
       "      <td>88.50K</td>\n",
       "      <td>2.15%</td>\n",
       "      <td>0</td>\n",
       "      <td>1</td>\n",
       "      <td>1</td>\n",
       "      <td>0.021505</td>\n",
       "      <td>-0.25</td>\n",
       "      <td>1.50</td>\n",
       "      <td>-0.25</td>\n",
       "    </tr>\n",
       "    <tr>\n",
       "      <th>9</th>\n",
       "      <td>7/22/2009</td>\n",
       "      <td>47.69</td>\n",
       "      <td>47.50</td>\n",
       "      <td>48.50</td>\n",
       "      <td>47.25</td>\n",
       "      <td>42.70K</td>\n",
       "      <td>0.40%</td>\n",
       "      <td>0</td>\n",
       "      <td>1</td>\n",
       "      <td>0</td>\n",
       "      <td>0.004000</td>\n",
       "      <td>-0.19</td>\n",
       "      <td>1.25</td>\n",
       "      <td>-0.19</td>\n",
       "    </tr>\n",
       "    <tr>\n",
       "      <th>10</th>\n",
       "      <td>7/23/2009</td>\n",
       "      <td>47.25</td>\n",
       "      <td>47.75</td>\n",
       "      <td>47.75</td>\n",
       "      <td>47.00</td>\n",
       "      <td>20.70K</td>\n",
       "      <td>-0.92%</td>\n",
       "      <td>0</td>\n",
       "      <td>0</td>\n",
       "      <td>0</td>\n",
       "      <td>-0.009226</td>\n",
       "      <td>0.50</td>\n",
       "      <td>0.75</td>\n",
       "      <td>0.50</td>\n",
       "    </tr>\n",
       "  </tbody>\n",
       "</table>\n",
       "</div>"
      ],
      "text/plain": [
       "         Date  Price   Open   High    Low    Vol. Change %  Increase_Decrease  \\\n",
       "6   7/17/2009  45.50  45.00  46.00  45.00  71.70K    1.11%                  0   \n",
       "7   7/20/2009  46.50  46.00  47.00  46.00  68.80K    2.20%                  1   \n",
       "8   7/21/2009  47.50  47.25  48.50  47.00  88.50K    2.15%                  0   \n",
       "9   7/22/2009  47.69  47.50  48.50  47.25  42.70K    0.40%                  0   \n",
       "10  7/23/2009  47.25  47.75  47.75  47.00  20.70K   -0.92%                  0   \n",
       "\n",
       "    Buy_Sell_on_Open  Buy_Sell   Returns  Open-Close  High-Low  Open-Price  \n",
       "6                  1         1  0.011111       -0.50      1.00       -0.50  \n",
       "7                  1         1  0.021978       -0.50      1.00       -0.50  \n",
       "8                  1         1  0.021505       -0.25      1.50       -0.25  \n",
       "9                  1         0  0.004000       -0.19      1.25       -0.19  \n",
       "10                 0         0 -0.009226        0.50      0.75        0.50  "
      ]
     },
     "execution_count": 123,
     "metadata": {},
     "output_type": "execute_result"
    }
   ],
   "source": [
    "#Preprocess data\n",
    "#Scale and normalize data\n",
    "dataset['Increase_Decrease'] = np.where(dataset['Vol.'].shift(-1) > dataset['Vol.'],1,0)\n",
    "dataset['Buy_Sell_on_Open'] = np.where(dataset['Open'].shift(-1) > dataset['Open'],1,0)\n",
    "dataset['Buy_Sell'] = np.where(dataset['Price'].shift(-1) > dataset['Price'],1,0)\n",
    "dataset['Open-Price']= dataset['Open'] - dataset['Price']\n",
    "dataset['High-Low']  = dataset['High'] - dataset['Low']\n",
    "\n",
    "dataset['Returns'] = dataset['Price'].pct_change()\n",
    "dataset = dataset.dropna()\n",
    "dataset.head()"
   ]
  },
  {
   "cell_type": "markdown",
   "metadata": {},
   "source": [
    "# **View Dataset**"
   ]
  },
  {
   "cell_type": "code",
   "execution_count": 124,
   "metadata": {
    "ExecuteTime": {
     "end_time": "2023-04-07T10:52:21.150445Z",
     "start_time": "2023-04-07T10:52:20.611318Z"
    }
   },
   "outputs": [
    {
     "data": {
      "text/html": [
       "<div>\n",
       "<style scoped>\n",
       "    .dataframe tbody tr th:only-of-type {\n",
       "        vertical-align: middle;\n",
       "    }\n",
       "\n",
       "    .dataframe tbody tr th {\n",
       "        vertical-align: top;\n",
       "    }\n",
       "\n",
       "    .dataframe thead th {\n",
       "        text-align: right;\n",
       "    }\n",
       "</style>\n",
       "<table border=\"1\" class=\"dataframe\">\n",
       "  <thead>\n",
       "    <tr style=\"text-align: right;\">\n",
       "      <th></th>\n",
       "      <th>Date</th>\n",
       "      <th>Price</th>\n",
       "      <th>Open</th>\n",
       "      <th>High</th>\n",
       "      <th>Low</th>\n",
       "      <th>Vol.</th>\n",
       "      <th>Change %</th>\n",
       "      <th>Increase_Decrease</th>\n",
       "      <th>Buy_Sell_on_Open</th>\n",
       "      <th>Buy_Sell</th>\n",
       "      <th>Returns</th>\n",
       "      <th>Open-Close</th>\n",
       "      <th>High-Low</th>\n",
       "      <th>Open-Price</th>\n",
       "    </tr>\n",
       "  </thead>\n",
       "  <tbody>\n",
       "    <tr>\n",
       "      <th>6</th>\n",
       "      <td>7/17/2009</td>\n",
       "      <td>45.50</td>\n",
       "      <td>45.00</td>\n",
       "      <td>46.00</td>\n",
       "      <td>45.00</td>\n",
       "      <td>71.70K</td>\n",
       "      <td>1.11%</td>\n",
       "      <td>0</td>\n",
       "      <td>1</td>\n",
       "      <td>1</td>\n",
       "      <td>0.011111</td>\n",
       "      <td>-0.50</td>\n",
       "      <td>1.00</td>\n",
       "      <td>-0.50</td>\n",
       "    </tr>\n",
       "    <tr>\n",
       "      <th>7</th>\n",
       "      <td>7/20/2009</td>\n",
       "      <td>46.50</td>\n",
       "      <td>46.00</td>\n",
       "      <td>47.00</td>\n",
       "      <td>46.00</td>\n",
       "      <td>68.80K</td>\n",
       "      <td>2.20%</td>\n",
       "      <td>1</td>\n",
       "      <td>1</td>\n",
       "      <td>1</td>\n",
       "      <td>0.021978</td>\n",
       "      <td>-0.50</td>\n",
       "      <td>1.00</td>\n",
       "      <td>-0.50</td>\n",
       "    </tr>\n",
       "    <tr>\n",
       "      <th>8</th>\n",
       "      <td>7/21/2009</td>\n",
       "      <td>47.50</td>\n",
       "      <td>47.25</td>\n",
       "      <td>48.50</td>\n",
       "      <td>47.00</td>\n",
       "      <td>88.50K</td>\n",
       "      <td>2.15%</td>\n",
       "      <td>0</td>\n",
       "      <td>1</td>\n",
       "      <td>1</td>\n",
       "      <td>0.021505</td>\n",
       "      <td>-0.25</td>\n",
       "      <td>1.50</td>\n",
       "      <td>-0.25</td>\n",
       "    </tr>\n",
       "    <tr>\n",
       "      <th>9</th>\n",
       "      <td>7/22/2009</td>\n",
       "      <td>47.69</td>\n",
       "      <td>47.50</td>\n",
       "      <td>48.50</td>\n",
       "      <td>47.25</td>\n",
       "      <td>42.70K</td>\n",
       "      <td>0.40%</td>\n",
       "      <td>0</td>\n",
       "      <td>1</td>\n",
       "      <td>0</td>\n",
       "      <td>0.004000</td>\n",
       "      <td>-0.19</td>\n",
       "      <td>1.25</td>\n",
       "      <td>-0.19</td>\n",
       "    </tr>\n",
       "    <tr>\n",
       "      <th>10</th>\n",
       "      <td>7/23/2009</td>\n",
       "      <td>47.25</td>\n",
       "      <td>47.75</td>\n",
       "      <td>47.75</td>\n",
       "      <td>47.00</td>\n",
       "      <td>20.70K</td>\n",
       "      <td>-0.92%</td>\n",
       "      <td>0</td>\n",
       "      <td>0</td>\n",
       "      <td>0</td>\n",
       "      <td>-0.009226</td>\n",
       "      <td>0.50</td>\n",
       "      <td>0.75</td>\n",
       "      <td>0.50</td>\n",
       "    </tr>\n",
       "    <tr>\n",
       "      <th>...</th>\n",
       "      <td>...</td>\n",
       "      <td>...</td>\n",
       "      <td>...</td>\n",
       "      <td>...</td>\n",
       "      <td>...</td>\n",
       "      <td>...</td>\n",
       "      <td>...</td>\n",
       "      <td>...</td>\n",
       "      <td>...</td>\n",
       "      <td>...</td>\n",
       "      <td>...</td>\n",
       "      <td>...</td>\n",
       "      <td>...</td>\n",
       "      <td>...</td>\n",
       "    </tr>\n",
       "    <tr>\n",
       "      <th>3233</th>\n",
       "      <td>4/3/2023</td>\n",
       "      <td>90.90</td>\n",
       "      <td>91.50</td>\n",
       "      <td>94.10</td>\n",
       "      <td>90.00</td>\n",
       "      <td>288.10K</td>\n",
       "      <td>-4.01%</td>\n",
       "      <td>1</td>\n",
       "      <td>0</td>\n",
       "      <td>1</td>\n",
       "      <td>-0.040127</td>\n",
       "      <td>0.60</td>\n",
       "      <td>4.10</td>\n",
       "      <td>0.60</td>\n",
       "    </tr>\n",
       "    <tr>\n",
       "      <th>3234</th>\n",
       "      <td>4/4/2023</td>\n",
       "      <td>91.50</td>\n",
       "      <td>90.60</td>\n",
       "      <td>92.80</td>\n",
       "      <td>89.60</td>\n",
       "      <td>303.49K</td>\n",
       "      <td>0.66%</td>\n",
       "      <td>1</td>\n",
       "      <td>1</td>\n",
       "      <td>1</td>\n",
       "      <td>0.006601</td>\n",
       "      <td>-0.90</td>\n",
       "      <td>3.20</td>\n",
       "      <td>-0.90</td>\n",
       "    </tr>\n",
       "    <tr>\n",
       "      <th>3235</th>\n",
       "      <td>4/6/2023</td>\n",
       "      <td>102.00</td>\n",
       "      <td>92.10</td>\n",
       "      <td>102.00</td>\n",
       "      <td>92.00</td>\n",
       "      <td>734.22K</td>\n",
       "      <td>11.48%</td>\n",
       "      <td>0</td>\n",
       "      <td>1</td>\n",
       "      <td>0</td>\n",
       "      <td>0.114754</td>\n",
       "      <td>-9.90</td>\n",
       "      <td>10.00</td>\n",
       "      <td>-9.90</td>\n",
       "    </tr>\n",
       "    <tr>\n",
       "      <th>3236</th>\n",
       "      <td>4/10/2023</td>\n",
       "      <td>98.00</td>\n",
       "      <td>100.00</td>\n",
       "      <td>102.75</td>\n",
       "      <td>97.30</td>\n",
       "      <td>152.39K</td>\n",
       "      <td>-3.92%</td>\n",
       "      <td>1</td>\n",
       "      <td>0</td>\n",
       "      <td>1</td>\n",
       "      <td>-0.039216</td>\n",
       "      <td>2.00</td>\n",
       "      <td>5.45</td>\n",
       "      <td>2.00</td>\n",
       "    </tr>\n",
       "    <tr>\n",
       "      <th>3237</th>\n",
       "      <td>4/11/2023</td>\n",
       "      <td>101.50</td>\n",
       "      <td>97.90</td>\n",
       "      <td>103.50</td>\n",
       "      <td>97.30</td>\n",
       "      <td>329.43K</td>\n",
       "      <td>3.57%</td>\n",
       "      <td>0</td>\n",
       "      <td>0</td>\n",
       "      <td>0</td>\n",
       "      <td>0.035714</td>\n",
       "      <td>-3.60</td>\n",
       "      <td>6.20</td>\n",
       "      <td>-3.60</td>\n",
       "    </tr>\n",
       "  </tbody>\n",
       "</table>\n",
       "<p>3214 rows × 14 columns</p>\n",
       "</div>"
      ],
      "text/plain": [
       "           Date   Price    Open    High    Low     Vol. Change %  \\\n",
       "6     7/17/2009   45.50   45.00   46.00  45.00   71.70K    1.11%   \n",
       "7     7/20/2009   46.50   46.00   47.00  46.00   68.80K    2.20%   \n",
       "8     7/21/2009   47.50   47.25   48.50  47.00   88.50K    2.15%   \n",
       "9     7/22/2009   47.69   47.50   48.50  47.25   42.70K    0.40%   \n",
       "10    7/23/2009   47.25   47.75   47.75  47.00   20.70K   -0.92%   \n",
       "...         ...     ...     ...     ...    ...      ...      ...   \n",
       "3233   4/3/2023   90.90   91.50   94.10  90.00  288.10K   -4.01%   \n",
       "3234   4/4/2023   91.50   90.60   92.80  89.60  303.49K    0.66%   \n",
       "3235   4/6/2023  102.00   92.10  102.00  92.00  734.22K   11.48%   \n",
       "3236  4/10/2023   98.00  100.00  102.75  97.30  152.39K   -3.92%   \n",
       "3237  4/11/2023  101.50   97.90  103.50  97.30  329.43K    3.57%   \n",
       "\n",
       "      Increase_Decrease  Buy_Sell_on_Open  Buy_Sell   Returns  Open-Close  \\\n",
       "6                     0                 1         1  0.011111       -0.50   \n",
       "7                     1                 1         1  0.021978       -0.50   \n",
       "8                     0                 1         1  0.021505       -0.25   \n",
       "9                     0                 1         0  0.004000       -0.19   \n",
       "10                    0                 0         0 -0.009226        0.50   \n",
       "...                 ...               ...       ...       ...         ...   \n",
       "3233                  1                 0         1 -0.040127        0.60   \n",
       "3234                  1                 1         1  0.006601       -0.90   \n",
       "3235                  0                 1         0  0.114754       -9.90   \n",
       "3236                  1                 0         1 -0.039216        2.00   \n",
       "3237                  0                 0         0  0.035714       -3.60   \n",
       "\n",
       "      High-Low  Open-Price  \n",
       "6         1.00       -0.50  \n",
       "7         1.00       -0.50  \n",
       "8         1.50       -0.25  \n",
       "9         1.25       -0.19  \n",
       "10        0.75        0.50  \n",
       "...        ...         ...  \n",
       "3233      4.10        0.60  \n",
       "3234      3.20       -0.90  \n",
       "3235     10.00       -9.90  \n",
       "3236      5.45        2.00  \n",
       "3237      6.20       -3.60  \n",
       "\n",
       "[3214 rows x 14 columns]"
      ]
     },
     "execution_count": 124,
     "metadata": {},
     "output_type": "execute_result"
    }
   ],
   "source": [
    "#View Dataset\n",
    "dataset"
   ]
  },
  {
   "cell_type": "markdown",
   "metadata": {},
   "source": [
    "# **Null value testing**"
   ]
  },
  {
   "cell_type": "code",
   "execution_count": 125,
   "metadata": {
    "ExecuteTime": {
     "end_time": "2023-04-07T10:52:21.151440Z",
     "start_time": "2023-04-07T10:52:20.661706Z"
    }
   },
   "outputs": [
    {
     "data": {
      "text/plain": [
       "Date                 0\n",
       "Price                0\n",
       "Open                 0\n",
       "High                 0\n",
       "Low                  0\n",
       "Vol.                 0\n",
       "Change %             0\n",
       "Increase_Decrease    0\n",
       "Buy_Sell_on_Open     0\n",
       "Buy_Sell             0\n",
       "Returns              0\n",
       "Open-Close           0\n",
       "High-Low             0\n",
       "Open-Price           0\n",
       "dtype: int64"
      ]
     },
     "execution_count": 125,
     "metadata": {},
     "output_type": "execute_result"
    }
   ],
   "source": [
    "# See how many null values in each column\n",
    "\n",
    "dataset.isnull().sum()"
   ]
  },
  {
   "cell_type": "code",
   "execution_count": 126,
   "metadata": {
    "ExecuteTime": {
     "end_time": "2023-04-07T10:52:22.646191Z",
     "start_time": "2023-04-07T10:52:20.674671Z"
    }
   },
   "outputs": [
    {
     "data": {
      "image/png": "[encoded data removed]",
      "text/plain": [
       "<Figure size 864x288 with 1 Axes>"
      ]
     },
     "metadata": {
      "needs_background": "light"
     },
     "output_type": "display_data"
    }
   ],
   "source": [
    "plt.figure(figsize=(12,4))\n",
    "sns.heatmap(dataset.isnull(), yticklabels=False,cbar=False,cmap='viridis')\n",
    "plt.savefig(\"Figure 1: Heatmap for Null Values\")"
   ]
  },
  {
   "cell_type": "markdown",
   "metadata": {},
   "source": [
    "# **Analyze the Data**"
   ]
  },
  {
   "cell_type": "code",
   "execution_count": 127,
   "metadata": {
    "ExecuteTime": {
     "end_time": "2023-04-07T10:52:22.742461Z",
     "start_time": "2023-04-07T10:52:21.450762Z"
    }
   },
   "outputs": [
    {
     "data": {
      "text/plain": [
       "(3214, 14)"
      ]
     },
     "execution_count": 127,
     "metadata": {},
     "output_type": "execute_result"
    }
   ],
   "source": [
    "# see number of rows, number of columns\n",
    "dataset.shape"
   ]
  },
  {
   "cell_type": "code",
   "execution_count": 128,
   "metadata": {
    "ExecuteTime": {
     "end_time": "2023-04-07T10:52:22.742461Z",
     "start_time": "2023-04-07T10:52:21.482770Z"
    }
   },
   "outputs": [
    {
     "name": "stdout",
     "output_type": "stream",
     "text": [
      "Total number of records =  44996\n"
     ]
    }
   ],
   "source": [
    "#Total Number of Records\n",
    "dataset.size\n",
    "print(\"Total number of records = \",dataset.size)"
   ]
  },
  {
   "cell_type": "code",
   "execution_count": 129,
   "metadata": {
    "ExecuteTime": {
     "end_time": "2023-04-07T10:52:22.743460Z",
     "start_time": "2023-04-07T10:52:21.508557Z"
    }
   },
   "outputs": [
    {
     "data": {
      "text/plain": [
       "Index(['Date', 'Price', 'Open', 'High', 'Low', 'Vol.', 'Change %',\n",
       "       'Increase_Decrease', 'Buy_Sell_on_Open', 'Buy_Sell', 'Returns',\n",
       "       'Open-Close', 'High-Low', 'Open-Price'],\n",
       "      dtype='object')"
      ]
     },
     "execution_count": 129,
     "metadata": {},
     "output_type": "execute_result"
    }
   ],
   "source": [
    "# see columns names\n",
    "\n",
    "dataset.columns"
   ]
  },
  {
   "cell_type": "code",
   "execution_count": 130,
   "metadata": {
    "ExecuteTime": {
     "end_time": "2023-04-07T10:52:22.743460Z",
     "start_time": "2023-04-07T10:52:21.536354Z"
    }
   },
   "outputs": [
    {
     "data": {
      "text/plain": [
       "Date                  object\n",
       "Price                float64\n",
       "Open                 float64\n",
       "High                 float64\n",
       "Low                  float64\n",
       "Vol.                  object\n",
       "Change %              object\n",
       "Increase_Decrease      int32\n",
       "Buy_Sell_on_Open       int32\n",
       "Buy_Sell               int32\n",
       "Returns              float64\n",
       "Open-Close           float64\n",
       "High-Low             float64\n",
       "Open-Price           float64\n",
       "dtype: object"
      ]
     },
     "execution_count": 130,
     "metadata": {},
     "output_type": "execute_result"
    }
   ],
   "source": [
    "# See data types of the Columns\n",
    "dataset.dtypes"
   ]
  },
  {
   "cell_type": "code",
   "execution_count": 131,
   "metadata": {
    "ExecuteTime": {
     "end_time": "2023-04-07T10:52:24.879354Z",
     "start_time": "2023-04-07T10:52:21.551313Z"
    }
   },
   "outputs": [
    {
     "data": {
      "text/plain": [
       "array([[<AxesSubplot:title={'center':'Price'}>,\n",
       "        <AxesSubplot:title={'center':'Open'}>,\n",
       "        <AxesSubplot:title={'center':'High'}>],\n",
       "       [<AxesSubplot:title={'center':'Low'}>,\n",
       "        <AxesSubplot:title={'center':'Increase_Decrease'}>,\n",
       "        <AxesSubplot:title={'center':'Buy_Sell_on_Open'}>],\n",
       "       [<AxesSubplot:title={'center':'Buy_Sell'}>,\n",
       "        <AxesSubplot:title={'center':'Returns'}>,\n",
       "        <AxesSubplot:title={'center':'Open-Close'}>],\n",
       "       [<AxesSubplot:title={'center':'High-Low'}>,\n",
       "        <AxesSubplot:title={'center':'Open-Price'}>, <AxesSubplot:>]],\n",
       "      dtype=object)"
      ]
     },
     "execution_count": 131,
     "metadata": {},
     "output_type": "execute_result"
    },
    {
     "data": {
      "image/png": "[encoded data removed]",
      "text/plain": [
       "<Figure size 1080x1080 with 12 Axes>"
      ]
     },
     "metadata": {
      "needs_background": "light"
     },
     "output_type": "display_data"
    }
   ],
   "source": [
    "# Histogram per each numerical column\n",
    "\n",
    "dataset.hist(figsize=(15, 15))"
   ]
  },
  {
   "cell_type": "code",
   "execution_count": 132,
   "metadata": {
    "ExecuteTime": {
     "end_time": "2023-04-07T10:52:24.939713Z",
     "start_time": "2023-04-07T10:52:24.552669Z"
    },
    "scrolled": true
   },
   "outputs": [
    {
     "data": {
      "text/html": [
       "<div>\n",
       "<style scoped>\n",
       "    .dataframe tbody tr th:only-of-type {\n",
       "        vertical-align: middle;\n",
       "    }\n",
       "\n",
       "    .dataframe tbody tr th {\n",
       "        vertical-align: top;\n",
       "    }\n",
       "\n",
       "    .dataframe thead th {\n",
       "        text-align: right;\n",
       "    }\n",
       "</style>\n",
       "<table border=\"1\" class=\"dataframe\">\n",
       "  <thead>\n",
       "    <tr style=\"text-align: right;\">\n",
       "      <th></th>\n",
       "      <th>Price</th>\n",
       "      <th>Open</th>\n",
       "      <th>High</th>\n",
       "      <th>Low</th>\n",
       "      <th>Increase_Decrease</th>\n",
       "      <th>Buy_Sell_on_Open</th>\n",
       "      <th>Buy_Sell</th>\n",
       "      <th>Returns</th>\n",
       "      <th>Open-Close</th>\n",
       "      <th>High-Low</th>\n",
       "      <th>Open-Price</th>\n",
       "    </tr>\n",
       "  </thead>\n",
       "  <tbody>\n",
       "    <tr>\n",
       "      <th>count</th>\n",
       "      <td>3214.000000</td>\n",
       "      <td>3214.000000</td>\n",
       "      <td>3214.000000</td>\n",
       "      <td>3214.000000</td>\n",
       "      <td>3214.000000</td>\n",
       "      <td>3214.000000</td>\n",
       "      <td>3214.000000</td>\n",
       "      <td>3214.000000</td>\n",
       "      <td>3214.000000</td>\n",
       "      <td>3214.000000</td>\n",
       "      <td>3214.000000</td>\n",
       "    </tr>\n",
       "    <tr>\n",
       "      <th>mean</th>\n",
       "      <td>40.127688</td>\n",
       "      <td>40.115853</td>\n",
       "      <td>40.795877</td>\n",
       "      <td>39.355072</td>\n",
       "      <td>0.495644</td>\n",
       "      <td>0.404169</td>\n",
       "      <td>0.398880</td>\n",
       "      <td>0.000612</td>\n",
       "      <td>-0.011836</td>\n",
       "      <td>1.440806</td>\n",
       "      <td>-0.011836</td>\n",
       "    </tr>\n",
       "    <tr>\n",
       "      <th>std</th>\n",
       "      <td>11.368908</td>\n",
       "      <td>11.391515</td>\n",
       "      <td>11.787450</td>\n",
       "      <td>11.009603</td>\n",
       "      <td>0.500059</td>\n",
       "      <td>0.490807</td>\n",
       "      <td>0.489744</td>\n",
       "      <td>0.027156</td>\n",
       "      <td>1.261684</td>\n",
       "      <td>1.439083</td>\n",
       "      <td>1.261684</td>\n",
       "    </tr>\n",
       "    <tr>\n",
       "      <th>min</th>\n",
       "      <td>19.000000</td>\n",
       "      <td>19.000000</td>\n",
       "      <td>19.500000</td>\n",
       "      <td>18.000000</td>\n",
       "      <td>0.000000</td>\n",
       "      <td>0.000000</td>\n",
       "      <td>0.000000</td>\n",
       "      <td>-0.154489</td>\n",
       "      <td>-15.750000</td>\n",
       "      <td>0.000000</td>\n",
       "      <td>-15.750000</td>\n",
       "    </tr>\n",
       "    <tr>\n",
       "      <th>25%</th>\n",
       "      <td>32.500000</td>\n",
       "      <td>32.600000</td>\n",
       "      <td>32.925000</td>\n",
       "      <td>32.000000</td>\n",
       "      <td>0.000000</td>\n",
       "      <td>0.000000</td>\n",
       "      <td>0.000000</td>\n",
       "      <td>-0.012338</td>\n",
       "      <td>-0.500000</td>\n",
       "      <td>0.600000</td>\n",
       "      <td>-0.500000</td>\n",
       "    </tr>\n",
       "    <tr>\n",
       "      <th>50%</th>\n",
       "      <td>39.000000</td>\n",
       "      <td>39.000000</td>\n",
       "      <td>39.700000</td>\n",
       "      <td>38.225000</td>\n",
       "      <td>0.000000</td>\n",
       "      <td>0.000000</td>\n",
       "      <td>0.000000</td>\n",
       "      <td>0.000000</td>\n",
       "      <td>0.000000</td>\n",
       "      <td>1.000000</td>\n",
       "      <td>0.000000</td>\n",
       "    </tr>\n",
       "    <tr>\n",
       "      <th>75%</th>\n",
       "      <td>47.000000</td>\n",
       "      <td>46.900000</td>\n",
       "      <td>47.500000</td>\n",
       "      <td>46.000000</td>\n",
       "      <td>1.000000</td>\n",
       "      <td>1.000000</td>\n",
       "      <td>1.000000</td>\n",
       "      <td>0.010863</td>\n",
       "      <td>0.500000</td>\n",
       "      <td>1.800000</td>\n",
       "      <td>0.500000</td>\n",
       "    </tr>\n",
       "    <tr>\n",
       "      <th>max</th>\n",
       "      <td>113.750000</td>\n",
       "      <td>115.000000</td>\n",
       "      <td>121.750000</td>\n",
       "      <td>111.500000</td>\n",
       "      <td>1.000000</td>\n",
       "      <td>1.000000</td>\n",
       "      <td>1.000000</td>\n",
       "      <td>0.248815</td>\n",
       "      <td>9.750000</td>\n",
       "      <td>24.700000</td>\n",
       "      <td>9.750000</td>\n",
       "    </tr>\n",
       "  </tbody>\n",
       "</table>\n",
       "</div>"
      ],
      "text/plain": [
       "             Price         Open         High          Low  Increase_Decrease  \\\n",
       "count  3214.000000  3214.000000  3214.000000  3214.000000        3214.000000   \n",
       "mean     40.127688    40.115853    40.795877    39.355072           0.495644   \n",
       "std      11.368908    11.391515    11.787450    11.009603           0.500059   \n",
       "min      19.000000    19.000000    19.500000    18.000000           0.000000   \n",
       "25%      32.500000    32.600000    32.925000    32.000000           0.000000   \n",
       "50%      39.000000    39.000000    39.700000    38.225000           0.000000   \n",
       "75%      47.000000    46.900000    47.500000    46.000000           1.000000   \n",
       "max     113.750000   115.000000   121.750000   111.500000           1.000000   \n",
       "\n",
       "       Buy_Sell_on_Open     Buy_Sell      Returns   Open-Close     High-Low  \\\n",
       "count       3214.000000  3214.000000  3214.000000  3214.000000  3214.000000   \n",
       "mean           0.404169     0.398880     0.000612    -0.011836     1.440806   \n",
       "std            0.490807     0.489744     0.027156     1.261684     1.439083   \n",
       "min            0.000000     0.000000    -0.154489   -15.750000     0.000000   \n",
       "25%            0.000000     0.000000    -0.012338    -0.500000     0.600000   \n",
       "50%            0.000000     0.000000     0.000000     0.000000     1.000000   \n",
       "75%            1.000000     1.000000     0.010863     0.500000     1.800000   \n",
       "max            1.000000     1.000000     0.248815     9.750000    24.700000   \n",
       "\n",
       "        Open-Price  \n",
       "count  3214.000000  \n",
       "mean     -0.011836  \n",
       "std       1.261684  \n",
       "min     -15.750000  \n",
       "25%      -0.500000  \n",
       "50%       0.000000  \n",
       "75%       0.500000  \n",
       "max       9.750000  "
      ]
     },
     "execution_count": 132,
     "metadata": {},
     "output_type": "execute_result"
    }
   ],
   "source": [
    "# The statistics per each column\n",
    "dataset.describe()"
   ]
  },
  {
   "cell_type": "markdown",
   "metadata": {},
   "source": [
    "# **Define X and Y**"
   ]
  },
  {
   "cell_type": "code",
   "execution_count": 179,
   "metadata": {
    "ExecuteTime": {
     "end_time": "2023-04-07T10:52:24.939713Z",
     "start_time": "2023-04-07T10:52:24.710769Z"
    }
   },
   "outputs": [
    {
     "name": "stdout",
     "output_type": "stream",
     "text": [
      "        Open    High    Low  Increase_Decrease  Buy_Sell_on_Open  Buy_Sell  \\\n",
      "6      45.00   46.00  45.00                  0                 1         1   \n",
      "7      46.00   47.00  46.00                  1                 1         1   \n",
      "8      47.25   48.50  47.00                  0                 1         1   \n",
      "9      47.50   48.50  47.25                  0                 1         0   \n",
      "10     47.75   47.75  47.00                  0                 0         0   \n",
      "...      ...     ...    ...                ...               ...       ...   \n",
      "3233   91.50   94.10  90.00                  1                 0         1   \n",
      "3234   90.60   92.80  89.60                  1                 1         1   \n",
      "3235   92.10  102.00  92.00                  0                 1         0   \n",
      "3236  100.00  102.75  97.30                  1                 0         1   \n",
      "3237   97.90  103.50  97.30                  0                 0         0   \n",
      "\n",
      "       Returns  Open-Close  High-Low  Open-Price  \n",
      "6     0.011111       -0.50      1.00       -0.50  \n",
      "7     0.021978       -0.50      1.00       -0.50  \n",
      "8     0.021505       -0.25      1.50       -0.25  \n",
      "9     0.004000       -0.19      1.25       -0.19  \n",
      "10   -0.009226        0.50      0.75        0.50  \n",
      "...        ...         ...       ...         ...  \n",
      "3233 -0.040127        0.60      4.10        0.60  \n",
      "3234  0.006601       -0.90      3.20       -0.90  \n",
      "3235  0.114754       -9.90     10.00       -9.90  \n",
      "3236 -0.039216        2.00      5.45        2.00  \n",
      "3237  0.035714       -3.60      6.20       -3.60  \n",
      "\n",
      "[3214 rows x 10 columns]\n",
      "6        45.50\n",
      "7        46.50\n",
      "8        47.50\n",
      "9        47.69\n",
      "10       47.25\n",
      "         ...  \n",
      "3233     90.90\n",
      "3234     91.50\n",
      "3235    102.00\n",
      "3236     98.00\n",
      "3237    101.50\n",
      "Name: Price, Length: 3214, dtype: float64\n"
     ]
    }
   ],
   "source": [
    "#Define x\n",
    "X = dataset.drop(['Date', 'Price', 'Vol.', 'Change %'], axis=1) \n",
    "\n",
    "#Define y\n",
    "y = dataset['Price'] \n",
    "\n",
    "#Display x and y values\n",
    "print(X)\n",
    "print(y)"
   ]
  },
  {
   "cell_type": "markdown",
   "metadata": {},
   "source": [
    "# **Split Train data and Test data**"
   ]
  },
  {
   "cell_type": "code",
   "execution_count": 180,
   "metadata": {
    "ExecuteTime": {
     "end_time": "2023-04-07T10:52:25.510150Z",
     "start_time": "2023-04-07T10:52:24.744202Z"
    }
   },
   "outputs": [],
   "source": [
    "#Import train test split library\n",
    "from sklearn.model_selection import train_test_split\n",
    "\n",
    "#Split train set (80%) and test set (20%)\n",
    "X_train, X_test, y_train, y_test = train_test_split(X, y, test_size=0.2, random_state=0)"
   ]
  },
  {
   "cell_type": "markdown",
   "metadata": {},
   "source": [
    "# **Model Traning**"
   ]
  },
  {
   "cell_type": "code",
   "execution_count": 181,
   "metadata": {
    "ExecuteTime": {
     "end_time": "2023-04-07T10:52:26.466913Z",
     "start_time": "2023-04-07T10:52:25.407901Z"
    }
   },
   "outputs": [
    {
     "data": {
      "text/plain": [
       "DecisionTreeRegressor()"
      ]
     },
     "execution_count": 181,
     "metadata": {},
     "output_type": "execute_result"
    }
   ],
   "source": [
    "#Training the model with decision tree regression\n",
    "from sklearn.tree import DecisionTreeRegressor  \n",
    "regressor = DecisionTreeRegressor()  \n",
    "regressor.fit(X_train, y_train)"
   ]
  },
  {
   "cell_type": "markdown",
   "metadata": {},
   "source": [
    "# **Comparison of Actual Values and Predictions Values**"
   ]
  },
  {
   "cell_type": "code",
   "execution_count": 182,
   "metadata": {
    "ExecuteTime": {
     "end_time": "2023-04-07T10:52:26.492843Z",
     "start_time": "2023-04-07T10:52:25.672767Z"
    }
   },
   "outputs": [],
   "source": [
    "\n",
    "y_pred = regressor.predict(X_test)"
   ]
  },
  {
   "cell_type": "code",
   "execution_count": 183,
   "metadata": {
    "ExecuteTime": {
     "end_time": "2023-04-07T10:52:26.505810Z",
     "start_time": "2023-04-07T10:52:25.799647Z"
    }
   },
   "outputs": [
    {
     "name": "stdout",
     "output_type": "stream",
     "text": [
      "      Actual  Predicted\n",
      "2592    28.5       28.5\n",
      "2224    21.9       22.0\n",
      "313     46.0       46.3\n",
      "843     44.9       44.5\n",
      "2805    33.5       33.8\n",
      "      Actual  Predicted\n",
      "2653    31.0       30.5\n",
      "1523    47.9       47.0\n",
      "2446    30.5       30.8\n",
      "3186    68.0       68.6\n",
      "1571    39.8       39.9\n"
     ]
    }
   ],
   "source": [
    "#Actal values vs predicted values table\n",
    "df = pd.DataFrame({'Actual':y_test, 'Predicted':y_pred})  \n",
    "print(df.head())\n",
    "print(df.tail())"
   ]
  },
  {
   "cell_type": "code",
   "execution_count": 184,
   "metadata": {
    "ExecuteTime": {
     "end_time": "2023-04-07T10:52:26.505810Z",
     "start_time": "2023-04-07T10:52:25.800646Z"
    }
   },
   "outputs": [
    {
     "name": "stdout",
     "output_type": "stream",
     "text": [
      "(643,)\n",
      "(643,)\n"
     ]
    }
   ],
   "source": [
    "print(y_test.shape)\n",
    "print(y_pred.shape)"
   ]
  },
  {
   "cell_type": "markdown",
   "metadata": {},
   "source": [
    "# **Accuracy and Loss Function Values**"
   ]
  },
  {
   "cell_type": "code",
   "execution_count": 185,
   "metadata": {
    "ExecuteTime": {
     "end_time": "2023-04-07T10:52:26.507803Z",
     "start_time": "2023-04-07T10:52:25.801642Z"
    }
   },
   "outputs": [
    {
     "name": "stdout",
     "output_type": "stream",
     "text": [
      "Mean_Absolute_Error(MAE): 0.35979782270606525\n",
      "Mean_Squared_Error(MSE): 0.4319867807153965\n",
      "Root_Mean_Squared_Error(RMSE): 0.6572570126787515\n"
     ]
    }
   ],
   "source": [
    "##Calculating error metrics to analyse model performance\n",
    "from sklearn import metrics  \n",
    "print('Mean_Absolute_Error(MAE):', metrics.mean_absolute_error(y_test, y_pred))  \n",
    "print('Mean_Squared_Error(MSE):', metrics.mean_squared_error(y_test, y_pred))  \n",
    "print('Root_Mean_Squared_Error(RMSE):', np.sqrt(metrics.mean_squared_error(y_test, y_pred)))"
   ]
  },
  {
   "cell_type": "code",
   "execution_count": 186,
   "metadata": {
    "ExecuteTime": {
     "end_time": "2023-04-07T10:52:26.585120Z",
     "start_time": "2023-04-07T10:52:25.860347Z"
    }
   },
   "outputs": [],
   "source": [
    "from sklearn.model_selection import cross_val_score\n",
    "\n",
    "#Cross validate train data with predicted data\n",
    "dt_fit = regressor.fit(X_train, y_train)\n",
    "dt_scores = cross_val_score(dt_fit, X_train, y_train, cv = 5)"
   ]
  },
  {
   "cell_type": "code",
   "execution_count": 187,
   "metadata": {
    "ExecuteTime": {
     "end_time": "2023-04-07T10:52:26.586115Z",
     "start_time": "2023-04-07T10:52:25.981821Z"
    }
   },
   "outputs": [
    {
     "name": "stdout",
     "output_type": "stream",
     "text": [
      "Accuracy score: 0.9963747\n"
     ]
    }
   ],
   "source": [
    "#Display accuracy score\n",
    "print(\"Accuracy score: {:.7f}\".format(regressor.score(X_test, y_test)))"
   ]
  },
  {
   "cell_type": "code",
   "execution_count": null,
   "metadata": {},
   "outputs": [],
   "source": []
  },
  {
   "cell_type": "code",
   "execution_count": null,
   "metadata": {},
   "outputs": [],
   "source": []
  }
 ],
 "metadata": {
  "colab": {
   "collapsed_sections": [
    "oB73Je3vJLd4",
    "gBPn_viWJRzD",
    "iHVTwDHHFVBN",
    "J6eM-Nc5FMHc",
    "--9uMqR-JfPk",
    "cHGwd1kqJvbQ",
    "Fkq1Ua5wJ8bY",
    "FT6JAYcAKEpQ"
   ],
   "name": "Decision_Machine_Learning_For_Stock_Price_Predictio.ipynb",
   "provenance": []
  },
  "interpreter": {
   "hash": "ff4f85d6e04298634172ac5d8264e7e9b556b95639fe52ebb9425c4d4cba0c9c"
  },
  "kernelspec": {
   "display_name": "Python 3 (ipykernel)",
   "language": "python",
   "name": "python3"
  },
  "language_info": {
   "codemirror_mode": {
    "name": "ipython",
    "version": 3
   },
   "file_extension": ".py",
   "mimetype": "text/x-python",
   "name": "python",
   "nbconvert_exporter": "python",
   "pygments_lexer": "ipython3",
   "version": "3.9.12"
  }
 },
 "nbformat": 4,
 "nbformat_minor": 1
}
