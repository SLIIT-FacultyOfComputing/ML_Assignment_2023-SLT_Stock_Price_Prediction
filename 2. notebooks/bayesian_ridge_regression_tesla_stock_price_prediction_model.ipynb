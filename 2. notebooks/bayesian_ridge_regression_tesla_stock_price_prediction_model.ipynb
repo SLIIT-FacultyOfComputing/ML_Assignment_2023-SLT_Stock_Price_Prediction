{
 "cells": [
  {
   "cell_type": "markdown",
   "metadata": {
    "id": "z732hgQ2ciNC"
   },
   "source": [
    "# 📉📊📈**Comparing the Performance of Various Machine Learning Models for Stock Price Prediction**📉📊📈\n"
   ]
  },
  {
   "cell_type": "markdown",
   "metadata": {},
   "source": [
    "Stock price forecasting is a challenging topic compared to other price forecasting cases. Scholars and experts from various fields have studied stock market price forecasts, noting that stocks exhibit random walking behavior with sudden rises and falls. Accurate stock market forecasting can greatly benefit managers, investors, and decision-makers in making informed investment choices. Machine learning techniques, utilizing historical data to identify patterns and predictive models, are commonly employed for stock price prediction."
   ]
  },
  {
   "cell_type": "markdown",
   "metadata": {
    "id": "_a2eB9y0DNSQ"
   },
   "source": [
    "# ✅ **Bayesian Ridge Regression** ✅"
   ]
  },
  {
   "cell_type": "markdown",
   "metadata": {
    "id": "NsKVFf2RPP_q"
   },
   "source": [
    "Bayesian regression is a powerful method for dealing with limited or unevenly distributed data in linear regression. By incorporating probability distributions, it offers greater flexibility and adaptability in modeling uncertainty and variability. This makes Bayesian regression a robust approach for handling challenging data situations and improving the accuracy and reliability of regression models."
   ]
  },
  {
   "cell_type": "markdown",
   "metadata": {
    "id": "TpujELISO5rj"
   },
   "source": [
    "# **Import Libraries**"
   ]
  },
  {
   "cell_type": "code",
   "execution_count": 1,
   "metadata": {
    "ExecuteTime": {
     "end_time": "2023-04-11T16:08:24.038451Z",
     "start_time": "2023-04-11T16:07:39.445495Z"
    },
    "colab": {
     "base_uri": "https://localhost:8080/"
    },
    "id": "6Y5fVwJdHXu7",
    "outputId": "bd35fe21-c22a-4e9c-b030-f430f351b5da"
   },
   "outputs": [
    {
     "name": "stdout",
     "output_type": "stream",
     "text": [
      "Requirement already satisfied: yfinance in c:\\users\\user\\anaconda3\\lib\\site-packages (0.2.14)\n",
      "Requirement already satisfied: pandas>=1.3.0 in c:\\users\\user\\anaconda3\\lib\\site-packages (from yfinance) (1.4.4)\n",
      "Requirement already satisfied: lxml>=4.9.1 in c:\\users\\user\\anaconda3\\lib\\site-packages (from yfinance) (4.9.1)\n",
      "Requirement already satisfied: cryptography>=3.3.2 in c:\\users\\user\\anaconda3\\lib\\site-packages (from yfinance) (37.0.1)\n",
      "Requirement already satisfied: beautifulsoup4>=4.11.1 in c:\\users\\user\\anaconda3\\lib\\site-packages (from yfinance) (4.11.1)\n",
      "Requirement already satisfied: numpy>=1.16.5 in c:\\users\\user\\anaconda3\\lib\\site-packages (from yfinance) (1.21.5)\n",
      "Requirement already satisfied: frozendict>=2.3.4 in c:\\users\\user\\anaconda3\\lib\\site-packages (from yfinance) (2.3.6)\n",
      "Requirement already satisfied: pytz>=2022.5 in c:\\users\\user\\anaconda3\\lib\\site-packages (from yfinance) (2023.3)\n",
      "Requirement already satisfied: html5lib>=1.1 in c:\\users\\user\\anaconda3\\lib\\site-packages (from yfinance) (1.1)\n",
      "Requirement already satisfied: appdirs>=1.4.4 in c:\\users\\user\\anaconda3\\lib\\site-packages (from yfinance) (1.4.4)\n",
      "Requirement already satisfied: requests>=2.26 in c:\\users\\user\\anaconda3\\lib\\site-packages (from yfinance) (2.28.1)\n",
      "Requirement already satisfied: multitasking>=0.0.7 in c:\\users\\user\\anaconda3\\lib\\site-packages (from yfinance) (0.0.11)\n",
      "Requirement already satisfied: soupsieve>1.2 in c:\\users\\user\\anaconda3\\lib\\site-packages (from beautifulsoup4>=4.11.1->yfinance) (2.3.1)\n",
      "Requirement already satisfied: cffi>=1.12 in c:\\users\\user\\anaconda3\\lib\\site-packages (from cryptography>=3.3.2->yfinance) (1.15.1)\n",
      "Requirement already satisfied: webencodings in c:\\users\\user\\anaconda3\\lib\\site-packages (from html5lib>=1.1->yfinance) (0.5.1)\n",
      "Requirement already satisfied: six>=1.9 in c:\\users\\user\\anaconda3\\lib\\site-packages (from html5lib>=1.1->yfinance) (1.16.0)\n",
      "Requirement already satisfied: python-dateutil>=2.8.1 in c:\\users\\user\\anaconda3\\lib\\site-packages (from pandas>=1.3.0->yfinance) (2.8.2)\n",
      "Requirement already satisfied: urllib3<1.27,>=1.21.1 in c:\\users\\user\\anaconda3\\lib\\site-packages (from requests>=2.26->yfinance) (1.26.11)\n",
      "Requirement already satisfied: charset-normalizer<3,>=2 in c:\\users\\user\\anaconda3\\lib\\site-packages (from requests>=2.26->yfinance) (2.0.4)\n",
      "Requirement already satisfied: certifi>=2017.4.17 in c:\\users\\user\\anaconda3\\lib\\site-packages (from requests>=2.26->yfinance) (2022.9.14)\n",
      "Requirement already satisfied: idna<4,>=2.5 in c:\\users\\user\\anaconda3\\lib\\site-packages (from requests>=2.26->yfinance) (3.3)\n",
      "Requirement already satisfied: pycparser in c:\\users\\user\\anaconda3\\lib\\site-packages (from cffi>=1.12->cryptography>=3.3.2->yfinance) (2.21)\n"
     ]
    }
   ],
   "source": [
    "# yahoo_finance is used to fetch data \n",
    "!pip install yfinance"
   ]
  },
  {
   "cell_type": "code",
   "execution_count": 2,
   "metadata": {
    "ExecuteTime": {
     "end_time": "2023-04-11T16:08:24.122743Z",
     "start_time": "2023-04-11T16:07:41.046114Z"
    },
    "id": "esw_1ijlDUqR"
   },
   "outputs": [],
   "source": [
    "# Import Libraries\n",
    "import numpy as np\n",
    "import matplotlib.pyplot as plt\n",
    "import pandas as pd\n",
    "\n",
    "import warnings\n",
    "warnings.filterwarnings(\"ignore\")\n",
    "\n",
    "# yahoo_finance is used to fetch data \n",
    "import yfinance as yf\n",
    "yf.pdr_override()\n",
    "\n",
    "# MATPLOTLIB & SEABORN FOR GRAPH-PLOTTING\n",
    "import matplotlib.pyplot as plt\n",
    "import seaborn as sns\n",
    "%matplotlib inline"
   ]
  },
  {
   "cell_type": "markdown",
   "metadata": {
    "id": "0iy0Y_h6PFlI"
   },
   "source": [
    "# **Load Data into the Data Frame**"
   ]
  },
  {
   "cell_type": "code",
   "execution_count": 3,
   "metadata": {
    "ExecuteTime": {
     "end_time": "2023-04-11T16:08:24.749668Z",
     "start_time": "2023-04-11T16:07:43.646178Z"
    },
    "colab": {
     "base_uri": "https://localhost:8080/",
     "height": 256
    },
    "id": "5CoGrzg-DZ8Q",
    "outputId": "acd42bd1-64f1-4cae-eecb-b85b6bd2df12"
   },
   "outputs": [
    {
     "name": "stdout",
     "output_type": "stream",
     "text": [
      "[*********************100%***********************]  1 of 1 completed\n"
     ]
    },
    {
     "data": {
      "text/html": [
       "<div>\n",
       "<style scoped>\n",
       "    .dataframe tbody tr th:only-of-type {\n",
       "        vertical-align: middle;\n",
       "    }\n",
       "\n",
       "    .dataframe tbody tr th {\n",
       "        vertical-align: top;\n",
       "    }\n",
       "\n",
       "    .dataframe thead th {\n",
       "        text-align: right;\n",
       "    }\n",
       "</style>\n",
       "<table border=\"1\" class=\"dataframe\">\n",
       "  <thead>\n",
       "    <tr style=\"text-align: right;\">\n",
       "      <th></th>\n",
       "      <th>Open</th>\n",
       "      <th>High</th>\n",
       "      <th>Low</th>\n",
       "      <th>Close</th>\n",
       "      <th>Adj Close</th>\n",
       "      <th>Volume</th>\n",
       "    </tr>\n",
       "    <tr>\n",
       "      <th>Date</th>\n",
       "      <th></th>\n",
       "      <th></th>\n",
       "      <th></th>\n",
       "      <th></th>\n",
       "      <th></th>\n",
       "      <th></th>\n",
       "    </tr>\n",
       "  </thead>\n",
       "  <tbody>\n",
       "    <tr>\n",
       "      <th>2010-06-29</th>\n",
       "      <td>1.266667</td>\n",
       "      <td>1.666667</td>\n",
       "      <td>1.169333</td>\n",
       "      <td>1.592667</td>\n",
       "      <td>1.592667</td>\n",
       "      <td>281494500</td>\n",
       "    </tr>\n",
       "    <tr>\n",
       "      <th>2010-06-30</th>\n",
       "      <td>1.719333</td>\n",
       "      <td>2.028000</td>\n",
       "      <td>1.553333</td>\n",
       "      <td>1.588667</td>\n",
       "      <td>1.588667</td>\n",
       "      <td>257806500</td>\n",
       "    </tr>\n",
       "    <tr>\n",
       "      <th>2010-07-01</th>\n",
       "      <td>1.666667</td>\n",
       "      <td>1.728000</td>\n",
       "      <td>1.351333</td>\n",
       "      <td>1.464000</td>\n",
       "      <td>1.464000</td>\n",
       "      <td>123282000</td>\n",
       "    </tr>\n",
       "    <tr>\n",
       "      <th>2010-07-02</th>\n",
       "      <td>1.533333</td>\n",
       "      <td>1.540000</td>\n",
       "      <td>1.247333</td>\n",
       "      <td>1.280000</td>\n",
       "      <td>1.280000</td>\n",
       "      <td>77097000</td>\n",
       "    </tr>\n",
       "    <tr>\n",
       "      <th>2010-07-06</th>\n",
       "      <td>1.333333</td>\n",
       "      <td>1.333333</td>\n",
       "      <td>1.055333</td>\n",
       "      <td>1.074000</td>\n",
       "      <td>1.074000</td>\n",
       "      <td>103003500</td>\n",
       "    </tr>\n",
       "  </tbody>\n",
       "</table>\n",
       "</div>"
      ],
      "text/plain": [
       "                Open      High       Low     Close  Adj Close     Volume\n",
       "Date                                                                    \n",
       "2010-06-29  1.266667  1.666667  1.169333  1.592667   1.592667  281494500\n",
       "2010-06-30  1.719333  2.028000  1.553333  1.588667   1.588667  257806500\n",
       "2010-07-01  1.666667  1.728000  1.351333  1.464000   1.464000  123282000\n",
       "2010-07-02  1.533333  1.540000  1.247333  1.280000   1.280000   77097000\n",
       "2010-07-06  1.333333  1.333333  1.055333  1.074000   1.074000  103003500"
      ]
     },
     "execution_count": 3,
     "metadata": {},
     "output_type": "execute_result"
    }
   ],
   "source": [
    "# input\n",
    "symbol = 'TSLA'\n",
    "start = '2010-01-01'\n",
    "end = '2021-12-31'\n",
    "\n",
    "# Read data \n",
    "dataset = yf.download(symbol,start,end)\n",
    "\n",
    "# View Columns\n",
    "dataset.head()"
   ]
  },
  {
   "cell_type": "markdown",
   "metadata": {
    "id": "PfhSdNG-LbK7"
   },
   "source": [
    "# **Data Preprocessing**"
   ]
  },
  {
   "cell_type": "code",
   "execution_count": 4,
   "metadata": {
    "ExecuteTime": {
     "end_time": "2023-04-11T16:08:24.864885Z",
     "start_time": "2023-04-11T16:07:44.004050Z"
    },
    "colab": {
     "base_uri": "https://localhost:8080/",
     "height": 237
    },
    "id": "_wgsJOb8DcAJ",
    "outputId": "85029f5f-f62b-4011-c6fb-efe784db74b3"
   },
   "outputs": [
    {
     "data": {
      "text/html": [
       "<div>\n",
       "<style scoped>\n",
       "    .dataframe tbody tr th:only-of-type {\n",
       "        vertical-align: middle;\n",
       "    }\n",
       "\n",
       "    .dataframe tbody tr th {\n",
       "        vertical-align: top;\n",
       "    }\n",
       "\n",
       "    .dataframe thead th {\n",
       "        text-align: right;\n",
       "    }\n",
       "</style>\n",
       "<table border=\"1\" class=\"dataframe\">\n",
       "  <thead>\n",
       "    <tr style=\"text-align: right;\">\n",
       "      <th></th>\n",
       "      <th>Open</th>\n",
       "      <th>High</th>\n",
       "      <th>Low</th>\n",
       "      <th>Close</th>\n",
       "      <th>Adj Close</th>\n",
       "      <th>Volume</th>\n",
       "      <th>Increase_Decrease</th>\n",
       "      <th>Buy_Sell_on_Open</th>\n",
       "      <th>Buy_Sell</th>\n",
       "      <th>Returns</th>\n",
       "    </tr>\n",
       "    <tr>\n",
       "      <th>Date</th>\n",
       "      <th></th>\n",
       "      <th></th>\n",
       "      <th></th>\n",
       "      <th></th>\n",
       "      <th></th>\n",
       "      <th></th>\n",
       "      <th></th>\n",
       "      <th></th>\n",
       "      <th></th>\n",
       "      <th></th>\n",
       "    </tr>\n",
       "  </thead>\n",
       "  <tbody>\n",
       "    <tr>\n",
       "      <th>2010-06-30</th>\n",
       "      <td>1.719333</td>\n",
       "      <td>2.028000</td>\n",
       "      <td>1.553333</td>\n",
       "      <td>1.588667</td>\n",
       "      <td>1.588667</td>\n",
       "      <td>257806500</td>\n",
       "      <td>0</td>\n",
       "      <td>0</td>\n",
       "      <td>0</td>\n",
       "      <td>-0.002511</td>\n",
       "    </tr>\n",
       "    <tr>\n",
       "      <th>2010-07-01</th>\n",
       "      <td>1.666667</td>\n",
       "      <td>1.728000</td>\n",
       "      <td>1.351333</td>\n",
       "      <td>1.464000</td>\n",
       "      <td>1.464000</td>\n",
       "      <td>123282000</td>\n",
       "      <td>0</td>\n",
       "      <td>0</td>\n",
       "      <td>0</td>\n",
       "      <td>-0.078473</td>\n",
       "    </tr>\n",
       "    <tr>\n",
       "      <th>2010-07-02</th>\n",
       "      <td>1.533333</td>\n",
       "      <td>1.540000</td>\n",
       "      <td>1.247333</td>\n",
       "      <td>1.280000</td>\n",
       "      <td>1.280000</td>\n",
       "      <td>77097000</td>\n",
       "      <td>1</td>\n",
       "      <td>0</td>\n",
       "      <td>0</td>\n",
       "      <td>-0.125683</td>\n",
       "    </tr>\n",
       "    <tr>\n",
       "      <th>2010-07-06</th>\n",
       "      <td>1.333333</td>\n",
       "      <td>1.333333</td>\n",
       "      <td>1.055333</td>\n",
       "      <td>1.074000</td>\n",
       "      <td>1.074000</td>\n",
       "      <td>103003500</td>\n",
       "      <td>1</td>\n",
       "      <td>0</td>\n",
       "      <td>0</td>\n",
       "      <td>-0.160937</td>\n",
       "    </tr>\n",
       "    <tr>\n",
       "      <th>2010-07-07</th>\n",
       "      <td>1.093333</td>\n",
       "      <td>1.108667</td>\n",
       "      <td>0.998667</td>\n",
       "      <td>1.053333</td>\n",
       "      <td>1.053333</td>\n",
       "      <td>103825500</td>\n",
       "      <td>1</td>\n",
       "      <td>0</td>\n",
       "      <td>1</td>\n",
       "      <td>-0.019243</td>\n",
       "    </tr>\n",
       "  </tbody>\n",
       "</table>\n",
       "</div>"
      ],
      "text/plain": [
       "                Open      High       Low     Close  Adj Close     Volume  \\\n",
       "Date                                                                       \n",
       "2010-06-30  1.719333  2.028000  1.553333  1.588667   1.588667  257806500   \n",
       "2010-07-01  1.666667  1.728000  1.351333  1.464000   1.464000  123282000   \n",
       "2010-07-02  1.533333  1.540000  1.247333  1.280000   1.280000   77097000   \n",
       "2010-07-06  1.333333  1.333333  1.055333  1.074000   1.074000  103003500   \n",
       "2010-07-07  1.093333  1.108667  0.998667  1.053333   1.053333  103825500   \n",
       "\n",
       "            Increase_Decrease  Buy_Sell_on_Open  Buy_Sell   Returns  \n",
       "Date                                                                 \n",
       "2010-06-30                  0                 0         0 -0.002511  \n",
       "2010-07-01                  0                 0         0 -0.078473  \n",
       "2010-07-02                  1                 0         0 -0.125683  \n",
       "2010-07-06                  1                 0         0 -0.160937  \n",
       "2010-07-07                  1                 0         1 -0.019243  "
      ]
     },
     "execution_count": 4,
     "metadata": {},
     "output_type": "execute_result"
    }
   ],
   "source": [
    "dataset['Increase_Decrease'] = np.where(dataset['Volume'].shift(-1) > dataset['Volume'],1,0)\n",
    "dataset['Buy_Sell_on_Open'] = np.where(dataset['Open'].shift(-1) > dataset['Open'],1,0)\n",
    "dataset['Buy_Sell'] = np.where(dataset['Adj Close'].shift(-1) > dataset['Adj Close'],1,0)\n",
    "dataset['Returns'] = dataset['Adj Close'].pct_change()\n",
    "dataset = dataset.dropna()\n",
    "dataset.head()"
   ]
  },
  {
   "cell_type": "code",
   "execution_count": 5,
   "metadata": {
    "ExecuteTime": {
     "end_time": "2023-04-11T16:08:25.351226Z",
     "start_time": "2023-04-11T16:07:44.079367Z"
    },
    "colab": {
     "base_uri": "https://localhost:8080/",
     "height": 455
    },
    "id": "hXkGI25cPM6X",
    "outputId": "030ff17f-0023-47a6-894f-7b625d798168"
   },
   "outputs": [
    {
     "data": {
      "text/html": [
       "<div>\n",
       "<style scoped>\n",
       "    .dataframe tbody tr th:only-of-type {\n",
       "        vertical-align: middle;\n",
       "    }\n",
       "\n",
       "    .dataframe tbody tr th {\n",
       "        vertical-align: top;\n",
       "    }\n",
       "\n",
       "    .dataframe thead th {\n",
       "        text-align: right;\n",
       "    }\n",
       "</style>\n",
       "<table border=\"1\" class=\"dataframe\">\n",
       "  <thead>\n",
       "    <tr style=\"text-align: right;\">\n",
       "      <th></th>\n",
       "      <th>Open</th>\n",
       "      <th>High</th>\n",
       "      <th>Low</th>\n",
       "      <th>Close</th>\n",
       "      <th>Adj Close</th>\n",
       "      <th>Volume</th>\n",
       "      <th>Increase_Decrease</th>\n",
       "      <th>Buy_Sell_on_Open</th>\n",
       "      <th>Buy_Sell</th>\n",
       "      <th>Returns</th>\n",
       "    </tr>\n",
       "    <tr>\n",
       "      <th>Date</th>\n",
       "      <th></th>\n",
       "      <th></th>\n",
       "      <th></th>\n",
       "      <th></th>\n",
       "      <th></th>\n",
       "      <th></th>\n",
       "      <th></th>\n",
       "      <th></th>\n",
       "      <th></th>\n",
       "      <th></th>\n",
       "    </tr>\n",
       "  </thead>\n",
       "  <tbody>\n",
       "    <tr>\n",
       "      <th>2010-06-30</th>\n",
       "      <td>1.719333</td>\n",
       "      <td>2.028000</td>\n",
       "      <td>1.553333</td>\n",
       "      <td>1.588667</td>\n",
       "      <td>1.588667</td>\n",
       "      <td>257806500</td>\n",
       "      <td>0</td>\n",
       "      <td>0</td>\n",
       "      <td>0</td>\n",
       "      <td>-0.002511</td>\n",
       "    </tr>\n",
       "    <tr>\n",
       "      <th>2010-07-01</th>\n",
       "      <td>1.666667</td>\n",
       "      <td>1.728000</td>\n",
       "      <td>1.351333</td>\n",
       "      <td>1.464000</td>\n",
       "      <td>1.464000</td>\n",
       "      <td>123282000</td>\n",
       "      <td>0</td>\n",
       "      <td>0</td>\n",
       "      <td>0</td>\n",
       "      <td>-0.078473</td>\n",
       "    </tr>\n",
       "    <tr>\n",
       "      <th>2010-07-02</th>\n",
       "      <td>1.533333</td>\n",
       "      <td>1.540000</td>\n",
       "      <td>1.247333</td>\n",
       "      <td>1.280000</td>\n",
       "      <td>1.280000</td>\n",
       "      <td>77097000</td>\n",
       "      <td>1</td>\n",
       "      <td>0</td>\n",
       "      <td>0</td>\n",
       "      <td>-0.125683</td>\n",
       "    </tr>\n",
       "    <tr>\n",
       "      <th>2010-07-06</th>\n",
       "      <td>1.333333</td>\n",
       "      <td>1.333333</td>\n",
       "      <td>1.055333</td>\n",
       "      <td>1.074000</td>\n",
       "      <td>1.074000</td>\n",
       "      <td>103003500</td>\n",
       "      <td>1</td>\n",
       "      <td>0</td>\n",
       "      <td>0</td>\n",
       "      <td>-0.160937</td>\n",
       "    </tr>\n",
       "    <tr>\n",
       "      <th>2010-07-07</th>\n",
       "      <td>1.093333</td>\n",
       "      <td>1.108667</td>\n",
       "      <td>0.998667</td>\n",
       "      <td>1.053333</td>\n",
       "      <td>1.053333</td>\n",
       "      <td>103825500</td>\n",
       "      <td>1</td>\n",
       "      <td>0</td>\n",
       "      <td>1</td>\n",
       "      <td>-0.019243</td>\n",
       "    </tr>\n",
       "    <tr>\n",
       "      <th>...</th>\n",
       "      <td>...</td>\n",
       "      <td>...</td>\n",
       "      <td>...</td>\n",
       "      <td>...</td>\n",
       "      <td>...</td>\n",
       "      <td>...</td>\n",
       "      <td>...</td>\n",
       "      <td>...</td>\n",
       "      <td>...</td>\n",
       "      <td>...</td>\n",
       "    </tr>\n",
       "    <tr>\n",
       "      <th>2021-12-23</th>\n",
       "      <td>335.600006</td>\n",
       "      <td>357.660004</td>\n",
       "      <td>332.519989</td>\n",
       "      <td>355.666656</td>\n",
       "      <td>355.666656</td>\n",
       "      <td>92713200</td>\n",
       "      <td>0</td>\n",
       "      <td>1</td>\n",
       "      <td>1</td>\n",
       "      <td>0.057619</td>\n",
       "    </tr>\n",
       "    <tr>\n",
       "      <th>2021-12-27</th>\n",
       "      <td>357.890015</td>\n",
       "      <td>372.333344</td>\n",
       "      <td>356.906677</td>\n",
       "      <td>364.646667</td>\n",
       "      <td>364.646667</td>\n",
       "      <td>71145900</td>\n",
       "      <td>0</td>\n",
       "      <td>1</td>\n",
       "      <td>0</td>\n",
       "      <td>0.025248</td>\n",
       "    </tr>\n",
       "    <tr>\n",
       "      <th>2021-12-28</th>\n",
       "      <td>369.829987</td>\n",
       "      <td>373.000000</td>\n",
       "      <td>359.473328</td>\n",
       "      <td>362.823334</td>\n",
       "      <td>362.823334</td>\n",
       "      <td>60324000</td>\n",
       "      <td>0</td>\n",
       "      <td>0</td>\n",
       "      <td>0</td>\n",
       "      <td>-0.005000</td>\n",
       "    </tr>\n",
       "    <tr>\n",
       "      <th>2021-12-29</th>\n",
       "      <td>366.213318</td>\n",
       "      <td>368.000000</td>\n",
       "      <td>354.713318</td>\n",
       "      <td>362.063324</td>\n",
       "      <td>362.063324</td>\n",
       "      <td>56154000</td>\n",
       "      <td>0</td>\n",
       "      <td>0</td>\n",
       "      <td>0</td>\n",
       "      <td>-0.002095</td>\n",
       "    </tr>\n",
       "    <tr>\n",
       "      <th>2021-12-30</th>\n",
       "      <td>353.776672</td>\n",
       "      <td>365.183319</td>\n",
       "      <td>351.049988</td>\n",
       "      <td>356.779999</td>\n",
       "      <td>356.779999</td>\n",
       "      <td>47040900</td>\n",
       "      <td>0</td>\n",
       "      <td>0</td>\n",
       "      <td>0</td>\n",
       "      <td>-0.014592</td>\n",
       "    </tr>\n",
       "  </tbody>\n",
       "</table>\n",
       "<p>2897 rows × 10 columns</p>\n",
       "</div>"
      ],
      "text/plain": [
       "                  Open        High         Low       Close   Adj Close  \\\n",
       "Date                                                                     \n",
       "2010-06-30    1.719333    2.028000    1.553333    1.588667    1.588667   \n",
       "2010-07-01    1.666667    1.728000    1.351333    1.464000    1.464000   \n",
       "2010-07-02    1.533333    1.540000    1.247333    1.280000    1.280000   \n",
       "2010-07-06    1.333333    1.333333    1.055333    1.074000    1.074000   \n",
       "2010-07-07    1.093333    1.108667    0.998667    1.053333    1.053333   \n",
       "...                ...         ...         ...         ...         ...   \n",
       "2021-12-23  335.600006  357.660004  332.519989  355.666656  355.666656   \n",
       "2021-12-27  357.890015  372.333344  356.906677  364.646667  364.646667   \n",
       "2021-12-28  369.829987  373.000000  359.473328  362.823334  362.823334   \n",
       "2021-12-29  366.213318  368.000000  354.713318  362.063324  362.063324   \n",
       "2021-12-30  353.776672  365.183319  351.049988  356.779999  356.779999   \n",
       "\n",
       "               Volume  Increase_Decrease  Buy_Sell_on_Open  Buy_Sell   Returns  \n",
       "Date                                                                            \n",
       "2010-06-30  257806500                  0                 0         0 -0.002511  \n",
       "2010-07-01  123282000                  0                 0         0 -0.078473  \n",
       "2010-07-02   77097000                  1                 0         0 -0.125683  \n",
       "2010-07-06  103003500                  1                 0         0 -0.160937  \n",
       "2010-07-07  103825500                  1                 0         1 -0.019243  \n",
       "...               ...                ...               ...       ...       ...  \n",
       "2021-12-23   92713200                  0                 1         1  0.057619  \n",
       "2021-12-27   71145900                  0                 1         0  0.025248  \n",
       "2021-12-28   60324000                  0                 0         0 -0.005000  \n",
       "2021-12-29   56154000                  0                 0         0 -0.002095  \n",
       "2021-12-30   47040900                  0                 0         0 -0.014592  \n",
       "\n",
       "[2897 rows x 10 columns]"
      ]
     },
     "execution_count": 5,
     "metadata": {},
     "output_type": "execute_result"
    }
   ],
   "source": [
    "#View Dataset\n",
    "dataset"
   ]
  },
  {
   "cell_type": "markdown",
   "metadata": {
    "id": "85myMwfHLgc0"
   },
   "source": [
    "# **Dataset Cleaning and Null Value Testing**"
   ]
  },
  {
   "cell_type": "code",
   "execution_count": 6,
   "metadata": {
    "ExecuteTime": {
     "end_time": "2023-04-11T16:08:25.524133Z",
     "start_time": "2023-04-11T16:07:44.079367Z"
    },
    "colab": {
     "base_uri": "https://localhost:8080/"
    },
    "id": "h0UtWEn_PZDP",
    "outputId": "f328b615-231c-4499-84d5-7b20f65b636e"
   },
   "outputs": [
    {
     "data": {
      "text/plain": [
       "Open                 0\n",
       "High                 0\n",
       "Low                  0\n",
       "Close                0\n",
       "Adj Close            0\n",
       "Volume               0\n",
       "Increase_Decrease    0\n",
       "Buy_Sell_on_Open     0\n",
       "Buy_Sell             0\n",
       "Returns              0\n",
       "dtype: int64"
      ]
     },
     "execution_count": 6,
     "metadata": {},
     "output_type": "execute_result"
    }
   ],
   "source": [
    "# See how many null values in each column\n",
    "\n",
    "dataset.isnull().sum()"
   ]
  },
  {
   "cell_type": "code",
   "execution_count": 7,
   "metadata": {
    "ExecuteTime": {
     "end_time": "2023-04-11T16:08:26.838556Z",
     "start_time": "2023-04-11T16:07:50.465916Z"
    },
    "colab": {
     "base_uri": "https://localhost:8080/",
     "height": 349
    },
    "id": "M3fRoI0fPbVd",
    "outputId": "771a95f6-5816-419d-b1f1-eb84f8de72a5"
   },
   "outputs": [
    {
     "data": {
      "image/png": "[encoded data removed]",
      "text/plain": [
       "<Figure size 1200x400 with 1 Axes>"
      ]
     },
     "metadata": {},
     "output_type": "display_data"
    }
   ],
   "source": [
    "plt.figure(figsize=(12,4))\n",
    "sns.heatmap(dataset.isnull(), yticklabels=False,cbar=False,cmap='viridis')\n",
    "plt.savefig(\"Figure 1: Heatmap for Null Values\")"
   ]
  },
  {
   "cell_type": "markdown",
   "metadata": {
    "id": "0eUVLRjrPPZk"
   },
   "source": [
    "# **Analyze the Data**"
   ]
  },
  {
   "cell_type": "code",
   "execution_count": 8,
   "metadata": {
    "ExecuteTime": {
     "end_time": "2023-04-11T16:08:26.870471Z",
     "start_time": "2023-04-11T16:07:50.658435Z"
    },
    "colab": {
     "base_uri": "https://localhost:8080/"
    },
    "id": "GSUBDs3QDdjp",
    "outputId": "ca96cb32-198a-41fd-8c51-35ea820400bb"
   },
   "outputs": [
    {
     "data": {
      "text/plain": [
       "(2897, 10)"
      ]
     },
     "execution_count": 8,
     "metadata": {},
     "output_type": "execute_result"
    }
   ],
   "source": [
    "# see number of rows, number of columns\n",
    "dataset.shape"
   ]
  },
  {
   "cell_type": "code",
   "execution_count": 9,
   "metadata": {
    "ExecuteTime": {
     "end_time": "2023-04-11T16:08:26.871470Z",
     "start_time": "2023-04-11T16:07:50.671401Z"
    },
    "colab": {
     "base_uri": "https://localhost:8080/"
    },
    "id": "7BXkRX5oPTr4",
    "outputId": "cf05a34a-95bf-4ca1-a8c7-e789192a6d53"
   },
   "outputs": [
    {
     "name": "stdout",
     "output_type": "stream",
     "text": [
      "Total number of records =  28970\n"
     ]
    }
   ],
   "source": [
    "#TOTAL NUMBER OF RECORDS\n",
    "dataset.size\n",
    "print(\"Total number of records = \",dataset.size)"
   ]
  },
  {
   "cell_type": "markdown",
   "metadata": {},
   "source": []
  },
  {
   "cell_type": "code",
   "execution_count": 10,
   "metadata": {
    "ExecuteTime": {
     "end_time": "2023-04-11T16:08:26.872467Z",
     "start_time": "2023-04-11T16:07:50.706309Z"
    },
    "colab": {
     "base_uri": "https://localhost:8080/"
    },
    "id": "A8oT4uzIPVhD",
    "outputId": "48ecc24f-dce3-40ec-80aa-70538aee967e"
   },
   "outputs": [
    {
     "data": {
      "text/plain": [
       "Index(['Open', 'High', 'Low', 'Close', 'Adj Close', 'Volume',\n",
       "       'Increase_Decrease', 'Buy_Sell_on_Open', 'Buy_Sell', 'Returns'],\n",
       "      dtype='object')"
      ]
     },
     "execution_count": 10,
     "metadata": {},
     "output_type": "execute_result"
    }
   ],
   "source": [
    "# see columns names\n",
    "\n",
    "dataset.columns"
   ]
  },
  {
   "cell_type": "code",
   "execution_count": 11,
   "metadata": {
    "ExecuteTime": {
     "end_time": "2023-04-11T16:08:26.872467Z",
     "start_time": "2023-04-11T16:07:50.707306Z"
    },
    "colab": {
     "base_uri": "https://localhost:8080/"
    },
    "id": "f5la7x-EPXIh",
    "outputId": "ca3d2834-f902-4d00-d9a7-184459557847"
   },
   "outputs": [
    {
     "name": "stdout",
     "output_type": "stream",
     "text": [
      "<class 'pandas.core.frame.DataFrame'>\n",
      "DatetimeIndex: 2897 entries, 2010-06-30 to 2021-12-30\n",
      "Data columns (total 10 columns):\n",
      " #   Column             Non-Null Count  Dtype  \n",
      "---  ------             --------------  -----  \n",
      " 0   Open               2897 non-null   float64\n",
      " 1   High               2897 non-null   float64\n",
      " 2   Low                2897 non-null   float64\n",
      " 3   Close              2897 non-null   float64\n",
      " 4   Adj Close          2897 non-null   float64\n",
      " 5   Volume             2897 non-null   int64  \n",
      " 6   Increase_Decrease  2897 non-null   int32  \n",
      " 7   Buy_Sell_on_Open   2897 non-null   int32  \n",
      " 8   Buy_Sell           2897 non-null   int32  \n",
      " 9   Returns            2897 non-null   float64\n",
      "dtypes: float64(6), int32(3), int64(1)\n",
      "memory usage: 215.0 KB\n"
     ]
    }
   ],
   "source": [
    "#View Data Info\n",
    "dataset.info()"
   ]
  },
  {
   "cell_type": "code",
   "execution_count": 239,
   "metadata": {
    "ExecuteTime": {
     "end_time": "2023-04-11T16:08:37.199281Z",
     "start_time": "2023-04-11T16:08:03.853687Z"
    },
    "colab": {
     "base_uri": "https://localhost:8080/",
     "height": 1000
    },
    "id": "B3XfaNuvPdMz",
    "outputId": "c262485b-3fc4-46d1-86e5-94ad75ba2459"
   },
   "outputs": [
    {
     "data": {
      "text/plain": [
       "array([[<AxesSubplot:title={'center':'Open'}>,\n",
       "        <AxesSubplot:title={'center':'High'}>,\n",
       "        <AxesSubplot:title={'center':'Low'}>],\n",
       "       [<AxesSubplot:title={'center':'Close'}>,\n",
       "        <AxesSubplot:title={'center':'Adj Close'}>,\n",
       "        <AxesSubplot:title={'center':'Volume'}>],\n",
       "       [<AxesSubplot:title={'center':'Increase_Decrease'}>,\n",
       "        <AxesSubplot:title={'center':'Buy_Sell_on_Open'}>,\n",
       "        <AxesSubplot:title={'center':'Buy_Sell'}>],\n",
       "       [<AxesSubplot:title={'center':'Returns'}>, <AxesSubplot:>,\n",
       "        <AxesSubplot:>]], dtype=object)"
      ]
     },
     "execution_count": 214,
     "metadata": {},
     "output_type": "execute_result"
    },
    {
     "data": {
      "image/png": "[encoded data removed]",
      "text/plain": [
       "<Figure size 1500x1500 with 12 Axes>"
      ]
     },
     "metadata": {},
     "output_type": "display_data"
    },
    {
     "data": {
      "text/plain": [
       "array([[<AxesSubplot:title={'center':'Open'}>,\n",
       "        <AxesSubplot:title={'center':'High'}>,\n",
       "        <AxesSubplot:title={'center':'Low'}>],\n",
       "       [<AxesSubplot:title={'center':'Close'}>,\n",
       "        <AxesSubplot:title={'center':'Adj Close'}>,\n",
       "        <AxesSubplot:title={'center':'Volume'}>],\n",
       "       [<AxesSubplot:title={'center':'Increase_Decrease'}>,\n",
       "        <AxesSubplot:title={'center':'Buy_Sell_on_Open'}>,\n",
       "        <AxesSubplot:title={'center':'Buy_Sell'}>],\n",
       "       [<AxesSubplot:title={'center':'Returns'}>, <AxesSubplot:>,\n",
       "        <AxesSubplot:>]], dtype=object)"
      ]
     },
     "execution_count": 239,
     "metadata": {},
     "output_type": "execute_result"
    },
    {
     "data": {
      "image/png": "[encoded data removed]",
      "text/plain": [
       "<Figure size 1500x1500 with 12 Axes>"
      ]
     },
     "metadata": {},
     "output_type": "display_data"
    }
   ],
   "source": [
    "# Histogram per each numerical column\n",
    "\n",
    "dataset.hist(figsize=(15, 15))"
   ]
  },
  {
   "cell_type": "code",
   "execution_count": 240,
   "metadata": {
    "ExecuteTime": {
     "end_time": "2023-04-11T16:08:37.200281Z",
     "start_time": "2023-04-11T16:08:04.292764Z"
    },
    "colab": {
     "base_uri": "https://localhost:8080/",
     "height": 300
    },
    "id": "lKWPar17PfaG",
    "outputId": "b7246998-36e1-4b5d-cc4b-e045fe3679ce"
   },
   "outputs": [
    {
     "data": {
      "text/html": [
       "<div>\n",
       "<style scoped>\n",
       "    .dataframe tbody tr th:only-of-type {\n",
       "        vertical-align: middle;\n",
       "    }\n",
       "\n",
       "    .dataframe tbody tr th {\n",
       "        vertical-align: top;\n",
       "    }\n",
       "\n",
       "    .dataframe thead th {\n",
       "        text-align: right;\n",
       "    }\n",
       "</style>\n",
       "<table border=\"1\" class=\"dataframe\">\n",
       "  <thead>\n",
       "    <tr style=\"text-align: right;\">\n",
       "      <th></th>\n",
       "      <th>Open</th>\n",
       "      <th>High</th>\n",
       "      <th>Low</th>\n",
       "      <th>Close</th>\n",
       "      <th>Adj Close</th>\n",
       "      <th>Volume</th>\n",
       "      <th>Increase_Decrease</th>\n",
       "      <th>Buy_Sell_on_Open</th>\n",
       "      <th>Buy_Sell</th>\n",
       "      <th>Returns</th>\n",
       "    </tr>\n",
       "  </thead>\n",
       "  <tbody>\n",
       "    <tr>\n",
       "      <th>count</th>\n",
       "      <td>2897.000000</td>\n",
       "      <td>2897.000000</td>\n",
       "      <td>2897.000000</td>\n",
       "      <td>2897.000000</td>\n",
       "      <td>2897.000000</td>\n",
       "      <td>2.897000e+03</td>\n",
       "      <td>2897.000000</td>\n",
       "      <td>2897.000000</td>\n",
       "      <td>2897.000000</td>\n",
       "      <td>2897.000000</td>\n",
       "    </tr>\n",
       "    <tr>\n",
       "      <th>mean</th>\n",
       "      <td>40.991990</td>\n",
       "      <td>41.864614</td>\n",
       "      <td>40.070170</td>\n",
       "      <td>41.026370</td>\n",
       "      <td>41.026370</td>\n",
       "      <td>9.412698e+07</td>\n",
       "      <td>0.468416</td>\n",
       "      <td>0.522610</td>\n",
       "      <td>0.518467</td>\n",
       "      <td>0.002492</td>\n",
       "    </tr>\n",
       "    <tr>\n",
       "      <th>std</th>\n",
       "      <td>75.216736</td>\n",
       "      <td>76.864317</td>\n",
       "      <td>73.460727</td>\n",
       "      <td>75.298005</td>\n",
       "      <td>75.298005</td>\n",
       "      <td>8.464854e+07</td>\n",
       "      <td>0.499088</td>\n",
       "      <td>0.499575</td>\n",
       "      <td>0.499745</td>\n",
       "      <td>0.035398</td>\n",
       "    </tr>\n",
       "    <tr>\n",
       "      <th>min</th>\n",
       "      <td>1.076000</td>\n",
       "      <td>1.108667</td>\n",
       "      <td>0.998667</td>\n",
       "      <td>1.053333</td>\n",
       "      <td>1.053333</td>\n",
       "      <td>1.777500e+06</td>\n",
       "      <td>0.000000</td>\n",
       "      <td>0.000000</td>\n",
       "      <td>0.000000</td>\n",
       "      <td>-0.210628</td>\n",
       "    </tr>\n",
       "    <tr>\n",
       "      <th>25%</th>\n",
       "      <td>5.758000</td>\n",
       "      <td>6.064000</td>\n",
       "      <td>5.536667</td>\n",
       "      <td>5.839333</td>\n",
       "      <td>5.839333</td>\n",
       "      <td>3.852750e+07</td>\n",
       "      <td>0.000000</td>\n",
       "      <td>0.000000</td>\n",
       "      <td>0.000000</td>\n",
       "      <td>-0.014816</td>\n",
       "    </tr>\n",
       "    <tr>\n",
       "      <th>50%</th>\n",
       "      <td>15.381333</td>\n",
       "      <td>15.652000</td>\n",
       "      <td>15.140667</td>\n",
       "      <td>15.374000</td>\n",
       "      <td>15.374000</td>\n",
       "      <td>7.448250e+07</td>\n",
       "      <td>0.000000</td>\n",
       "      <td>1.000000</td>\n",
       "      <td>1.000000</td>\n",
       "      <td>0.001261</td>\n",
       "    </tr>\n",
       "    <tr>\n",
       "      <th>75%</th>\n",
       "      <td>22.210667</td>\n",
       "      <td>22.653999</td>\n",
       "      <td>21.816668</td>\n",
       "      <td>22.257999</td>\n",
       "      <td>22.257999</td>\n",
       "      <td>1.199796e+08</td>\n",
       "      <td>1.000000</td>\n",
       "      <td>1.000000</td>\n",
       "      <td>1.000000</td>\n",
       "      <td>0.019175</td>\n",
       "    </tr>\n",
       "    <tr>\n",
       "      <th>max</th>\n",
       "      <td>411.470001</td>\n",
       "      <td>414.496674</td>\n",
       "      <td>405.666656</td>\n",
       "      <td>409.970001</td>\n",
       "      <td>409.970001</td>\n",
       "      <td>9.140820e+08</td>\n",
       "      <td>1.000000</td>\n",
       "      <td>1.000000</td>\n",
       "      <td>1.000000</td>\n",
       "      <td>0.243951</td>\n",
       "    </tr>\n",
       "  </tbody>\n",
       "</table>\n",
       "</div>"
      ],
      "text/plain": [
       "              Open         High          Low        Close    Adj Close  \\\n",
       "count  2897.000000  2897.000000  2897.000000  2897.000000  2897.000000   \n",
       "mean     40.991990    41.864614    40.070170    41.026370    41.026370   \n",
       "std      75.216736    76.864317    73.460727    75.298005    75.298005   \n",
       "min       1.076000     1.108667     0.998667     1.053333     1.053333   \n",
       "25%       5.758000     6.064000     5.536667     5.839333     5.839333   \n",
       "50%      15.381333    15.652000    15.140667    15.374000    15.374000   \n",
       "75%      22.210667    22.653999    21.816668    22.257999    22.257999   \n",
       "max     411.470001   414.496674   405.666656   409.970001   409.970001   \n",
       "\n",
       "             Volume  Increase_Decrease  Buy_Sell_on_Open     Buy_Sell  \\\n",
       "count  2.897000e+03        2897.000000       2897.000000  2897.000000   \n",
       "mean   9.412698e+07           0.468416          0.522610     0.518467   \n",
       "std    8.464854e+07           0.499088          0.499575     0.499745   \n",
       "min    1.777500e+06           0.000000          0.000000     0.000000   \n",
       "25%    3.852750e+07           0.000000          0.000000     0.000000   \n",
       "50%    7.448250e+07           0.000000          1.000000     1.000000   \n",
       "75%    1.199796e+08           1.000000          1.000000     1.000000   \n",
       "max    9.140820e+08           1.000000          1.000000     1.000000   \n",
       "\n",
       "           Returns  \n",
       "count  2897.000000  \n",
       "mean      0.002492  \n",
       "std       0.035398  \n",
       "min      -0.210628  \n",
       "25%      -0.014816  \n",
       "50%       0.001261  \n",
       "75%       0.019175  \n",
       "max       0.243951  "
      ]
     },
     "execution_count": 215,
     "metadata": {},
     "output_type": "execute_result"
    },
    {
     "data": {
      "text/html": [
       "<div>\n",
       "<style scoped>\n",
       "    .dataframe tbody tr th:only-of-type {\n",
       "        vertical-align: middle;\n",
       "    }\n",
       "\n",
       "    .dataframe tbody tr th {\n",
       "        vertical-align: top;\n",
       "    }\n",
       "\n",
       "    .dataframe thead th {\n",
       "        text-align: right;\n",
       "    }\n",
       "</style>\n",
       "<table border=\"1\" class=\"dataframe\">\n",
       "  <thead>\n",
       "    <tr style=\"text-align: right;\">\n",
       "      <th></th>\n",
       "      <th>Open</th>\n",
       "      <th>High</th>\n",
       "      <th>Low</th>\n",
       "      <th>Close</th>\n",
       "      <th>Adj Close</th>\n",
       "      <th>Volume</th>\n",
       "      <th>Increase_Decrease</th>\n",
       "      <th>Buy_Sell_on_Open</th>\n",
       "      <th>Buy_Sell</th>\n",
       "      <th>Returns</th>\n",
       "    </tr>\n",
       "  </thead>\n",
       "  <tbody>\n",
       "    <tr>\n",
       "      <th>count</th>\n",
       "      <td>2897.000000</td>\n",
       "      <td>2897.000000</td>\n",
       "      <td>2897.000000</td>\n",
       "      <td>2897.000000</td>\n",
       "      <td>2897.000000</td>\n",
       "      <td>2.897000e+03</td>\n",
       "      <td>2897.000000</td>\n",
       "      <td>2897.000000</td>\n",
       "      <td>2897.000000</td>\n",
       "      <td>2897.000000</td>\n",
       "    </tr>\n",
       "    <tr>\n",
       "      <th>mean</th>\n",
       "      <td>40.991990</td>\n",
       "      <td>41.864614</td>\n",
       "      <td>40.070170</td>\n",
       "      <td>41.026370</td>\n",
       "      <td>41.026370</td>\n",
       "      <td>9.412698e+07</td>\n",
       "      <td>0.468416</td>\n",
       "      <td>0.522610</td>\n",
       "      <td>0.518467</td>\n",
       "      <td>0.002492</td>\n",
       "    </tr>\n",
       "    <tr>\n",
       "      <th>std</th>\n",
       "      <td>75.216736</td>\n",
       "      <td>76.864317</td>\n",
       "      <td>73.460727</td>\n",
       "      <td>75.298005</td>\n",
       "      <td>75.298005</td>\n",
       "      <td>8.464854e+07</td>\n",
       "      <td>0.499088</td>\n",
       "      <td>0.499575</td>\n",
       "      <td>0.499745</td>\n",
       "      <td>0.035398</td>\n",
       "    </tr>\n",
       "    <tr>\n",
       "      <th>min</th>\n",
       "      <td>1.076000</td>\n",
       "      <td>1.108667</td>\n",
       "      <td>0.998667</td>\n",
       "      <td>1.053333</td>\n",
       "      <td>1.053333</td>\n",
       "      <td>1.777500e+06</td>\n",
       "      <td>0.000000</td>\n",
       "      <td>0.000000</td>\n",
       "      <td>0.000000</td>\n",
       "      <td>-0.210628</td>\n",
       "    </tr>\n",
       "    <tr>\n",
       "      <th>25%</th>\n",
       "      <td>5.758000</td>\n",
       "      <td>6.064000</td>\n",
       "      <td>5.536667</td>\n",
       "      <td>5.839333</td>\n",
       "      <td>5.839333</td>\n",
       "      <td>3.852750e+07</td>\n",
       "      <td>0.000000</td>\n",
       "      <td>0.000000</td>\n",
       "      <td>0.000000</td>\n",
       "      <td>-0.014816</td>\n",
       "    </tr>\n",
       "    <tr>\n",
       "      <th>50%</th>\n",
       "      <td>15.381333</td>\n",
       "      <td>15.652000</td>\n",
       "      <td>15.140667</td>\n",
       "      <td>15.374000</td>\n",
       "      <td>15.374000</td>\n",
       "      <td>7.448250e+07</td>\n",
       "      <td>0.000000</td>\n",
       "      <td>1.000000</td>\n",
       "      <td>1.000000</td>\n",
       "      <td>0.001261</td>\n",
       "    </tr>\n",
       "    <tr>\n",
       "      <th>75%</th>\n",
       "      <td>22.210667</td>\n",
       "      <td>22.653999</td>\n",
       "      <td>21.816668</td>\n",
       "      <td>22.257999</td>\n",
       "      <td>22.257999</td>\n",
       "      <td>1.199796e+08</td>\n",
       "      <td>1.000000</td>\n",
       "      <td>1.000000</td>\n",
       "      <td>1.000000</td>\n",
       "      <td>0.019175</td>\n",
       "    </tr>\n",
       "    <tr>\n",
       "      <th>max</th>\n",
       "      <td>411.470001</td>\n",
       "      <td>414.496674</td>\n",
       "      <td>405.666656</td>\n",
       "      <td>409.970001</td>\n",
       "      <td>409.970001</td>\n",
       "      <td>9.140820e+08</td>\n",
       "      <td>1.000000</td>\n",
       "      <td>1.000000</td>\n",
       "      <td>1.000000</td>\n",
       "      <td>0.243951</td>\n",
       "    </tr>\n",
       "  </tbody>\n",
       "</table>\n",
       "</div>"
      ],
      "text/plain": [
       "              Open         High          Low        Close    Adj Close  \\\n",
       "count  2897.000000  2897.000000  2897.000000  2897.000000  2897.000000   \n",
       "mean     40.991990    41.864614    40.070170    41.026370    41.026370   \n",
       "std      75.216736    76.864317    73.460727    75.298005    75.298005   \n",
       "min       1.076000     1.108667     0.998667     1.053333     1.053333   \n",
       "25%       5.758000     6.064000     5.536667     5.839333     5.839333   \n",
       "50%      15.381333    15.652000    15.140667    15.374000    15.374000   \n",
       "75%      22.210667    22.653999    21.816668    22.257999    22.257999   \n",
       "max     411.470001   414.496674   405.666656   409.970001   409.970001   \n",
       "\n",
       "             Volume  Increase_Decrease  Buy_Sell_on_Open     Buy_Sell  \\\n",
       "count  2.897000e+03        2897.000000       2897.000000  2897.000000   \n",
       "mean   9.412698e+07           0.468416          0.522610     0.518467   \n",
       "std    8.464854e+07           0.499088          0.499575     0.499745   \n",
       "min    1.777500e+06           0.000000          0.000000     0.000000   \n",
       "25%    3.852750e+07           0.000000          0.000000     0.000000   \n",
       "50%    7.448250e+07           0.000000          1.000000     1.000000   \n",
       "75%    1.199796e+08           1.000000          1.000000     1.000000   \n",
       "max    9.140820e+08           1.000000          1.000000     1.000000   \n",
       "\n",
       "           Returns  \n",
       "count  2897.000000  \n",
       "mean      0.002492  \n",
       "std       0.035398  \n",
       "min      -0.210628  \n",
       "25%      -0.014816  \n",
       "50%       0.001261  \n",
       "75%       0.019175  \n",
       "max       0.243951  "
      ]
     },
     "execution_count": 240,
     "metadata": {},
     "output_type": "execute_result"
    }
   ],
   "source": [
    "# The statistics per each column\n",
    "\n",
    "dataset.describe()"
   ]
  },
  {
   "cell_type": "markdown",
   "metadata": {
    "id": "_y46f82APjLr"
   },
   "source": [
    "# **Define X and Y**"
   ]
  },
  {
   "cell_type": "code",
   "execution_count": 241,
   "metadata": {
    "ExecuteTime": {
     "end_time": "2023-04-11T16:08:37.200281Z",
     "start_time": "2023-04-11T16:08:04.292764Z"
    },
    "id": "SJ9j9UEeDfHo"
   },
   "outputs": [],
   "source": [
    "X = dataset['Open'].values.reshape(-1,1)\n",
    "y = dataset['Adj Close'].values.reshape(-1,1)"
   ]
  },
  {
   "cell_type": "code",
   "execution_count": 242,
   "metadata": {
    "ExecuteTime": {
     "end_time": "2023-04-11T16:08:37.212245Z",
     "start_time": "2023-04-11T16:08:04.292764Z"
    },
    "colab": {
     "base_uri": "https://localhost:8080/"
    },
    "id": "SiEx7IFCDk_L",
    "outputId": "ae417ebc-9c67-4496-b03a-6d3d6ce6bbc6"
   },
   "outputs": [
    {
     "data": {
      "text/plain": [
       "BayesianRidge(compute_score=True)"
      ]
     },
     "execution_count": 217,
     "metadata": {},
     "output_type": "execute_result"
    },
    {
     "data": {
      "text/plain": [
       "BayesianRidge(compute_score=True)"
      ]
     },
     "execution_count": 242,
     "metadata": {},
     "output_type": "execute_result"
    }
   ],
   "source": [
    "from sklearn.linear_model import BayesianRidge, LinearRegression\n",
    "\n",
    "# Fit the Bayesian Ridge Regression and an OLS for comparison\n",
    "model = BayesianRidge(compute_score=True)\n",
    "model.fit(X, y)"
   ]
  },
  {
   "cell_type": "code",
   "execution_count": 243,
   "metadata": {
    "ExecuteTime": {
     "end_time": "2023-04-11T16:08:37.213245Z",
     "start_time": "2023-04-11T16:08:04.292764Z"
    },
    "colab": {
     "base_uri": "https://localhost:8080/"
    },
    "id": "Xf8X78dcDn-z",
    "outputId": "a8f24398-cf8a-40b2-8a13-145400aed98a"
   },
   "outputs": [
    {
     "data": {
      "text/plain": [
       "array([1.00042506])"
      ]
     },
     "execution_count": 218,
     "metadata": {},
     "output_type": "execute_result"
    },
    {
     "data": {
      "text/plain": [
       "array([1.00042506])"
      ]
     },
     "execution_count": 243,
     "metadata": {},
     "output_type": "execute_result"
    }
   ],
   "source": [
    "model.coef_"
   ]
  },
  {
   "cell_type": "code",
   "execution_count": 244,
   "metadata": {
    "ExecuteTime": {
     "end_time": "2023-04-11T16:08:37.213245Z",
     "start_time": "2023-04-11T16:08:04.292764Z"
    },
    "colab": {
     "base_uri": "https://localhost:8080/"
    },
    "id": "kJ7S8yxrDp-r",
    "outputId": "d3189155-fa5d-4ef1-a320-4c777ff43ace"
   },
   "outputs": [
    {
     "data": {
      "text/plain": [
       "array([-15187.29585492,  -7020.34142468,  -7020.34141863])"
      ]
     },
     "execution_count": 219,
     "metadata": {},
     "output_type": "execute_result"
    },
    {
     "data": {
      "text/plain": [
       "array([-15187.29585492,  -7020.34142468,  -7020.34141863])"
      ]
     },
     "execution_count": 244,
     "metadata": {},
     "output_type": "execute_result"
    }
   ],
   "source": [
    "model.scores_"
   ]
  },
  {
   "cell_type": "markdown",
   "metadata": {
    "id": "8bVZFNDiPqkP"
   },
   "source": [
    "# **Split Train Data and Test Data**"
   ]
  },
  {
   "cell_type": "code",
   "execution_count": 245,
   "metadata": {
    "ExecuteTime": {
     "end_time": "2023-04-11T16:08:37.213245Z",
     "start_time": "2023-04-11T16:08:04.293761Z"
    },
    "id": "HlhbUS61DrWr"
   },
   "outputs": [],
   "source": [
    "from sklearn.model_selection import train_test_split"
   ]
  },
  {
   "cell_type": "code",
   "execution_count": 246,
   "metadata": {
    "ExecuteTime": {
     "end_time": "2023-04-11T16:08:37.213245Z",
     "start_time": "2023-04-11T16:08:04.293761Z"
    },
    "id": "FgiQLSeGDsxh"
   },
   "outputs": [],
   "source": [
    "X_train, X_test, y_train, y_test = train_test_split(X, y, test_size = 0.2, random_state = 0)"
   ]
  },
  {
   "cell_type": "markdown",
   "metadata": {
    "id": "T8LpUbrtPvd3"
   },
   "source": [
    "# **Dataset Traning and Model Traning**"
   ]
  },
  {
   "cell_type": "code",
   "execution_count": 247,
   "metadata": {
    "ExecuteTime": {
     "end_time": "2023-04-11T16:08:37.214241Z",
     "start_time": "2023-04-11T16:08:04.293761Z"
    },
    "colab": {
     "base_uri": "https://localhost:8080/"
    },
    "id": "3jQvIvwlDuXQ",
    "outputId": "5305be77-0714-463e-9c59-87f15c2af5e9"
   },
   "outputs": [
    {
     "data": {
      "text/plain": [
       "BayesianRidge(compute_score=True)"
      ]
     },
     "execution_count": 222,
     "metadata": {},
     "output_type": "execute_result"
    },
    {
     "data": {
      "text/plain": [
       "BayesianRidge(compute_score=True)"
      ]
     },
     "execution_count": 247,
     "metadata": {},
     "output_type": "execute_result"
    }
   ],
   "source": [
    "model = BayesianRidge(compute_score=True)\n",
    "model.fit(X_train, y_train)"
   ]
  },
  {
   "cell_type": "code",
   "execution_count": 248,
   "metadata": {
    "ExecuteTime": {
     "end_time": "2023-04-11T16:08:37.214241Z",
     "start_time": "2023-04-11T16:08:04.336645Z"
    },
    "colab": {
     "base_uri": "https://localhost:8080/"
    },
    "id": "uxtbTNkLDvzD",
    "outputId": "7e515f32-8ba8-4a02-b780-8677056b1b93"
   },
   "outputs": [
    {
     "data": {
      "text/plain": [
       "array([1.00058705])"
      ]
     },
     "execution_count": 223,
     "metadata": {},
     "output_type": "execute_result"
    },
    {
     "data": {
      "text/plain": [
       "array([1.00058705])"
      ]
     },
     "execution_count": 248,
     "metadata": {},
     "output_type": "execute_result"
    }
   ],
   "source": [
    "model.coef_"
   ]
  },
  {
   "cell_type": "code",
   "execution_count": 249,
   "metadata": {
    "ExecuteTime": {
     "end_time": "2023-04-11T16:08:37.214241Z",
     "start_time": "2023-04-11T16:08:04.391036Z"
    },
    "colab": {
     "base_uri": "https://localhost:8080/"
    },
    "id": "_A-S-z2kDxCQ",
    "outputId": "435261a4-af26-4e8b-c098-a47c8553b4a8"
   },
   "outputs": [
    {
     "data": {
      "text/plain": [
       "array([-12150.70616924,  -5608.84993172,  -5608.84991968])"
      ]
     },
     "execution_count": 224,
     "metadata": {},
     "output_type": "execute_result"
    },
    {
     "data": {
      "text/plain": [
       "array([-12150.70616924,  -5608.84993172,  -5608.84991968])"
      ]
     },
     "execution_count": 249,
     "metadata": {},
     "output_type": "execute_result"
    }
   ],
   "source": [
    "model.scores_"
   ]
  },
  {
   "cell_type": "markdown",
   "metadata": {
    "id": "pxs3rV5PMBmi"
   },
   "source": [
    "# **Comparison of Actual Values and Predicted Values**"
   ]
  },
  {
   "cell_type": "code",
   "execution_count": 250,
   "metadata": {
    "ExecuteTime": {
     "end_time": "2023-04-11T16:08:37.214241Z",
     "start_time": "2023-04-11T16:08:04.597531Z"
    },
    "id": "MQ7HP2gcDyiy"
   },
   "outputs": [],
   "source": [
    "y_pred = model.predict(X_test)"
   ]
  },
  {
   "cell_type": "markdown",
   "metadata": {
    "id": "UbZ5VEN3MITX"
   },
   "source": [
    "# **Accuracy and Loss Function Values of the Model**"
   ]
  },
  {
   "cell_type": "code",
   "execution_count": 251,
   "metadata": {
    "ExecuteTime": {
     "end_time": "2023-04-11T16:08:37.217234Z",
     "start_time": "2023-04-11T16:08:04.604512Z"
    },
    "colab": {
     "base_uri": "https://localhost:8080/"
    },
    "id": "OV3BBoe8dUfQ",
    "outputId": "6d12bdbf-ba21-47a8-a56e-22478fc0ad41"
   },
   "outputs": [
    {
     "name": "stdout",
     "output_type": "stream",
     "text": [
      "Mean_Absolute_Error(MAE): 0.9434488336520307\n",
      "Mean_Squared_Error(MSE): 7.605075516811632\n",
      "Root_Mean_Squared_Error(RMSE): 2.757730138503699\n",
      "Mean_Absolute_Error(MAE): 0.9434488336520307\n",
      "Mean_Squared_Error(MSE): 7.605075516811632\n",
      "Root_Mean_Squared_Error(RMSE): 2.757730138503699\n"
     ]
    }
   ],
   "source": [
    "from sklearn import metrics\n",
    "print('Mean_Absolute_Error(MAE):', metrics.mean_absolute_error(y_test, y_pred))\n",
    "print('Mean_Squared_Error(MSE):', metrics.mean_squared_error(y_test, y_pred))\n",
    "print('Root_Mean_Squared_Error(RMSE):', np.sqrt(metrics.mean_squared_error(y_test, y_pred)))\n"
   ]
  },
  {
   "cell_type": "code",
   "execution_count": 252,
   "metadata": {
    "ExecuteTime": {
     "end_time": "2023-04-11T16:08:37.429893Z",
     "start_time": "2023-04-11T16:08:04.605509Z"
    },
    "colab": {
     "base_uri": "https://localhost:8080/"
    },
    "id": "4Im8wi_ND1W4",
    "outputId": "0cbba924-5823-49cb-d0b2-ecab892822bd"
   },
   "outputs": [
    {
     "name": "stdout",
     "output_type": "stream",
     "text": [
      "Accuracy Score: 0.9986423631019721\n",
      "Accuracy Score: 0.9986423631019721\n"
     ]
    }
   ],
   "source": [
    "print('Accuracy Score:', model.score(X_test, y_test))"
   ]
  },
  {
   "cell_type": "code",
   "execution_count": 252,
   "metadata": {
    "ExecuteTime": {
     "end_time": "2023-04-11T16:08:37.460327Z",
     "start_time": "2023-04-11T16:08:04.645403Z"
    }
   },
   "outputs": [],
   "source": []
  },
  {
   "cell_type": "code",
   "execution_count": 252,
   "metadata": {
    "ExecuteTime": {
     "end_time": "2023-04-11T16:08:37.467309Z",
     "start_time": "2023-04-11T16:08:04.707754Z"
    }
   },
   "outputs": [],
   "source": []
  },
  {
   "cell_type": "code",
   "execution_count": 252,
   "metadata": {
    "ExecuteTime": {
     "end_time": "2023-04-11T16:08:37.467309Z",
     "start_time": "2023-04-11T16:08:04.707754Z"
    }
   },
   "outputs": [],
   "source": []
  },
  {
   "cell_type": "code",
   "execution_count": 252,
   "metadata": {
    "ExecuteTime": {
     "end_time": "2023-04-11T16:08:37.468308Z",
     "start_time": "2023-04-11T16:08:04.707754Z"
    }
   },
   "outputs": [],
   "source": []
  }
 ],
 "metadata": {
  "colab": {
   "collapsed_sections": [],
   "name": "Bayesian_Machine_Learning_final.ipynb",
   "provenance": []
  },
  "kernelspec": {
   "display_name": "Python 3 (ipykernel)",
   "language": "python",
   "name": "python3"
  },
  "language_info": {
   "codemirror_mode": {
    "name": "ipython",
    "version": 3
   },
   "file_extension": ".py",
   "mimetype": "text/x-python",
   "name": "python",
   "nbconvert_exporter": "python",
   "pygments_lexer": "ipython3",
   "version": "3.9.13"
  }
 },
 "nbformat": 4,
 "nbformat_minor": 1
}
