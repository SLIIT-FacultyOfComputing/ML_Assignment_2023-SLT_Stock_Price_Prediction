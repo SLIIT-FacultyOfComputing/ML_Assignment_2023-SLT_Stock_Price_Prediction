{
 "cells": [
  {
   "cell_type": "markdown",
   "metadata": {
    "id": "z732hgQ2ciNC"
   },
   "source": [
    "# 📉📊📈**Comparing the Performance of Various Machine Learning Models for SLT Stock Price Prediction**📉📊📈\n"
   ]
  },
  {
   "cell_type": "markdown",
   "metadata": {
    "id": "HHQ8MKPBEctn"
   },
   "source": [
    "# ✅ **Logistic Regression** ✅"
   ]
  },
  {
   "cell_type": "markdown",
   "metadata": {
    "id": "54MAv_unQHBF"
   },
   "source": [
    "Logistic regression is a statistical model that estimates the probability of an event based on independent variables. It models the log-odds of the event as a linear combination of variables. It is commonly used for binary classification problems. Logistic regression is widely used for estimating model parameters in the logistic model."
   ]
  },
  {
   "cell_type": "markdown",
   "metadata": {
    "id": "ViK21F4FERnu"
   },
   "source": [
    "# **Import Libraries**"
   ]
  },
  {
   "cell_type": "code",
   "execution_count": 91,
   "metadata": {
    "colab": {
     "base_uri": "https://localhost:8080/"
    },
    "executionInfo": {
     "elapsed": 4422,
     "status": "ok",
     "timestamp": 1653815751864,
     "user": {
      "displayName": "Yasmika Saubhagya",
      "userId": "03994298176371627885"
     },
     "user_tz": -330
    },
    "id": "qL7mBxo2GZHX",
    "outputId": "ad84e537-65b4-4868-f1e8-f29bb3610c4a"
   },
   "outputs": [],
   "source": [
    "import numpy as np\n",
    "import matplotlib.pyplot as plt\n",
    "import pandas as pd\n",
    "\n",
    "import warnings\n",
    "warnings.filterwarnings(\"ignore\")\n",
    "\n",
    "# Matplotlib and Seaborn for graphs and plottting\n",
    "import matplotlib.pyplot as plt\n",
    "import seaborn as sns\n",
    "%matplotlib inline"
   ]
  },
  {
   "cell_type": "markdown",
   "metadata": {
    "id": "4wJzRok5G4FL"
   },
   "source": [
    "# **Load data into a Data Frame**"
   ]
  },
  {
   "cell_type": "code",
   "execution_count": 92,
   "metadata": {
    "colab": {
     "base_uri": "https://localhost:8080/",
     "height": 255
    },
    "executionInfo": {
     "elapsed": 486,
     "status": "ok",
     "timestamp": 1653815902886,
     "user": {
      "displayName": "Yasmika Saubhagya",
      "userId": "03994298176371627885"
     },
     "user_tz": -330
    },
    "id": "7W10VuNRG8Tt",
    "outputId": "b322bacc-57c9-4109-9762-906dfb0323be"
   },
   "outputs": [
    {
     "data": {
      "text/html": [
       "<div>\n",
       "<style scoped>\n",
       "    .dataframe tbody tr th:only-of-type {\n",
       "        vertical-align: middle;\n",
       "    }\n",
       "\n",
       "    .dataframe tbody tr th {\n",
       "        vertical-align: top;\n",
       "    }\n",
       "\n",
       "    .dataframe thead th {\n",
       "        text-align: right;\n",
       "    }\n",
       "</style>\n",
       "<table border=\"1\" class=\"dataframe\">\n",
       "  <thead>\n",
       "    <tr style=\"text-align: right;\">\n",
       "      <th></th>\n",
       "      <th>Date</th>\n",
       "      <th>Price</th>\n",
       "      <th>Open</th>\n",
       "      <th>High</th>\n",
       "      <th>Low</th>\n",
       "      <th>Vol.</th>\n",
       "      <th>Change %</th>\n",
       "    </tr>\n",
       "  </thead>\n",
       "  <tbody>\n",
       "    <tr>\n",
       "      <th>0</th>\n",
       "      <td>7/8/2009</td>\n",
       "      <td>46.50</td>\n",
       "      <td>48.0</td>\n",
       "      <td>48.0</td>\n",
       "      <td>46.50</td>\n",
       "      <td>9.90K</td>\n",
       "      <td>-0.53%</td>\n",
       "    </tr>\n",
       "    <tr>\n",
       "      <th>1</th>\n",
       "      <td>7/9/2009</td>\n",
       "      <td>46.00</td>\n",
       "      <td>47.0</td>\n",
       "      <td>47.0</td>\n",
       "      <td>45.75</td>\n",
       "      <td>17.40K</td>\n",
       "      <td>-1.08%</td>\n",
       "    </tr>\n",
       "    <tr>\n",
       "      <th>2</th>\n",
       "      <td>7/13/2009</td>\n",
       "      <td>45.75</td>\n",
       "      <td>46.0</td>\n",
       "      <td>47.0</td>\n",
       "      <td>45.75</td>\n",
       "      <td>22.10K</td>\n",
       "      <td>-0.54%</td>\n",
       "    </tr>\n",
       "    <tr>\n",
       "      <th>3</th>\n",
       "      <td>7/14/2009</td>\n",
       "      <td>45.75</td>\n",
       "      <td>45.5</td>\n",
       "      <td>46.0</td>\n",
       "      <td>45.00</td>\n",
       "      <td>20.60K</td>\n",
       "      <td>0.00%</td>\n",
       "    </tr>\n",
       "    <tr>\n",
       "      <th>4</th>\n",
       "      <td>7/15/2009</td>\n",
       "      <td>45.50</td>\n",
       "      <td>45.5</td>\n",
       "      <td>46.0</td>\n",
       "      <td>45.25</td>\n",
       "      <td>23.60K</td>\n",
       "      <td>-0.55%</td>\n",
       "    </tr>\n",
       "    <tr>\n",
       "      <th>...</th>\n",
       "      <td>...</td>\n",
       "      <td>...</td>\n",
       "      <td>...</td>\n",
       "      <td>...</td>\n",
       "      <td>...</td>\n",
       "      <td>...</td>\n",
       "      <td>...</td>\n",
       "    </tr>\n",
       "    <tr>\n",
       "      <th>95</th>\n",
       "      <td>11/25/2009</td>\n",
       "      <td>40.00</td>\n",
       "      <td>40.5</td>\n",
       "      <td>41.0</td>\n",
       "      <td>39.50</td>\n",
       "      <td>19.80K</td>\n",
       "      <td>-1.23%</td>\n",
       "    </tr>\n",
       "    <tr>\n",
       "      <th>96</th>\n",
       "      <td>11/26/2009</td>\n",
       "      <td>39.75</td>\n",
       "      <td>40.0</td>\n",
       "      <td>40.0</td>\n",
       "      <td>39.75</td>\n",
       "      <td>15.00K</td>\n",
       "      <td>-0.63%</td>\n",
       "    </tr>\n",
       "    <tr>\n",
       "      <th>97</th>\n",
       "      <td>11/27/2009</td>\n",
       "      <td>40.00</td>\n",
       "      <td>40.0</td>\n",
       "      <td>40.0</td>\n",
       "      <td>39.50</td>\n",
       "      <td>16.60K</td>\n",
       "      <td>0.63%</td>\n",
       "    </tr>\n",
       "    <tr>\n",
       "      <th>98</th>\n",
       "      <td>11/30/2009</td>\n",
       "      <td>41.25</td>\n",
       "      <td>40.5</td>\n",
       "      <td>42.0</td>\n",
       "      <td>40.25</td>\n",
       "      <td>8.20K</td>\n",
       "      <td>3.13%</td>\n",
       "    </tr>\n",
       "    <tr>\n",
       "      <th>99</th>\n",
       "      <td>12/2/2009</td>\n",
       "      <td>41.50</td>\n",
       "      <td>41.0</td>\n",
       "      <td>42.0</td>\n",
       "      <td>41.00</td>\n",
       "      <td>20.20K</td>\n",
       "      <td>0.61%</td>\n",
       "    </tr>\n",
       "  </tbody>\n",
       "</table>\n",
       "<p>100 rows × 7 columns</p>\n",
       "</div>"
      ],
      "text/plain": [
       "          Date  Price  Open  High    Low    Vol. Change %\n",
       "0     7/8/2009  46.50  48.0  48.0  46.50   9.90K   -0.53%\n",
       "1     7/9/2009  46.00  47.0  47.0  45.75  17.40K   -1.08%\n",
       "2    7/13/2009  45.75  46.0  47.0  45.75  22.10K   -0.54%\n",
       "3    7/14/2009  45.75  45.5  46.0  45.00  20.60K    0.00%\n",
       "4    7/15/2009  45.50  45.5  46.0  45.25  23.60K   -0.55%\n",
       "..         ...    ...   ...   ...    ...     ...      ...\n",
       "95  11/25/2009  40.00  40.5  41.0  39.50  19.80K   -1.23%\n",
       "96  11/26/2009  39.75  40.0  40.0  39.75  15.00K   -0.63%\n",
       "97  11/27/2009  40.00  40.0  40.0  39.50  16.60K    0.63%\n",
       "98  11/30/2009  41.25  40.5  42.0  40.25   8.20K    3.13%\n",
       "99   12/2/2009  41.50  41.0  42.0  41.00  20.20K    0.61%\n",
       "\n",
       "[100 rows x 7 columns]"
      ]
     },
     "execution_count": 92,
     "metadata": {},
     "output_type": "execute_result"
    }
   ],
   "source": [
    "# Import the dataset\n",
    "dataset = pd.read_csv(r\"..\\1. dataset\\TeleCom_2009_2023_Daily.csv\")\n",
    "\n",
    "# View Columns\n",
    "dataset.head(100)"
   ]
  },
  {
   "cell_type": "markdown",
   "metadata": {
    "id": "ORhd0CL-H_Il"
   },
   "source": [
    "# **Data Preprocessing**"
   ]
  },
  {
   "cell_type": "code",
   "execution_count": 93,
   "metadata": {
    "executionInfo": {
     "elapsed": 493,
     "status": "ok",
     "timestamp": 1653816191289,
     "user": {
      "displayName": "Yasmika Saubhagya",
      "userId": "03994298176371627885"
     },
     "user_tz": -330
    },
    "id": "RfGdJnTuIArb"
   },
   "outputs": [],
   "source": [
    "dataset['Buy_Sell'] = np.where(dataset['Price'].shift(-1) > dataset['Price'],1,-1)"
   ]
  },
  {
   "cell_type": "code",
   "execution_count": 94,
   "metadata": {
    "colab": {
     "base_uri": "https://localhost:8080/",
     "height": 238
    },
    "executionInfo": {
     "elapsed": 477,
     "status": "ok",
     "timestamp": 1653816193931,
     "user": {
      "displayName": "Yasmika Saubhagya",
      "userId": "03994298176371627885"
     },
     "user_tz": -330
    },
    "id": "zvXzlqLqIDe_",
    "outputId": "29063d2b-b020-466b-904e-9d61016e4878"
   },
   "outputs": [
    {
     "data": {
      "text/html": [
       "<div>\n",
       "<style scoped>\n",
       "    .dataframe tbody tr th:only-of-type {\n",
       "        vertical-align: middle;\n",
       "    }\n",
       "\n",
       "    .dataframe tbody tr th {\n",
       "        vertical-align: top;\n",
       "    }\n",
       "\n",
       "    .dataframe thead th {\n",
       "        text-align: right;\n",
       "    }\n",
       "</style>\n",
       "<table border=\"1\" class=\"dataframe\">\n",
       "  <thead>\n",
       "    <tr style=\"text-align: right;\">\n",
       "      <th></th>\n",
       "      <th>Date</th>\n",
       "      <th>Price</th>\n",
       "      <th>Open</th>\n",
       "      <th>High</th>\n",
       "      <th>Low</th>\n",
       "      <th>Vol.</th>\n",
       "      <th>Change %</th>\n",
       "      <th>Buy_Sell</th>\n",
       "    </tr>\n",
       "  </thead>\n",
       "  <tbody>\n",
       "    <tr>\n",
       "      <th>0</th>\n",
       "      <td>7/8/2009</td>\n",
       "      <td>46.50</td>\n",
       "      <td>48.0</td>\n",
       "      <td>48.0</td>\n",
       "      <td>46.50</td>\n",
       "      <td>9.90K</td>\n",
       "      <td>-0.53%</td>\n",
       "      <td>-1</td>\n",
       "    </tr>\n",
       "    <tr>\n",
       "      <th>1</th>\n",
       "      <td>7/9/2009</td>\n",
       "      <td>46.00</td>\n",
       "      <td>47.0</td>\n",
       "      <td>47.0</td>\n",
       "      <td>45.75</td>\n",
       "      <td>17.40K</td>\n",
       "      <td>-1.08%</td>\n",
       "      <td>-1</td>\n",
       "    </tr>\n",
       "    <tr>\n",
       "      <th>2</th>\n",
       "      <td>7/13/2009</td>\n",
       "      <td>45.75</td>\n",
       "      <td>46.0</td>\n",
       "      <td>47.0</td>\n",
       "      <td>45.75</td>\n",
       "      <td>22.10K</td>\n",
       "      <td>-0.54%</td>\n",
       "      <td>-1</td>\n",
       "    </tr>\n",
       "    <tr>\n",
       "      <th>3</th>\n",
       "      <td>7/14/2009</td>\n",
       "      <td>45.75</td>\n",
       "      <td>45.5</td>\n",
       "      <td>46.0</td>\n",
       "      <td>45.00</td>\n",
       "      <td>20.60K</td>\n",
       "      <td>0.00%</td>\n",
       "      <td>-1</td>\n",
       "    </tr>\n",
       "    <tr>\n",
       "      <th>4</th>\n",
       "      <td>7/15/2009</td>\n",
       "      <td>45.50</td>\n",
       "      <td>45.5</td>\n",
       "      <td>46.0</td>\n",
       "      <td>45.25</td>\n",
       "      <td>23.60K</td>\n",
       "      <td>-0.55%</td>\n",
       "      <td>-1</td>\n",
       "    </tr>\n",
       "  </tbody>\n",
       "</table>\n",
       "</div>"
      ],
      "text/plain": [
       "        Date  Price  Open  High    Low    Vol. Change %  Buy_Sell\n",
       "0   7/8/2009  46.50  48.0  48.0  46.50   9.90K   -0.53%        -1\n",
       "1   7/9/2009  46.00  47.0  47.0  45.75  17.40K   -1.08%        -1\n",
       "2  7/13/2009  45.75  46.0  47.0  45.75  22.10K   -0.54%        -1\n",
       "3  7/14/2009  45.75  45.5  46.0  45.00  20.60K    0.00%        -1\n",
       "4  7/15/2009  45.50  45.5  46.0  45.25  23.60K   -0.55%        -1"
      ]
     },
     "execution_count": 94,
     "metadata": {},
     "output_type": "execute_result"
    }
   ],
   "source": [
    "dataset.head()"
   ]
  },
  {
   "cell_type": "markdown",
   "metadata": {
    "id": "0tGr01h_I5R6"
   },
   "source": [
    "# **Null value testing and data clearance**"
   ]
  },
  {
   "cell_type": "code",
   "execution_count": 95,
   "metadata": {
    "colab": {
     "base_uri": "https://localhost:8080/"
    },
    "executionInfo": {
     "elapsed": 449,
     "status": "ok",
     "timestamp": 1653816444844,
     "user": {
      "displayName": "Yasmika Saubhagya",
      "userId": "03994298176371627885"
     },
     "user_tz": -330
    },
    "id": "nnMccG9bI951",
    "outputId": "e69001f2-3089-417f-f707-f5ca959d067f"
   },
   "outputs": [
    {
     "data": {
      "text/plain": [
       "Date         0\n",
       "Price        0\n",
       "Open         0\n",
       "High         0\n",
       "Low          0\n",
       "Vol.        18\n",
       "Change %     0\n",
       "Buy_Sell     0\n",
       "dtype: int64"
      ]
     },
     "execution_count": 95,
     "metadata": {},
     "output_type": "execute_result"
    }
   ],
   "source": [
    "# See how many null values in each column\n",
    "\n",
    "dataset.isnull().sum()"
   ]
  },
  {
   "cell_type": "code",
   "execution_count": 96,
   "metadata": {
    "colab": {
     "base_uri": "https://localhost:8080/",
     "height": 266
    },
    "executionInfo": {
     "elapsed": 492,
     "status": "ok",
     "timestamp": 1653816448286,
     "user": {
      "displayName": "Yasmika Saubhagya",
      "userId": "03994298176371627885"
     },
     "user_tz": -330
    },
    "id": "L9oSnPv3JCOH",
    "outputId": "2aaabe89-cc80-4de7-ab7a-d6849981f546",
    "scrolled": true
   },
   "outputs": [
    {
     "data": {
      "image/png": "[encoded data removed]",
      "text/plain": [
       "<Figure size 864x288 with 1 Axes>"
      ]
     },
     "metadata": {
      "needs_background": "light"
     },
     "output_type": "display_data"
    }
   ],
   "source": [
    "dataset = dataset.drop('Vol.', axis=1)\n",
    "plt.figure(figsize=(12,4))\n",
    "sns.heatmap(dataset.isnull(), yticklabels=False,cbar=False,cmap='viridis')\n",
    "plt.savefig(\"Figure 1: Heatmap for Null Values\")"
   ]
  },
  {
   "cell_type": "markdown",
   "metadata": {
    "id": "dLbp8nSOJfCw"
   },
   "source": [
    "# **Analyze the Data**"
   ]
  },
  {
   "cell_type": "code",
   "execution_count": 97,
   "metadata": {
    "colab": {
     "base_uri": "https://localhost:8080/"
    },
    "executionInfo": {
     "elapsed": 454,
     "status": "ok",
     "timestamp": 1653816611931,
     "user": {
      "displayName": "Yasmika Saubhagya",
      "userId": "03994298176371627885"
     },
     "user_tz": -330
    },
    "id": "tKzjuExTJgL-",
    "outputId": "c569e7c5-7ff3-4794-aeac-f2c6764d14d3"
   },
   "outputs": [
    {
     "data": {
      "text/plain": [
       "(3239, 7)"
      ]
     },
     "execution_count": 97,
     "metadata": {},
     "output_type": "execute_result"
    }
   ],
   "source": [
    "# see number of rows, number of columns\n",
    "dataset.shape"
   ]
  },
  {
   "cell_type": "code",
   "execution_count": 98,
   "metadata": {
    "colab": {
     "base_uri": "https://localhost:8080/"
    },
    "executionInfo": {
     "elapsed": 9,
     "status": "ok",
     "timestamp": 1653816613445,
     "user": {
      "displayName": "Yasmika Saubhagya",
      "userId": "03994298176371627885"
     },
     "user_tz": -330
    },
    "id": "aVl6alKoJipb",
    "outputId": "a49d0e45-7502-49eb-92bb-df226ecb5920"
   },
   "outputs": [
    {
     "name": "stdout",
     "output_type": "stream",
     "text": [
      "Total number of records =  22673\n"
     ]
    }
   ],
   "source": [
    "#Total Records\n",
    "dataset.size\n",
    "print(\"Total number of records = \",dataset.size)"
   ]
  },
  {
   "cell_type": "code",
   "execution_count": 99,
   "metadata": {
    "colab": {
     "base_uri": "https://localhost:8080/"
    },
    "executionInfo": {
     "elapsed": 11,
     "status": "ok",
     "timestamp": 1653816615382,
     "user": {
      "displayName": "Yasmika Saubhagya",
      "userId": "03994298176371627885"
     },
     "user_tz": -330
    },
    "id": "Gdd1USweJkNV",
    "outputId": "86098e75-0912-4e59-ae0c-0658c7aac25f"
   },
   "outputs": [
    {
     "data": {
      "text/plain": [
       "Index(['Date', 'Price', 'Open', 'High', 'Low', 'Change %', 'Buy_Sell'], dtype='object')"
      ]
     },
     "execution_count": 99,
     "metadata": {},
     "output_type": "execute_result"
    }
   ],
   "source": [
    "# see columns names\n",
    "\n",
    "dataset.columns"
   ]
  },
  {
   "cell_type": "code",
   "execution_count": 100,
   "metadata": {
    "colab": {
     "base_uri": "https://localhost:8080/"
    },
    "executionInfo": {
     "elapsed": 2,
     "status": "ok",
     "timestamp": 1653816617094,
     "user": {
      "displayName": "Yasmika Saubhagya",
      "userId": "03994298176371627885"
     },
     "user_tz": -330
    },
    "id": "0qMKy389Jlwk",
    "outputId": "a0ec5158-3836-4502-c071-0b0bfe41ee35"
   },
   "outputs": [
    {
     "data": {
      "text/plain": [
       "Date         object\n",
       "Price       float64\n",
       "Open        float64\n",
       "High        float64\n",
       "Low         float64\n",
       "Change %     object\n",
       "Buy_Sell      int32\n",
       "dtype: object"
      ]
     },
     "execution_count": 100,
     "metadata": {},
     "output_type": "execute_result"
    }
   ],
   "source": [
    "# See data types of the Columns\n",
    "\n",
    "dataset.dtypes"
   ]
  },
  {
   "cell_type": "code",
   "execution_count": 101,
   "metadata": {
    "colab": {
     "base_uri": "https://localhost:8080/"
    },
    "executionInfo": {
     "elapsed": 4,
     "status": "ok",
     "timestamp": 1653816618937,
     "user": {
      "displayName": "Yasmika Saubhagya",
      "userId": "03994298176371627885"
     },
     "user_tz": -330
    },
    "id": "HzmmmbpqJn9c",
    "outputId": "0c6a2550-5869-487f-a3b3-beab7012d2f4"
   },
   "outputs": [
    {
     "name": "stdout",
     "output_type": "stream",
     "text": [
      "<class 'pandas.core.frame.DataFrame'>\n",
      "RangeIndex: 3239 entries, 0 to 3238\n",
      "Data columns (total 7 columns):\n",
      " #   Column    Non-Null Count  Dtype  \n",
      "---  ------    --------------  -----  \n",
      " 0   Date      3239 non-null   object \n",
      " 1   Price     3239 non-null   float64\n",
      " 2   Open      3239 non-null   float64\n",
      " 3   High      3239 non-null   float64\n",
      " 4   Low       3239 non-null   float64\n",
      " 5   Change %  3239 non-null   object \n",
      " 6   Buy_Sell  3239 non-null   int32  \n",
      "dtypes: float64(4), int32(1), object(2)\n",
      "memory usage: 164.6+ KB\n"
     ]
    }
   ],
   "source": [
    "#View Data Info\n",
    "dataset.info()"
   ]
  },
  {
   "cell_type": "code",
   "execution_count": 102,
   "metadata": {
    "colab": {
     "base_uri": "https://localhost:8080/",
     "height": 1000
    },
    "executionInfo": {
     "elapsed": 3517,
     "status": "ok",
     "timestamp": 1653816624622,
     "user": {
      "displayName": "Yasmika Saubhagya",
      "userId": "03994298176371627885"
     },
     "user_tz": -330
    },
    "id": "NeecYyeoJpVw",
    "outputId": "e39c1919-551a-4c74-b06f-600b96e208fc"
   },
   "outputs": [
    {
     "data": {
      "text/plain": [
       "array([[<AxesSubplot:title={'center':'Price'}>,\n",
       "        <AxesSubplot:title={'center':'Open'}>],\n",
       "       [<AxesSubplot:title={'center':'High'}>,\n",
       "        <AxesSubplot:title={'center':'Low'}>],\n",
       "       [<AxesSubplot:title={'center':'Buy_Sell'}>, <AxesSubplot:>]],\n",
       "      dtype=object)"
      ]
     },
     "execution_count": 102,
     "metadata": {},
     "output_type": "execute_result"
    },
    {
     "data": {
      "image/png": "[encoded data removed]",
      "text/plain": [
       "<Figure size 1080x1080 with 6 Axes>"
      ]
     },
     "metadata": {
      "needs_background": "light"
     },
     "output_type": "display_data"
    }
   ],
   "source": [
    "# Histogram per each numerical column\n",
    "\n",
    "dataset.hist(figsize=(15, 15))"
   ]
  },
  {
   "cell_type": "code",
   "execution_count": 103,
   "metadata": {
    "colab": {
     "base_uri": "https://localhost:8080/",
     "height": 300
    },
    "executionInfo": {
     "elapsed": 460,
     "status": "ok",
     "timestamp": 1653816628655,
     "user": {
      "displayName": "Yasmika Saubhagya",
      "userId": "03994298176371627885"
     },
     "user_tz": -330
    },
    "id": "WsWjuHcXJrSm",
    "outputId": "5500e0f9-02d3-4c2f-c07f-e7de84787797"
   },
   "outputs": [
    {
     "data": {
      "text/html": [
       "<div>\n",
       "<style scoped>\n",
       "    .dataframe tbody tr th:only-of-type {\n",
       "        vertical-align: middle;\n",
       "    }\n",
       "\n",
       "    .dataframe tbody tr th {\n",
       "        vertical-align: top;\n",
       "    }\n",
       "\n",
       "    .dataframe thead th {\n",
       "        text-align: right;\n",
       "    }\n",
       "</style>\n",
       "<table border=\"1\" class=\"dataframe\">\n",
       "  <thead>\n",
       "    <tr style=\"text-align: right;\">\n",
       "      <th></th>\n",
       "      <th>Price</th>\n",
       "      <th>Open</th>\n",
       "      <th>High</th>\n",
       "      <th>Low</th>\n",
       "      <th>Buy_Sell</th>\n",
       "    </tr>\n",
       "  </thead>\n",
       "  <tbody>\n",
       "    <tr>\n",
       "      <th>count</th>\n",
       "      <td>3239.000000</td>\n",
       "      <td>3239.000000</td>\n",
       "      <td>3239.000000</td>\n",
       "      <td>3239.000000</td>\n",
       "      <td>3239.000000</td>\n",
       "    </tr>\n",
       "    <tr>\n",
       "      <th>mean</th>\n",
       "      <td>40.195088</td>\n",
       "      <td>40.184687</td>\n",
       "      <td>40.860157</td>\n",
       "      <td>39.426984</td>\n",
       "      <td>-0.206545</td>\n",
       "    </tr>\n",
       "    <tr>\n",
       "      <th>std</th>\n",
       "      <td>11.390835</td>\n",
       "      <td>11.416385</td>\n",
       "      <td>11.805006</td>\n",
       "      <td>11.034471</td>\n",
       "      <td>0.978588</td>\n",
       "    </tr>\n",
       "    <tr>\n",
       "      <th>min</th>\n",
       "      <td>19.000000</td>\n",
       "      <td>19.000000</td>\n",
       "      <td>19.500000</td>\n",
       "      <td>18.000000</td>\n",
       "      <td>-1.000000</td>\n",
       "    </tr>\n",
       "    <tr>\n",
       "      <th>25%</th>\n",
       "      <td>32.500000</td>\n",
       "      <td>32.700000</td>\n",
       "      <td>33.000000</td>\n",
       "      <td>32.000000</td>\n",
       "      <td>-1.000000</td>\n",
       "    </tr>\n",
       "    <tr>\n",
       "      <th>50%</th>\n",
       "      <td>39.000000</td>\n",
       "      <td>39.000000</td>\n",
       "      <td>39.800000</td>\n",
       "      <td>38.500000</td>\n",
       "      <td>-1.000000</td>\n",
       "    </tr>\n",
       "    <tr>\n",
       "      <th>75%</th>\n",
       "      <td>47.000000</td>\n",
       "      <td>47.000000</td>\n",
       "      <td>47.550000</td>\n",
       "      <td>46.000000</td>\n",
       "      <td>1.000000</td>\n",
       "    </tr>\n",
       "    <tr>\n",
       "      <th>max</th>\n",
       "      <td>113.750000</td>\n",
       "      <td>115.000000</td>\n",
       "      <td>121.750000</td>\n",
       "      <td>111.500000</td>\n",
       "      <td>1.000000</td>\n",
       "    </tr>\n",
       "  </tbody>\n",
       "</table>\n",
       "</div>"
      ],
      "text/plain": [
       "             Price         Open         High          Low     Buy_Sell\n",
       "count  3239.000000  3239.000000  3239.000000  3239.000000  3239.000000\n",
       "mean     40.195088    40.184687    40.860157    39.426984    -0.206545\n",
       "std      11.390835    11.416385    11.805006    11.034471     0.978588\n",
       "min      19.000000    19.000000    19.500000    18.000000    -1.000000\n",
       "25%      32.500000    32.700000    33.000000    32.000000    -1.000000\n",
       "50%      39.000000    39.000000    39.800000    38.500000    -1.000000\n",
       "75%      47.000000    47.000000    47.550000    46.000000     1.000000\n",
       "max     113.750000   115.000000   121.750000   111.500000     1.000000"
      ]
     },
     "execution_count": 103,
     "metadata": {},
     "output_type": "execute_result"
    }
   ],
   "source": [
    "# The statistics per each column\n",
    "\n",
    "dataset.describe()"
   ]
  },
  {
   "cell_type": "markdown",
   "metadata": {
    "id": "GzV2Od0xKLF8"
   },
   "source": [
    "# **Define X and Y**"
   ]
  },
  {
   "cell_type": "code",
   "execution_count": 104,
   "metadata": {
    "executionInfo": {
     "elapsed": 450,
     "status": "ok",
     "timestamp": 1653816773801,
     "user": {
      "displayName": "Yasmika Saubhagya",
      "userId": "03994298176371627885"
     },
     "user_tz": -330
    },
    "id": "bq6jMl_MKMYm"
   },
   "outputs": [],
   "source": [
    "dataset['Buy_Sell'] = dataset['Buy_Sell'].astype('int')"
   ]
  },
  {
   "cell_type": "code",
   "execution_count": 105,
   "metadata": {
    "colab": {
     "base_uri": "https://localhost:8080/"
    },
    "executionInfo": {
     "elapsed": 13,
     "status": "ok",
     "timestamp": 1653816775692,
     "user": {
      "displayName": "Yasmika Saubhagya",
      "userId": "03994298176371627885"
     },
     "user_tz": -330
    },
    "id": "vF4KVy0HKPWb",
    "outputId": "729e6137-89b8-4829-99fd-5fb5d3de0e2c"
   },
   "outputs": [
    {
     "data": {
      "text/plain": [
       "array([[48.  , 48.  , 46.5 , 46.5 ],\n",
       "       [47.  , 47.  , 45.75, 46.  ],\n",
       "       [46.  , 47.  , 45.75, 45.75],\n",
       "       [45.5 , 46.  , 45.  , 45.75],\n",
       "       [45.5 , 46.  , 45.25, 45.5 ]])"
      ]
     },
     "execution_count": 105,
     "metadata": {},
     "output_type": "execute_result"
    }
   ],
   "source": [
    "# Define X\n",
    "X = np.asarray(dataset[['Open', 'High', 'Low', 'Price']])\n",
    "X[0:5]"
   ]
  },
  {
   "cell_type": "code",
   "execution_count": 106,
   "metadata": {
    "colab": {
     "base_uri": "https://localhost:8080/"
    },
    "executionInfo": {
     "elapsed": 733,
     "status": "ok",
     "timestamp": 1653816778479,
     "user": {
      "displayName": "Yasmika Saubhagya",
      "userId": "03994298176371627885"
     },
     "user_tz": -330
    },
    "id": "3vh8YCToKR2Q",
    "outputId": "4a47271c-5343-4830-f76d-1e73c42e8021"
   },
   "outputs": [
    {
     "data": {
      "text/plain": [
       "array([-1, -1, -1, -1, -1])"
      ]
     },
     "execution_count": 106,
     "metadata": {},
     "output_type": "execute_result"
    }
   ],
   "source": [
    "# Define y\n",
    "y = np.asarray(dataset['Buy_Sell'])\n",
    "y[0:5]"
   ]
  },
  {
   "cell_type": "code",
   "execution_count": 107,
   "metadata": {
    "colab": {
     "base_uri": "https://localhost:8080/"
    },
    "executionInfo": {
     "elapsed": 3,
     "status": "ok",
     "timestamp": 1653816780117,
     "user": {
      "displayName": "Yasmika Saubhagya",
      "userId": "03994298176371627885"
     },
     "user_tz": -330
    },
    "id": "eUc9oI3pKTYr",
    "outputId": "a0d72065-7b91-43df-b7f8-648a737f517f"
   },
   "outputs": [
    {
     "data": {
      "text/plain": [
       "array([[0.68, 0.6 , 0.64, 0.55],\n",
       "       [0.6 , 0.52, 0.57, 0.51],\n",
       "       [0.51, 0.52, 0.57, 0.49],\n",
       "       [0.47, 0.44, 0.51, 0.49],\n",
       "       [0.47, 0.44, 0.53, 0.47]])"
      ]
     },
     "execution_count": 107,
     "metadata": {},
     "output_type": "execute_result"
    }
   ],
   "source": [
    "from sklearn import preprocessing\n",
    "X = preprocessing.StandardScaler().fit(X).transform(X)\n",
    "X[0:5]"
   ]
  },
  {
   "cell_type": "markdown",
   "metadata": {
    "id": "YbCjQH1oKy-O"
   },
   "source": [
    "# **Split Train data and Test data**"
   ]
  },
  {
   "cell_type": "code",
   "execution_count": 108,
   "metadata": {
    "colab": {
     "base_uri": "https://localhost:8080/"
    },
    "executionInfo": {
     "elapsed": 13,
     "status": "ok",
     "timestamp": 1653816915501,
     "user": {
      "displayName": "Yasmika Saubhagya",
      "userId": "03994298176371627885"
     },
     "user_tz": -330
    },
    "id": "Fp5ZuXBmK2Y0",
    "outputId": "d30b4aac-04ff-4523-ee97-a0f9df6b2dc7"
   },
   "outputs": [
    {
     "name": "stdout",
     "output_type": "stream",
     "text": [
      "Train set: (2429, 4) (2429,)\n",
      "Test set: (810, 4) (810,)\n"
     ]
    }
   ],
   "source": [
    "# Splitting the dataset into the Training set and Test set\n",
    "from sklearn.model_selection import train_test_split\n",
    "X_train, X_test, y_train, y_test = train_test_split(X, y, test_size = 0.25, random_state = 0)\n",
    "print ('Train set:', X_train.shape,  y_train.shape)\n",
    "print ('Test set:', X_test.shape,  y_test.shape)"
   ]
  },
  {
   "cell_type": "markdown",
   "metadata": {
    "id": "Q_PG_vGQLTAV"
   },
   "source": [
    "# **Dataset Traning and Model Traning**"
   ]
  },
  {
   "cell_type": "code",
   "execution_count": 109,
   "metadata": {
    "colab": {
     "base_uri": "https://localhost:8080/"
    },
    "executionInfo": {
     "elapsed": 714,
     "status": "ok",
     "timestamp": 1653817043132,
     "user": {
      "displayName": "Yasmika Saubhagya",
      "userId": "03994298176371627885"
     },
     "user_tz": -330
    },
    "id": "wklifCv0LVs-",
    "outputId": "16e29329-eff1-4ab5-ea11-db5a69e952e3"
   },
   "outputs": [
    {
     "data": {
      "text/plain": [
       "LogisticRegression(C=0.01, solver='liblinear')"
      ]
     },
     "execution_count": 109,
     "metadata": {},
     "output_type": "execute_result"
    }
   ],
   "source": [
    "# Fitting Logistic Regression to the Training set\n",
    "from sklearn.linear_model import LogisticRegression\n",
    "from sklearn.metrics import confusion_matrix\n",
    "LR = LogisticRegression(C=0.01, solver='liblinear').fit(X_train,y_train)\n",
    "LR"
   ]
  },
  {
   "cell_type": "markdown",
   "metadata": {
    "id": "oUM6xEJ9Lvb-"
   },
   "source": [
    "# **Comparison of Actual Values and Predictions Values**"
   ]
  },
  {
   "cell_type": "code",
   "execution_count": 110,
   "metadata": {
    "colab": {
     "base_uri": "https://localhost:8080/"
    },
    "executionInfo": {
     "elapsed": 545,
     "status": "ok",
     "timestamp": 1653817188016,
     "user": {
      "displayName": "Yasmika Saubhagya",
      "userId": "03994298176371627885"
     },
     "user_tz": -330
    },
    "id": "IE3NxusdLyZL",
    "outputId": "d0475674-8ca8-4300-f579-95e2ad743982"
   },
   "outputs": [
    {
     "data": {
      "text/plain": [
       "array([-1, -1, -1, -1, -1, -1, -1, -1, -1, -1, -1, -1, -1, -1, -1, -1, -1,\n",
       "       -1, -1, -1, -1, -1, -1, -1, -1, -1, -1, -1, -1, -1, -1, -1, -1, -1,\n",
       "       -1, -1, -1, -1, -1, -1, -1, -1, -1, -1, -1, -1, -1, -1, -1, -1, -1,\n",
       "       -1, -1, -1, -1, -1, -1, -1, -1, -1, -1, -1, -1, -1, -1, -1, -1, -1,\n",
       "       -1, -1, -1, -1, -1, -1, -1, -1, -1, -1, -1, -1, -1, -1, -1, -1, -1,\n",
       "       -1, -1, -1, -1, -1, -1, -1, -1, -1, -1, -1, -1, -1, -1, -1, -1, -1,\n",
       "       -1, -1, -1, -1, -1, -1, -1, -1, -1, -1, -1, -1, -1, -1, -1, -1, -1,\n",
       "       -1, -1, -1, -1, -1, -1, -1, -1, -1, -1, -1, -1, -1, -1, -1, -1, -1,\n",
       "       -1, -1, -1, -1, -1, -1, -1, -1, -1, -1, -1, -1, -1, -1, -1, -1, -1,\n",
       "       -1, -1, -1, -1, -1, -1, -1, -1, -1, -1, -1, -1, -1, -1, -1, -1, -1,\n",
       "       -1, -1, -1, -1, -1, -1, -1, -1, -1, -1, -1, -1, -1, -1, -1, -1, -1,\n",
       "       -1, -1, -1, -1, -1, -1, -1, -1, -1, -1, -1, -1, -1, -1, -1, -1, -1,\n",
       "       -1, -1, -1, -1, -1, -1, -1, -1, -1, -1, -1, -1, -1, -1, -1, -1, -1,\n",
       "       -1, -1, -1, -1, -1, -1, -1, -1, -1, -1, -1, -1, -1, -1, -1, -1, -1,\n",
       "       -1, -1, -1, -1, -1, -1, -1, -1, -1, -1, -1, -1, -1, -1, -1, -1, -1,\n",
       "       -1, -1, -1, -1, -1, -1, -1, -1, -1, -1, -1, -1, -1, -1, -1, -1, -1,\n",
       "       -1, -1, -1, -1, -1, -1, -1, -1, -1, -1, -1, -1, -1, -1, -1, -1, -1,\n",
       "       -1, -1, -1, -1, -1, -1, -1, -1, -1, -1, -1, -1, -1, -1, -1, -1, -1,\n",
       "       -1, -1, -1, -1, -1, -1, -1, -1, -1, -1, -1, -1, -1, -1, -1, -1, -1,\n",
       "       -1, -1, -1, -1, -1, -1, -1, -1, -1, -1, -1, -1, -1, -1, -1, -1, -1,\n",
       "       -1, -1, -1, -1, -1, -1, -1, -1, -1, -1, -1, -1, -1, -1, -1, -1, -1,\n",
       "       -1, -1, -1, -1, -1, -1, -1, -1, -1, -1, -1, -1, -1, -1, -1, -1, -1,\n",
       "       -1, -1, -1, -1, -1, -1, -1, -1, -1, -1, -1, -1, -1, -1, -1, -1, -1,\n",
       "       -1, -1, -1, -1, -1, -1, -1, -1, -1, -1, -1, -1, -1, -1, -1, -1, -1,\n",
       "       -1, -1, -1, -1, -1, -1, -1, -1, -1, -1, -1, -1, -1, -1, -1, -1, -1,\n",
       "       -1, -1, -1, -1, -1, -1, -1, -1, -1, -1, -1, -1, -1, -1, -1, -1, -1,\n",
       "       -1, -1, -1, -1, -1, -1, -1, -1, -1, -1, -1, -1, -1, -1, -1, -1, -1,\n",
       "       -1, -1, -1, -1, -1, -1, -1, -1, -1, -1, -1, -1, -1, -1, -1, -1, -1,\n",
       "       -1, -1, -1, -1, -1, -1, -1, -1, -1, -1, -1, -1, -1, -1, -1, -1, -1,\n",
       "       -1, -1, -1, -1, -1, -1, -1, -1, -1, -1, -1, -1, -1, -1, -1, -1, -1,\n",
       "       -1, -1, -1, -1, -1, -1, -1, -1, -1, -1, -1, -1, -1, -1, -1, -1, -1,\n",
       "       -1, -1, -1, -1, -1, -1, -1, -1, -1, -1, -1, -1, -1, -1, -1, -1, -1,\n",
       "       -1, -1, -1, -1, -1, -1, -1, -1, -1, -1, -1, -1, -1, -1, -1, -1, -1,\n",
       "       -1, -1, -1, -1, -1, -1, -1, -1, -1, -1, -1, -1, -1, -1, -1, -1, -1,\n",
       "       -1, -1, -1, -1, -1, -1, -1, -1, -1, -1, -1, -1, -1, -1, -1, -1, -1,\n",
       "       -1, -1, -1, -1, -1, -1, -1, -1, -1, -1, -1, -1, -1, -1, -1, -1, -1,\n",
       "       -1, -1, -1, -1, -1, -1, -1, -1, -1, -1, -1, -1, -1, -1, -1, -1, -1,\n",
       "       -1, -1, -1, -1, -1, -1, -1, -1, -1, -1, -1, -1, -1, -1, -1, -1, -1,\n",
       "       -1, -1, -1, -1, -1, -1, -1, -1, -1, -1, -1, -1, -1, -1, -1, -1, -1,\n",
       "       -1, -1, -1, -1, -1, -1, -1, -1, -1, -1, -1, -1, -1, -1, -1, -1, -1,\n",
       "       -1, -1, -1, -1, -1, -1, -1, -1, -1, -1, -1, -1, -1, -1, -1, -1, -1,\n",
       "       -1, -1, -1, -1, -1, -1, -1, -1, -1, -1, -1, -1, -1, -1, -1, -1, -1,\n",
       "       -1, -1, -1, -1, -1, -1, -1, -1, -1, -1, -1, -1, -1, -1, -1, -1, -1,\n",
       "       -1, -1, -1, -1, -1, -1, -1, -1, -1, -1, -1, -1, -1, -1, -1, -1, -1,\n",
       "       -1, -1, -1, -1, -1, -1, -1, -1, -1, -1, -1, -1, -1, -1, -1, -1, -1,\n",
       "       -1, -1, -1, -1, -1, -1, -1, -1, -1, -1, -1, -1, -1, -1, -1, -1, -1,\n",
       "       -1, -1, -1, -1, -1, -1, -1, -1, -1, -1, -1, -1, -1, -1, -1, -1, -1,\n",
       "       -1, -1, -1, -1, -1, -1, -1, -1, -1, -1, -1])"
      ]
     },
     "execution_count": 110,
     "metadata": {},
     "output_type": "execute_result"
    }
   ],
   "source": [
    "# Predicting the Test set results\n",
    "yhat = LR.predict(X_test)\n",
    "yhat"
   ]
  },
  {
   "cell_type": "code",
   "execution_count": 111,
   "metadata": {
    "colab": {
     "base_uri": "https://localhost:8080/"
    },
    "executionInfo": {
     "elapsed": 491,
     "status": "ok",
     "timestamp": 1653817190977,
     "user": {
      "displayName": "Yasmika Saubhagya",
      "userId": "03994298176371627885"
     },
     "user_tz": -330
    },
    "id": "9s0m-VEzL0My",
    "outputId": "a7591249-0cf3-4762-f3f8-ce474c107f6a"
   },
   "outputs": [
    {
     "data": {
      "text/plain": [
       "array([[0.59, 0.41],\n",
       "       [0.58, 0.42],\n",
       "       [0.58, 0.42],\n",
       "       ...,\n",
       "       [0.58, 0.42],\n",
       "       [0.59, 0.41],\n",
       "       [0.58, 0.42]])"
      ]
     },
     "execution_count": 111,
     "metadata": {},
     "output_type": "execute_result"
    }
   ],
   "source": [
    "# predict_proba is returns of estimates for all classes, ordered by the label of classes. \n",
    "# The first column is the probability of class 1, P(Y=1|X), and second column is probability of class 0, P(Y=0|X)\n",
    "yhat_prob = LR.predict_proba(X_test)\n",
    "yhat_prob"
   ]
  },
  {
   "cell_type": "code",
   "execution_count": 112,
   "metadata": {
    "colab": {
     "base_uri": "https://localhost:8080/"
    },
    "executionInfo": {
     "elapsed": 2,
     "status": "ok",
     "timestamp": 1653817194355,
     "user": {
      "displayName": "Yasmika Saubhagya",
      "userId": "03994298176371627885"
     },
     "user_tz": -330
    },
    "id": "7qeaZkuUL2SC",
    "outputId": "29790dbc-536a-4d69-e7d2-bca3939c3cf3"
   },
   "outputs": [
    {
     "data": {
      "text/plain": [
       "0.0"
      ]
     },
     "execution_count": 112,
     "metadata": {},
     "output_type": "execute_result"
    }
   ],
   "source": [
    "# Making the Confusion Matrix\n",
    "from sklearn.metrics import jaccard_score\n",
    "jaccard_score(y_test, yhat)"
   ]
  },
  {
   "cell_type": "code",
   "execution_count": 113,
   "metadata": {
    "colab": {
     "base_uri": "https://localhost:8080/"
    },
    "executionInfo": {
     "elapsed": 9,
     "status": "ok",
     "timestamp": 1653817196041,
     "user": {
      "displayName": "Yasmika Saubhagya",
      "userId": "03994298176371627885"
     },
     "user_tz": -330
    },
    "id": "erppyxY0L4tz",
    "outputId": "bf019582-b5e0-4395-a8e3-b893a56afb19"
   },
   "outputs": [
    {
     "name": "stdout",
     "output_type": "stream",
     "text": [
      "[[0 0]\n",
      " [0 0]]\n"
     ]
    }
   ],
   "source": [
    "# Confusion Matrix\n",
    "\n",
    "from sklearn.metrics import classification_report, confusion_matrix\n",
    "import itertools\n",
    "def plot_confusion_matrix(cm, classes,\n",
    "                          normalize=False,\n",
    "                          title='Confusion matrix',\n",
    "                          cmap=plt.cm.Blues):\n",
    "    \"\"\"\n",
    "    This function prints and plots the confusion matrix.\n",
    "    Normalization can be applied by setting `normalize=True`.\n",
    "    \"\"\"\n",
    "    if normalize:\n",
    "        cm = cm.astype('float') / cm.sum(axis=1)[:, np.newaxis]\n",
    "        print(\"Normalized confusion matrix\")\n",
    "    else:\n",
    "        print('Confusion matrix, without normalization')\n",
    "\n",
    "    print(cm)\n",
    "\n",
    "    plt.imshow(cm, interpolation='nearest', cmap=cmap)\n",
    "    plt.title(title)\n",
    "    plt.colorbar()\n",
    "    tick_marks = np.arange(len(classes))\n",
    "    plt.xticks(tick_marks, classes, rotation=45)\n",
    "    plt.yticks(tick_marks, classes)\n",
    "\n",
    "    fmt = '.2f' if normalize else 'd'\n",
    "    thresh = cm.max() / 2.\n",
    "    for i, j in itertools.product(range(cm.shape[0]), range(cm.shape[1])):\n",
    "        plt.text(j, i, format(cm[i, j], fmt),\n",
    "                 horizontalalignment=\"center\",\n",
    "                 color=\"white\" if cm[i, j] > thresh else \"black\")\n",
    "\n",
    "    plt.tight_layout()\n",
    "    plt.ylabel('True label')\n",
    "    plt.xlabel('Predicted label')\n",
    "print(confusion_matrix(y_test, yhat, labels=[1,0]))"
   ]
  },
  {
   "cell_type": "markdown",
   "metadata": {
    "id": "JyblobopMXD_"
   },
   "source": [
    "# **Accuracy and Loss Function Values of the Model**"
   ]
  },
  {
   "cell_type": "code",
   "execution_count": 114,
   "metadata": {
    "colab": {
     "base_uri": "https://localhost:8080/",
     "height": 363
    },
    "executionInfo": {
     "elapsed": 1478,
     "status": "ok",
     "timestamp": 1653817447992,
     "user": {
      "displayName": "Yasmika Saubhagya",
      "userId": "03994298176371627885"
     },
     "user_tz": -330
    },
    "id": "8tOI_0Q7MqdR",
    "outputId": "09113f0c-0136-46b0-ff82-01e6e8b83e05"
   },
   "outputs": [
    {
     "name": "stdout",
     "output_type": "stream",
     "text": [
      "Confusion matrix, without normalization\n",
      "[[0 0]\n",
      " [0 0]]\n"
     ]
    },
    {
     "data": {
      "image/png": "[encoded data removed]",
      "text/plain": [
       "<Figure size 432x288 with 2 Axes>"
      ]
     },
     "metadata": {
      "needs_background": "light"
     },
     "output_type": "display_data"
    }
   ],
   "source": [
    "# Compute confusion matrix\n",
    "cnf_matrix = confusion_matrix(y_test, yhat, labels=[1,0])\n",
    "np.set_printoptions(precision=2)\n",
    "\n",
    "\n",
    "# Plot non-normalized confusion matrix\n",
    "plt.figure()\n",
    "plot_confusion_matrix(cnf_matrix, classes=['Buy_Sell=1','Buy_Sell=0'],normalize= False,  title='Confusion matrix')"
   ]
  },
  {
   "cell_type": "code",
   "execution_count": 115,
   "metadata": {
    "colab": {
     "base_uri": "https://localhost:8080/"
    },
    "executionInfo": {
     "elapsed": 467,
     "status": "ok",
     "timestamp": 1653817450793,
     "user": {
      "displayName": "Yasmika Saubhagya",
      "userId": "03994298176371627885"
     },
     "user_tz": -330
    },
    "id": "_akpaQU7MsVf",
    "outputId": "a5f42dda-ca63-4c86-ff08-c5218ceb045e"
   },
   "outputs": [
    {
     "name": "stdout",
     "output_type": "stream",
     "text": [
      "              precision    recall  f1-score   support\n",
      "\n",
      "          -1       0.62      1.00      0.77       502\n",
      "           1       0.00      0.00      0.00       308\n",
      "\n",
      "    accuracy                           0.62       810\n",
      "   macro avg       0.31      0.50      0.38       810\n",
      "weighted avg       0.38      0.62      0.47       810\n",
      "\n"
     ]
    }
   ],
   "source": [
    "print(classification_report(y_test, yhat))"
   ]
  },
  {
   "cell_type": "code",
   "execution_count": 116,
   "metadata": {
    "colab": {
     "base_uri": "https://localhost:8080/"
    },
    "executionInfo": {
     "elapsed": 9,
     "status": "ok",
     "timestamp": 1653817453163,
     "user": {
      "displayName": "Yasmika Saubhagya",
      "userId": "03994298176371627885"
     },
     "user_tz": -330
    },
    "id": "Di7zWDJRMvq8",
    "outputId": "807f163e-9f57-42c2-e2b0-e1e2e0001890"
   },
   "outputs": [
    {
     "name": "stdout",
     "output_type": "stream",
     "text": [
      "Accuracy: 0.6197530864197531\n",
      "Precision: 0.0\n",
      "Recall: 0.0\n"
     ]
    }
   ],
   "source": [
    "from sklearn import metrics\n",
    "\n",
    "print(\"Accuracy:\",metrics.accuracy_score(y_test, yhat))\n",
    "print(\"Precision:\",metrics.precision_score(y_test, yhat))\n",
    "print(\"Recall:\",metrics.recall_score(y_test, yhat))"
   ]
  },
  {
   "cell_type": "code",
   "execution_count": 117,
   "metadata": {
    "colab": {
     "base_uri": "https://localhost:8080/"
    },
    "executionInfo": {
     "elapsed": 706,
     "status": "ok",
     "timestamp": 1653817455671,
     "user": {
      "displayName": "Yasmika Saubhagya",
      "userId": "03994298176371627885"
     },
     "user_tz": -330
    },
    "id": "bqkfn6vXMxG-",
    "outputId": "3145d296-4789-4b42-f8c2-1667c00afc7d"
   },
   "outputs": [
    {
     "data": {
      "text/plain": [
       "0.6668765080044472"
      ]
     },
     "execution_count": 117,
     "metadata": {},
     "output_type": "execute_result"
    }
   ],
   "source": [
    "# Log loss( Logarithmic loss) measures the performance of a classifier where the predicted output is a probability value between 0 and 1.\n",
    "from sklearn.metrics import log_loss\n",
    "log_loss(y_test, yhat_prob)"
   ]
  },
  {
   "cell_type": "code",
   "execution_count": 118,
   "metadata": {
    "colab": {
     "base_uri": "https://localhost:8080/"
    },
    "executionInfo": {
     "elapsed": 3,
     "status": "ok",
     "timestamp": 1653817457407,
     "user": {
      "displayName": "Yasmika Saubhagya",
      "userId": "03994298176371627885"
     },
     "user_tz": -330
    },
    "id": "_8ZjauTTMymz",
    "outputId": "d106f40f-6c74-4b3d-d1e6-7ac19b933bc1"
   },
   "outputs": [
    {
     "name": "stdout",
     "output_type": "stream",
     "text": [
      "LogLoss: : 0.67\n"
     ]
    }
   ],
   "source": [
    "LR2 = LogisticRegression(C=0.01, solver='sag').fit(X_train,y_train)\n",
    "yhat_prob2 = LR2.predict_proba(X_test)\n",
    "print (\"LogLoss: : %.2f\" % log_loss(y_test, yhat_prob2))"
   ]
  },
  {
   "cell_type": "code",
   "execution_count": 119,
   "metadata": {
    "colab": {
     "base_uri": "https://localhost:8080/",
     "height": 265
    },
    "executionInfo": {
     "elapsed": 904,
     "status": "ok",
     "timestamp": 1653817460451,
     "user": {
      "displayName": "Yasmika Saubhagya",
      "userId": "03994298176371627885"
     },
     "user_tz": -330
    },
    "id": "13sifMNoMz8u",
    "outputId": "8b91c172-bc50-49b0-8072-ee6863e3f435",
    "scrolled": true
   },
   "outputs": [
    {
     "data": {
      "image/png": "[encoded data removed]",
      "text/plain": [
       "<Figure size 432x288 with 1 Axes>"
      ]
     },
     "metadata": {
      "needs_background": "light"
     },
     "output_type": "display_data"
    }
   ],
   "source": [
    "y_pred_proba = LR.predict_proba(X_test)[::,1]\n",
    "fpr, tpr, _ = metrics.roc_curve(y_test,  y_pred_proba)\n",
    "aucScore = metrics.roc_auc_score(y_test, y_pred_proba)\n",
    "plt.plot(fpr,tpr,label=\"data 1, auc score=\"+str(aucScore))\n",
    "plt.legend(loc=4)\n",
    "plt.show()"
   ]
  },
  {
   "cell_type": "code",
   "execution_count": 120,
   "metadata": {
    "colab": {
     "base_uri": "https://localhost:8080/"
    },
    "executionInfo": {
     "elapsed": 8,
     "status": "ok",
     "timestamp": 1653817461080,
     "user": {
      "displayName": "Yasmika Saubhagya",
      "userId": "03994298176371627885"
     },
     "user_tz": -330
    },
    "id": "bm6SNLQ2M1mM",
    "outputId": "50d8c55b-eb94-45a1-d716-4c9ff8351626"
   },
   "outputs": [
    {
     "name": "stdout",
     "output_type": "stream",
     "text": [
      "LogLoss: : 0.67\n"
     ]
    }
   ],
   "source": [
    "#Display logloss\n",
    "print(\"LogLoss: : %.2f\" % log_loss(y_test, yhat_prob2))"
   ]
  },
  {
   "cell_type": "code",
   "execution_count": 121,
   "metadata": {
    "colab": {
     "base_uri": "https://localhost:8080/"
    },
    "executionInfo": {
     "elapsed": 8,
     "status": "ok",
     "timestamp": 1653817461081,
     "user": {
      "displayName": "Yasmika Saubhagya",
      "userId": "03994298176371627885"
     },
     "user_tz": -330
    },
    "id": "YmmnkTqCM2zd",
    "outputId": "6c3dc9e6-17d8-4104-af3c-5bf2ed488046"
   },
   "outputs": [
    {
     "name": "stdout",
     "output_type": "stream",
     "text": [
      "Accuracy: 0.6197530864197531\n"
     ]
    }
   ],
   "source": [
    "#Display accuracy score\n",
    "print(\"Accuracy:\",metrics.accuracy_score(y_test, yhat))\n"
   ]
  },
  {
   "cell_type": "code",
   "execution_count": null,
   "metadata": {},
   "outputs": [],
   "source": []
  }
 ],
 "metadata": {
  "colab": {
   "collapsed_sections": [
    "GzV2Od0xKLF8"
   ],
   "name": "Logistic_Regression_For_Stock_Price_Prediction.ipynb",
   "provenance": []
  },
  "kernelspec": {
   "display_name": "Python 3 (ipykernel)",
   "language": "python",
   "name": "python3"
  },
  "language_info": {
   "codemirror_mode": {
    "name": "ipython",
    "version": 3
   },
   "file_extension": ".py",
   "mimetype": "text/x-python",
   "name": "python",
   "nbconvert_exporter": "python",
   "pygments_lexer": "ipython3",
   "version": "3.9.12"
  }
 },
 "nbformat": 4,
 "nbformat_minor": 1
}
