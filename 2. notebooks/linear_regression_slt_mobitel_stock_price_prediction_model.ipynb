{
 "cells": [
  {
   "cell_type": "markdown",
   "metadata": {
    "id": "z732hgQ2ciNC"
   },
   "source": [
    "# 📉📊📈**Comparing the Performance of Various Machine Learning Models for SLT Stock Price Prediction**📉📊📈\n"
   ]
  },
  {
   "cell_type": "markdown",
   "metadata": {
    "id": "VUbbWNHO86Ay"
   },
   "source": [
    "# ✅ **Linear Regression** ✅"
   ]
  },
  {
   "cell_type": "markdown",
   "metadata": {
    "id": "wqpTHaa4PthQ"
   },
   "source": [
    "Linear regression is a statistical method that models the relationship between two variables using a linear equation. One variable is considered explanatory (X), and the other is dependent (Y). For example, it can be used to study how height (X) affects weight (Y) by estimating the best-fitting line through observed data. Linear regression is a common technique in data analysis, machine learning, and statistical modeling, providing insights into the direction and strength of the relationship between variables."
   ]
  },
  {
   "cell_type": "markdown",
   "metadata": {
    "id": "bC-terfV7pNG"
   },
   "source": [
    "# **Import Libraries**"
   ]
  },
  {
   "cell_type": "code",
   "execution_count": 52,
   "metadata": {
    "ExecuteTime": {
     "end_time": "2023-04-11T15:27:47.423651Z",
     "start_time": "2023-04-11T15:27:47.176624Z"
    },
    "id": "gAv4FjmT9AJy"
   },
   "outputs": [],
   "source": [
    "# import libraries\n",
    "import numpy as np\n",
    "import pandas as pd\n",
    "import seaborn as sns\n",
    "from sklearn import metrics\n",
    "import matplotlib.pyplot as plt\n",
    "from sklearn.linear_model import LinearRegression\n",
    "from sklearn.model_selection import cross_val_score\n",
    "from sklearn.model_selection import train_test_split\n",
    "\n",
    "import warnings\n",
    "warnings.filterwarnings(\"ignore\")"
   ]
  },
  {
   "cell_type": "markdown",
   "metadata": {},
   "source": [
    "# **Load Dataset into the Data Frame**"
   ]
  },
  {
   "cell_type": "code",
   "execution_count": 53,
   "metadata": {
    "ExecuteTime": {
     "end_time": "2023-04-11T15:27:25.643709Z",
     "start_time": "2023-04-11T15:27:13.442115Z"
    }
   },
   "outputs": [
    {
     "data": {
      "text/html": [
       "<div>\n",
       "<style scoped>\n",
       "    .dataframe tbody tr th:only-of-type {\n",
       "        vertical-align: middle;\n",
       "    }\n",
       "\n",
       "    .dataframe tbody tr th {\n",
       "        vertical-align: top;\n",
       "    }\n",
       "\n",
       "    .dataframe thead th {\n",
       "        text-align: right;\n",
       "    }\n",
       "</style>\n",
       "<table border=\"1\" class=\"dataframe\">\n",
       "  <thead>\n",
       "    <tr style=\"text-align: right;\">\n",
       "      <th></th>\n",
       "      <th>Date</th>\n",
       "      <th>Price</th>\n",
       "      <th>Open</th>\n",
       "      <th>High</th>\n",
       "      <th>Low</th>\n",
       "      <th>Vol.</th>\n",
       "      <th>Change %</th>\n",
       "    </tr>\n",
       "  </thead>\n",
       "  <tbody>\n",
       "    <tr>\n",
       "      <th>0</th>\n",
       "      <td>7/8/2009</td>\n",
       "      <td>46.50</td>\n",
       "      <td>48.0</td>\n",
       "      <td>48.0</td>\n",
       "      <td>46.50</td>\n",
       "      <td>9.90K</td>\n",
       "      <td>-0.53%</td>\n",
       "    </tr>\n",
       "    <tr>\n",
       "      <th>1</th>\n",
       "      <td>7/9/2009</td>\n",
       "      <td>46.00</td>\n",
       "      <td>47.0</td>\n",
       "      <td>47.0</td>\n",
       "      <td>45.75</td>\n",
       "      <td>17.40K</td>\n",
       "      <td>-1.08%</td>\n",
       "    </tr>\n",
       "    <tr>\n",
       "      <th>2</th>\n",
       "      <td>7/13/2009</td>\n",
       "      <td>45.75</td>\n",
       "      <td>46.0</td>\n",
       "      <td>47.0</td>\n",
       "      <td>45.75</td>\n",
       "      <td>22.10K</td>\n",
       "      <td>-0.54%</td>\n",
       "    </tr>\n",
       "    <tr>\n",
       "      <th>3</th>\n",
       "      <td>7/14/2009</td>\n",
       "      <td>45.75</td>\n",
       "      <td>45.5</td>\n",
       "      <td>46.0</td>\n",
       "      <td>45.00</td>\n",
       "      <td>20.60K</td>\n",
       "      <td>0.00%</td>\n",
       "    </tr>\n",
       "    <tr>\n",
       "      <th>4</th>\n",
       "      <td>7/15/2009</td>\n",
       "      <td>45.50</td>\n",
       "      <td>45.5</td>\n",
       "      <td>46.0</td>\n",
       "      <td>45.25</td>\n",
       "      <td>23.60K</td>\n",
       "      <td>-0.55%</td>\n",
       "    </tr>\n",
       "    <tr>\n",
       "      <th>...</th>\n",
       "      <td>...</td>\n",
       "      <td>...</td>\n",
       "      <td>...</td>\n",
       "      <td>...</td>\n",
       "      <td>...</td>\n",
       "      <td>...</td>\n",
       "      <td>...</td>\n",
       "    </tr>\n",
       "    <tr>\n",
       "      <th>95</th>\n",
       "      <td>11/25/2009</td>\n",
       "      <td>40.00</td>\n",
       "      <td>40.5</td>\n",
       "      <td>41.0</td>\n",
       "      <td>39.50</td>\n",
       "      <td>19.80K</td>\n",
       "      <td>-1.23%</td>\n",
       "    </tr>\n",
       "    <tr>\n",
       "      <th>96</th>\n",
       "      <td>11/26/2009</td>\n",
       "      <td>39.75</td>\n",
       "      <td>40.0</td>\n",
       "      <td>40.0</td>\n",
       "      <td>39.75</td>\n",
       "      <td>15.00K</td>\n",
       "      <td>-0.63%</td>\n",
       "    </tr>\n",
       "    <tr>\n",
       "      <th>97</th>\n",
       "      <td>11/27/2009</td>\n",
       "      <td>40.00</td>\n",
       "      <td>40.0</td>\n",
       "      <td>40.0</td>\n",
       "      <td>39.50</td>\n",
       "      <td>16.60K</td>\n",
       "      <td>0.63%</td>\n",
       "    </tr>\n",
       "    <tr>\n",
       "      <th>98</th>\n",
       "      <td>11/30/2009</td>\n",
       "      <td>41.25</td>\n",
       "      <td>40.5</td>\n",
       "      <td>42.0</td>\n",
       "      <td>40.25</td>\n",
       "      <td>8.20K</td>\n",
       "      <td>3.13%</td>\n",
       "    </tr>\n",
       "    <tr>\n",
       "      <th>99</th>\n",
       "      <td>12/2/2009</td>\n",
       "      <td>41.50</td>\n",
       "      <td>41.0</td>\n",
       "      <td>42.0</td>\n",
       "      <td>41.00</td>\n",
       "      <td>20.20K</td>\n",
       "      <td>0.61%</td>\n",
       "    </tr>\n",
       "  </tbody>\n",
       "</table>\n",
       "<p>100 rows × 7 columns</p>\n",
       "</div>"
      ],
      "text/plain": [
       "          Date  Price  Open  High    Low    Vol. Change %\n",
       "0     7/8/2009  46.50  48.0  48.0  46.50   9.90K   -0.53%\n",
       "1     7/9/2009  46.00  47.0  47.0  45.75  17.40K   -1.08%\n",
       "2    7/13/2009  45.75  46.0  47.0  45.75  22.10K   -0.54%\n",
       "3    7/14/2009  45.75  45.5  46.0  45.00  20.60K    0.00%\n",
       "4    7/15/2009  45.50  45.5  46.0  45.25  23.60K   -0.55%\n",
       "..         ...    ...   ...   ...    ...     ...      ...\n",
       "95  11/25/2009  40.00  40.5  41.0  39.50  19.80K   -1.23%\n",
       "96  11/26/2009  39.75  40.0  40.0  39.75  15.00K   -0.63%\n",
       "97  11/27/2009  40.00  40.0  40.0  39.50  16.60K    0.63%\n",
       "98  11/30/2009  41.25  40.5  42.0  40.25   8.20K    3.13%\n",
       "99   12/2/2009  41.50  41.0  42.0  41.00  20.20K    0.61%\n",
       "\n",
       "[100 rows x 7 columns]"
      ]
     },
     "execution_count": 53,
     "metadata": {},
     "output_type": "execute_result"
    }
   ],
   "source": [
    "# Import the dataset\n",
    "dataset = pd.read_csv(r\"..\\1. dataset\\TeleCom_2009_2023_Daily.csv\")\n",
    "\n",
    "# View Columns\n",
    "dataset.head(100)"
   ]
  },
  {
   "cell_type": "markdown",
   "metadata": {},
   "source": [
    "# **Dataset Preprocessing**"
   ]
  },
  {
   "cell_type": "code",
   "execution_count": 54,
   "metadata": {
    "ExecuteTime": {
     "end_time": "2023-04-11T15:27:25.678636Z",
     "start_time": "2023-04-11T15:27:25.638457Z"
    }
   },
   "outputs": [
    {
     "data": {
      "text/html": [
       "<div>\n",
       "<style scoped>\n",
       "    .dataframe tbody tr th:only-of-type {\n",
       "        vertical-align: middle;\n",
       "    }\n",
       "\n",
       "    .dataframe tbody tr th {\n",
       "        vertical-align: top;\n",
       "    }\n",
       "\n",
       "    .dataframe thead th {\n",
       "        text-align: right;\n",
       "    }\n",
       "</style>\n",
       "<table border=\"1\" class=\"dataframe\">\n",
       "  <thead>\n",
       "    <tr style=\"text-align: right;\">\n",
       "      <th></th>\n",
       "      <th>Date</th>\n",
       "      <th>Price</th>\n",
       "      <th>Open</th>\n",
       "      <th>High</th>\n",
       "      <th>Low</th>\n",
       "      <th>Vol.</th>\n",
       "      <th>Change %</th>\n",
       "      <th>Open_Close</th>\n",
       "      <th>High_Low</th>\n",
       "      <th>Buy_Sell_on_Open</th>\n",
       "      <th>Increase_Decrease</th>\n",
       "      <th>Buy_Sell</th>\n",
       "      <th>Returns</th>\n",
       "    </tr>\n",
       "  </thead>\n",
       "  <tbody>\n",
       "    <tr>\n",
       "      <th>1</th>\n",
       "      <td>7/9/2009</td>\n",
       "      <td>46.00</td>\n",
       "      <td>47.00</td>\n",
       "      <td>47.0</td>\n",
       "      <td>45.75</td>\n",
       "      <td>17.40K</td>\n",
       "      <td>-1.08%</td>\n",
       "      <td>0.021277</td>\n",
       "      <td>0.027322</td>\n",
       "      <td>0</td>\n",
       "      <td>1</td>\n",
       "      <td>0</td>\n",
       "      <td>-0.010753</td>\n",
       "    </tr>\n",
       "    <tr>\n",
       "      <th>2</th>\n",
       "      <td>7/13/2009</td>\n",
       "      <td>45.75</td>\n",
       "      <td>46.00</td>\n",
       "      <td>47.0</td>\n",
       "      <td>45.75</td>\n",
       "      <td>22.10K</td>\n",
       "      <td>-0.54%</td>\n",
       "      <td>0.005435</td>\n",
       "      <td>0.027322</td>\n",
       "      <td>0</td>\n",
       "      <td>0</td>\n",
       "      <td>0</td>\n",
       "      <td>-0.005435</td>\n",
       "    </tr>\n",
       "    <tr>\n",
       "      <th>3</th>\n",
       "      <td>7/14/2009</td>\n",
       "      <td>45.75</td>\n",
       "      <td>45.50</td>\n",
       "      <td>46.0</td>\n",
       "      <td>45.00</td>\n",
       "      <td>20.60K</td>\n",
       "      <td>0.00%</td>\n",
       "      <td>-0.005495</td>\n",
       "      <td>0.022222</td>\n",
       "      <td>0</td>\n",
       "      <td>1</td>\n",
       "      <td>0</td>\n",
       "      <td>0.000000</td>\n",
       "    </tr>\n",
       "    <tr>\n",
       "      <th>4</th>\n",
       "      <td>7/15/2009</td>\n",
       "      <td>45.50</td>\n",
       "      <td>45.50</td>\n",
       "      <td>46.0</td>\n",
       "      <td>45.25</td>\n",
       "      <td>23.60K</td>\n",
       "      <td>-0.55%</td>\n",
       "      <td>0.000000</td>\n",
       "      <td>0.016575</td>\n",
       "      <td>0</td>\n",
       "      <td>1</td>\n",
       "      <td>0</td>\n",
       "      <td>-0.005464</td>\n",
       "    </tr>\n",
       "    <tr>\n",
       "      <th>5</th>\n",
       "      <td>7/16/2009</td>\n",
       "      <td>45.00</td>\n",
       "      <td>45.25</td>\n",
       "      <td>45.5</td>\n",
       "      <td>44.75</td>\n",
       "      <td>42.20K</td>\n",
       "      <td>-1.10%</td>\n",
       "      <td>0.005525</td>\n",
       "      <td>0.016760</td>\n",
       "      <td>0</td>\n",
       "      <td>1</td>\n",
       "      <td>1</td>\n",
       "      <td>-0.010989</td>\n",
       "    </tr>\n",
       "  </tbody>\n",
       "</table>\n",
       "</div>"
      ],
      "text/plain": [
       "        Date  Price   Open  High    Low    Vol. Change %  Open_Close  \\\n",
       "1   7/9/2009  46.00  47.00  47.0  45.75  17.40K   -1.08%    0.021277   \n",
       "2  7/13/2009  45.75  46.00  47.0  45.75  22.10K   -0.54%    0.005435   \n",
       "3  7/14/2009  45.75  45.50  46.0  45.00  20.60K    0.00%   -0.005495   \n",
       "4  7/15/2009  45.50  45.50  46.0  45.25  23.60K   -0.55%    0.000000   \n",
       "5  7/16/2009  45.00  45.25  45.5  44.75  42.20K   -1.10%    0.005525   \n",
       "\n",
       "   High_Low  Buy_Sell_on_Open  Increase_Decrease  Buy_Sell   Returns  \n",
       "1  0.027322                 0                  1         0 -0.010753  \n",
       "2  0.027322                 0                  0         0 -0.005435  \n",
       "3  0.022222                 0                  1         0  0.000000  \n",
       "4  0.016575                 0                  1         0 -0.005464  \n",
       "5  0.016760                 0                  1         1 -0.010989  "
      ]
     },
     "execution_count": 54,
     "metadata": {},
     "output_type": "execute_result"
    }
   ],
   "source": [
    "#Preprocess data\n",
    "#normalize and scale data\n",
    "dataset['Open_Close'] = (dataset['Open'] - dataset['Price'])/dataset['Open']\n",
    "dataset['High_Low'] = (dataset['High'] - dataset['Low'])/dataset['Low']\n",
    "dataset['Buy_Sell_on_Open'] = np.where(dataset['Open'].shift(-1) > dataset['Open'],1,0)\n",
    "dataset['Increase_Decrease'] = np.where(dataset['Vol.'].shift(-1) > dataset['Vol.'],1,0)\n",
    "dataset['Buy_Sell'] = np.where(dataset['Price'].shift(-1) > dataset['Price'],1,0)\n",
    "dataset['Returns'] = dataset['Price'].pct_change()\n",
    "dataset = dataset.dropna()\n",
    "dataset.head()"
   ]
  },
  {
   "cell_type": "markdown",
   "metadata": {},
   "source": [
    "# **View Dataset**"
   ]
  },
  {
   "cell_type": "code",
   "execution_count": 55,
   "metadata": {
    "ExecuteTime": {
     "end_time": "2023-04-11T15:27:25.678636Z",
     "start_time": "2023-04-11T15:27:21.885019Z"
    }
   },
   "outputs": [
    {
     "data": {
      "text/html": [
       "<div>\n",
       "<style scoped>\n",
       "    .dataframe tbody tr th:only-of-type {\n",
       "        vertical-align: middle;\n",
       "    }\n",
       "\n",
       "    .dataframe tbody tr th {\n",
       "        vertical-align: top;\n",
       "    }\n",
       "\n",
       "    .dataframe thead th {\n",
       "        text-align: right;\n",
       "    }\n",
       "</style>\n",
       "<table border=\"1\" class=\"dataframe\">\n",
       "  <thead>\n",
       "    <tr style=\"text-align: right;\">\n",
       "      <th></th>\n",
       "      <th>Date</th>\n",
       "      <th>Price</th>\n",
       "      <th>Open</th>\n",
       "      <th>High</th>\n",
       "      <th>Low</th>\n",
       "      <th>Vol.</th>\n",
       "      <th>Change %</th>\n",
       "      <th>Open_Close</th>\n",
       "      <th>High_Low</th>\n",
       "      <th>Buy_Sell_on_Open</th>\n",
       "      <th>Increase_Decrease</th>\n",
       "      <th>Buy_Sell</th>\n",
       "      <th>Returns</th>\n",
       "    </tr>\n",
       "  </thead>\n",
       "  <tbody>\n",
       "    <tr>\n",
       "      <th>1</th>\n",
       "      <td>7/9/2009</td>\n",
       "      <td>46.00</td>\n",
       "      <td>47.00</td>\n",
       "      <td>47.00</td>\n",
       "      <td>45.75</td>\n",
       "      <td>17.40K</td>\n",
       "      <td>-1.08%</td>\n",
       "      <td>0.021277</td>\n",
       "      <td>0.027322</td>\n",
       "      <td>0</td>\n",
       "      <td>1</td>\n",
       "      <td>0</td>\n",
       "      <td>-0.010753</td>\n",
       "    </tr>\n",
       "    <tr>\n",
       "      <th>2</th>\n",
       "      <td>7/13/2009</td>\n",
       "      <td>45.75</td>\n",
       "      <td>46.00</td>\n",
       "      <td>47.00</td>\n",
       "      <td>45.75</td>\n",
       "      <td>22.10K</td>\n",
       "      <td>-0.54%</td>\n",
       "      <td>0.005435</td>\n",
       "      <td>0.027322</td>\n",
       "      <td>0</td>\n",
       "      <td>0</td>\n",
       "      <td>0</td>\n",
       "      <td>-0.005435</td>\n",
       "    </tr>\n",
       "    <tr>\n",
       "      <th>3</th>\n",
       "      <td>7/14/2009</td>\n",
       "      <td>45.75</td>\n",
       "      <td>45.50</td>\n",
       "      <td>46.00</td>\n",
       "      <td>45.00</td>\n",
       "      <td>20.60K</td>\n",
       "      <td>0.00%</td>\n",
       "      <td>-0.005495</td>\n",
       "      <td>0.022222</td>\n",
       "      <td>0</td>\n",
       "      <td>1</td>\n",
       "      <td>0</td>\n",
       "      <td>0.000000</td>\n",
       "    </tr>\n",
       "    <tr>\n",
       "      <th>4</th>\n",
       "      <td>7/15/2009</td>\n",
       "      <td>45.50</td>\n",
       "      <td>45.50</td>\n",
       "      <td>46.00</td>\n",
       "      <td>45.25</td>\n",
       "      <td>23.60K</td>\n",
       "      <td>-0.55%</td>\n",
       "      <td>0.000000</td>\n",
       "      <td>0.016575</td>\n",
       "      <td>0</td>\n",
       "      <td>1</td>\n",
       "      <td>0</td>\n",
       "      <td>-0.005464</td>\n",
       "    </tr>\n",
       "    <tr>\n",
       "      <th>5</th>\n",
       "      <td>7/16/2009</td>\n",
       "      <td>45.00</td>\n",
       "      <td>45.25</td>\n",
       "      <td>45.50</td>\n",
       "      <td>44.75</td>\n",
       "      <td>42.20K</td>\n",
       "      <td>-1.10%</td>\n",
       "      <td>0.005525</td>\n",
       "      <td>0.016760</td>\n",
       "      <td>0</td>\n",
       "      <td>1</td>\n",
       "      <td>1</td>\n",
       "      <td>-0.010989</td>\n",
       "    </tr>\n",
       "    <tr>\n",
       "      <th>...</th>\n",
       "      <td>...</td>\n",
       "      <td>...</td>\n",
       "      <td>...</td>\n",
       "      <td>...</td>\n",
       "      <td>...</td>\n",
       "      <td>...</td>\n",
       "      <td>...</td>\n",
       "      <td>...</td>\n",
       "      <td>...</td>\n",
       "      <td>...</td>\n",
       "      <td>...</td>\n",
       "      <td>...</td>\n",
       "      <td>...</td>\n",
       "    </tr>\n",
       "    <tr>\n",
       "      <th>3234</th>\n",
       "      <td>4/4/2023</td>\n",
       "      <td>91.50</td>\n",
       "      <td>90.60</td>\n",
       "      <td>92.80</td>\n",
       "      <td>89.60</td>\n",
       "      <td>303.49K</td>\n",
       "      <td>0.66%</td>\n",
       "      <td>-0.009934</td>\n",
       "      <td>0.035714</td>\n",
       "      <td>1</td>\n",
       "      <td>1</td>\n",
       "      <td>1</td>\n",
       "      <td>0.006601</td>\n",
       "    </tr>\n",
       "    <tr>\n",
       "      <th>3235</th>\n",
       "      <td>4/6/2023</td>\n",
       "      <td>102.00</td>\n",
       "      <td>92.10</td>\n",
       "      <td>102.00</td>\n",
       "      <td>92.00</td>\n",
       "      <td>734.22K</td>\n",
       "      <td>11.48%</td>\n",
       "      <td>-0.107492</td>\n",
       "      <td>0.108696</td>\n",
       "      <td>1</td>\n",
       "      <td>0</td>\n",
       "      <td>0</td>\n",
       "      <td>0.114754</td>\n",
       "    </tr>\n",
       "    <tr>\n",
       "      <th>3236</th>\n",
       "      <td>4/10/2023</td>\n",
       "      <td>98.00</td>\n",
       "      <td>100.00</td>\n",
       "      <td>102.75</td>\n",
       "      <td>97.30</td>\n",
       "      <td>152.39K</td>\n",
       "      <td>-3.92%</td>\n",
       "      <td>0.020000</td>\n",
       "      <td>0.056012</td>\n",
       "      <td>0</td>\n",
       "      <td>1</td>\n",
       "      <td>1</td>\n",
       "      <td>-0.039216</td>\n",
       "    </tr>\n",
       "    <tr>\n",
       "      <th>3237</th>\n",
       "      <td>4/11/2023</td>\n",
       "      <td>101.50</td>\n",
       "      <td>97.90</td>\n",
       "      <td>103.50</td>\n",
       "      <td>97.30</td>\n",
       "      <td>329.43K</td>\n",
       "      <td>3.57%</td>\n",
       "      <td>-0.036772</td>\n",
       "      <td>0.063720</td>\n",
       "      <td>1</td>\n",
       "      <td>0</td>\n",
       "      <td>0</td>\n",
       "      <td>0.035714</td>\n",
       "    </tr>\n",
       "    <tr>\n",
       "      <th>3238</th>\n",
       "      <td>4/12/2023</td>\n",
       "      <td>99.40</td>\n",
       "      <td>101.00</td>\n",
       "      <td>101.00</td>\n",
       "      <td>96.20</td>\n",
       "      <td>258.99K</td>\n",
       "      <td>-2.07%</td>\n",
       "      <td>0.015842</td>\n",
       "      <td>0.049896</td>\n",
       "      <td>0</td>\n",
       "      <td>0</td>\n",
       "      <td>0</td>\n",
       "      <td>-0.020690</td>\n",
       "    </tr>\n",
       "  </tbody>\n",
       "</table>\n",
       "<p>3220 rows × 13 columns</p>\n",
       "</div>"
      ],
      "text/plain": [
       "           Date   Price    Open    High    Low     Vol. Change %  Open_Close  \\\n",
       "1      7/9/2009   46.00   47.00   47.00  45.75   17.40K   -1.08%    0.021277   \n",
       "2     7/13/2009   45.75   46.00   47.00  45.75   22.10K   -0.54%    0.005435   \n",
       "3     7/14/2009   45.75   45.50   46.00  45.00   20.60K    0.00%   -0.005495   \n",
       "4     7/15/2009   45.50   45.50   46.00  45.25   23.60K   -0.55%    0.000000   \n",
       "5     7/16/2009   45.00   45.25   45.50  44.75   42.20K   -1.10%    0.005525   \n",
       "...         ...     ...     ...     ...    ...      ...      ...         ...   \n",
       "3234   4/4/2023   91.50   90.60   92.80  89.60  303.49K    0.66%   -0.009934   \n",
       "3235   4/6/2023  102.00   92.10  102.00  92.00  734.22K   11.48%   -0.107492   \n",
       "3236  4/10/2023   98.00  100.00  102.75  97.30  152.39K   -3.92%    0.020000   \n",
       "3237  4/11/2023  101.50   97.90  103.50  97.30  329.43K    3.57%   -0.036772   \n",
       "3238  4/12/2023   99.40  101.00  101.00  96.20  258.99K   -2.07%    0.015842   \n",
       "\n",
       "      High_Low  Buy_Sell_on_Open  Increase_Decrease  Buy_Sell   Returns  \n",
       "1     0.027322                 0                  1         0 -0.010753  \n",
       "2     0.027322                 0                  0         0 -0.005435  \n",
       "3     0.022222                 0                  1         0  0.000000  \n",
       "4     0.016575                 0                  1         0 -0.005464  \n",
       "5     0.016760                 0                  1         1 -0.010989  \n",
       "...        ...               ...                ...       ...       ...  \n",
       "3234  0.035714                 1                  1         1  0.006601  \n",
       "3235  0.108696                 1                  0         0  0.114754  \n",
       "3236  0.056012                 0                  1         1 -0.039216  \n",
       "3237  0.063720                 1                  0         0  0.035714  \n",
       "3238  0.049896                 0                  0         0 -0.020690  \n",
       "\n",
       "[3220 rows x 13 columns]"
      ]
     },
     "execution_count": 55,
     "metadata": {},
     "output_type": "execute_result"
    }
   ],
   "source": [
    "# view dataset\n",
    "dataset"
   ]
  },
  {
   "cell_type": "markdown",
   "metadata": {},
   "source": [
    "# **Dataset Cleaning and Null Value Testing**"
   ]
  },
  {
   "cell_type": "code",
   "execution_count": 56,
   "metadata": {
    "ExecuteTime": {
     "end_time": "2023-04-11T12:16:46.016565Z",
     "start_time": "2023-04-11T12:16:45.977662Z"
    }
   },
   "outputs": [
    {
     "data": {
      "text/plain": [
       "Date                 0\n",
       "Price                0\n",
       "Open                 0\n",
       "High                 0\n",
       "Low                  0\n",
       "Vol.                 0\n",
       "Change %             0\n",
       "Open_Close           0\n",
       "High_Low             0\n",
       "Buy_Sell_on_Open     0\n",
       "Increase_Decrease    0\n",
       "Buy_Sell             0\n",
       "Returns              0\n",
       "dtype: int64"
      ]
     },
     "execution_count": 56,
     "metadata": {},
     "output_type": "execute_result"
    }
   ],
   "source": [
    "# view how many null values in each column\n",
    "dataset.isnull().sum()"
   ]
  },
  {
   "cell_type": "code",
   "execution_count": 79,
   "metadata": {
    "ExecuteTime": {
     "end_time": "2023-04-11T12:16:48.466582Z",
     "start_time": "2023-04-11T12:16:47.561304Z"
    }
   },
   "outputs": [
    {
     "data": {
      "text/plain": [
       "<AxesSubplot:>"
      ]
     },
     "execution_count": 79,
     "metadata": {},
     "output_type": "execute_result"
    },
    {
     "data": {
      "image/png": "[encoded data removed]",
      "text/plain": [
       "<Figure size 864x288 with 1 Axes>"
      ]
     },
     "metadata": {
      "needs_background": "light"
     },
     "output_type": "display_data"
    }
   ],
   "source": [
    "#Display a heatmap on null values\n",
    "plt.figure(figsize=(12,4))\n",
    "sns.heatmap(dataset.isnull(), yticklabels=False,cbar=False,cmap='viridis')\n"
   ]
  },
  {
   "cell_type": "markdown",
   "metadata": {},
   "source": [
    "# **Analyze the Dataset**"
   ]
  },
  {
   "cell_type": "code",
   "execution_count": 58,
   "metadata": {
    "ExecuteTime": {
     "end_time": "2023-04-11T12:16:49.073242Z",
     "start_time": "2023-04-11T12:16:48.907640Z"
    }
   },
   "outputs": [
    {
     "data": {
      "text/plain": [
       "(3220, 13)"
      ]
     },
     "execution_count": 58,
     "metadata": {},
     "output_type": "execute_result"
    }
   ],
   "source": [
    "# view number of rows, number of columns\n",
    "dataset.shape"
   ]
  },
  {
   "cell_type": "code",
   "execution_count": 59,
   "metadata": {
    "ExecuteTime": {
     "end_time": "2023-04-11T12:16:49.095182Z",
     "start_time": "2023-04-11T12:16:49.031353Z"
    }
   },
   "outputs": [
    {
     "name": "stdout",
     "output_type": "stream",
     "text": [
      "Total number of records =  41860\n"
     ]
    }
   ],
   "source": [
    "# total number of records\n",
    "dataset.size\n",
    "print(\"Total number of records = \",dataset.size)"
   ]
  },
  {
   "cell_type": "code",
   "execution_count": 60,
   "metadata": {
    "ExecuteTime": {
     "end_time": "2023-04-11T12:16:50.112857Z",
     "start_time": "2023-04-11T12:16:50.084929Z"
    }
   },
   "outputs": [
    {
     "data": {
      "text/plain": [
       "Index(['Date', 'Price', 'Open', 'High', 'Low', 'Vol.', 'Change %',\n",
       "       'Open_Close', 'High_Low', 'Buy_Sell_on_Open', 'Increase_Decrease',\n",
       "       'Buy_Sell', 'Returns'],\n",
       "      dtype='object')"
      ]
     },
     "execution_count": 60,
     "metadata": {},
     "output_type": "execute_result"
    }
   ],
   "source": [
    "# view columns names\n",
    "dataset.columns"
   ]
  },
  {
   "cell_type": "code",
   "execution_count": 61,
   "metadata": {
    "ExecuteTime": {
     "end_time": "2023-04-11T12:16:51.711849Z",
     "start_time": "2023-04-11T12:16:51.678938Z"
    }
   },
   "outputs": [
    {
     "data": {
      "text/plain": [
       "Date                  object\n",
       "Price                float64\n",
       "Open                 float64\n",
       "High                 float64\n",
       "Low                  float64\n",
       "Vol.                  object\n",
       "Change %              object\n",
       "Open_Close           float64\n",
       "High_Low             float64\n",
       "Buy_Sell_on_Open       int32\n",
       "Increase_Decrease      int32\n",
       "Buy_Sell               int32\n",
       "Returns              float64\n",
       "dtype: object"
      ]
     },
     "execution_count": 61,
     "metadata": {},
     "output_type": "execute_result"
    }
   ],
   "source": [
    "# view data types of the columns\n",
    "dataset.dtypes"
   ]
  },
  {
   "cell_type": "code",
   "execution_count": 62,
   "metadata": {
    "ExecuteTime": {
     "end_time": "2023-04-11T12:16:52.913992Z",
     "start_time": "2023-04-11T12:16:52.774846Z"
    }
   },
   "outputs": [
    {
     "name": "stdout",
     "output_type": "stream",
     "text": [
      "<class 'pandas.core.frame.DataFrame'>\n",
      "Int64Index: 3220 entries, 1 to 3238\n",
      "Data columns (total 13 columns):\n",
      " #   Column             Non-Null Count  Dtype  \n",
      "---  ------             --------------  -----  \n",
      " 0   Date               3220 non-null   object \n",
      " 1   Price              3220 non-null   float64\n",
      " 2   Open               3220 non-null   float64\n",
      " 3   High               3220 non-null   float64\n",
      " 4   Low                3220 non-null   float64\n",
      " 5   Vol.               3220 non-null   object \n",
      " 6   Change %           3220 non-null   object \n",
      " 7   Open_Close         3220 non-null   float64\n",
      " 8   High_Low           3220 non-null   float64\n",
      " 9   Buy_Sell_on_Open   3220 non-null   int32  \n",
      " 10  Increase_Decrease  3220 non-null   int32  \n",
      " 11  Buy_Sell           3220 non-null   int32  \n",
      " 12  Returns            3220 non-null   float64\n",
      "dtypes: float64(7), int32(3), object(3)\n",
      "memory usage: 314.5+ KB\n"
     ]
    }
   ],
   "source": [
    "# view dataset info\n",
    "dataset.info()"
   ]
  },
  {
   "cell_type": "code",
   "execution_count": 63,
   "metadata": {
    "ExecuteTime": {
     "end_time": "2023-04-11T12:16:54.206711Z",
     "start_time": "2023-04-11T12:16:54.108452Z"
    }
   },
   "outputs": [
    {
     "data": {
      "text/html": [
       "<div>\n",
       "<style scoped>\n",
       "    .dataframe tbody tr th:only-of-type {\n",
       "        vertical-align: middle;\n",
       "    }\n",
       "\n",
       "    .dataframe tbody tr th {\n",
       "        vertical-align: top;\n",
       "    }\n",
       "\n",
       "    .dataframe thead th {\n",
       "        text-align: right;\n",
       "    }\n",
       "</style>\n",
       "<table border=\"1\" class=\"dataframe\">\n",
       "  <thead>\n",
       "    <tr style=\"text-align: right;\">\n",
       "      <th></th>\n",
       "      <th>Price</th>\n",
       "      <th>Open</th>\n",
       "      <th>High</th>\n",
       "      <th>Low</th>\n",
       "      <th>Open_Close</th>\n",
       "      <th>High_Low</th>\n",
       "      <th>Buy_Sell_on_Open</th>\n",
       "      <th>Increase_Decrease</th>\n",
       "      <th>Buy_Sell</th>\n",
       "      <th>Returns</th>\n",
       "    </tr>\n",
       "  </thead>\n",
       "  <tbody>\n",
       "    <tr>\n",
       "      <th>count</th>\n",
       "      <td>3220.000000</td>\n",
       "      <td>3220.000000</td>\n",
       "      <td>3220.000000</td>\n",
       "      <td>3220.000000</td>\n",
       "      <td>3220.000000</td>\n",
       "      <td>3220.000000</td>\n",
       "      <td>3220.000000</td>\n",
       "      <td>3220.000000</td>\n",
       "      <td>3220.000000</td>\n",
       "      <td>3220.000000</td>\n",
       "    </tr>\n",
       "    <tr>\n",
       "      <th>mean</th>\n",
       "      <td>40.154593</td>\n",
       "      <td>40.143665</td>\n",
       "      <td>40.823121</td>\n",
       "      <td>39.381957</td>\n",
       "      <td>-0.000795</td>\n",
       "      <td>0.035220</td>\n",
       "      <td>0.404658</td>\n",
       "      <td>0.494099</td>\n",
       "      <td>0.397516</td>\n",
       "      <td>0.000611</td>\n",
       "    </tr>\n",
       "    <tr>\n",
       "      <th>std</th>\n",
       "      <td>11.408266</td>\n",
       "      <td>11.433600</td>\n",
       "      <td>11.826151</td>\n",
       "      <td>11.047338</td>\n",
       "      <td>0.027285</td>\n",
       "      <td>0.028890</td>\n",
       "      <td>0.490902</td>\n",
       "      <td>0.500043</td>\n",
       "      <td>0.489460</td>\n",
       "      <td>0.027126</td>\n",
       "    </tr>\n",
       "    <tr>\n",
       "      <th>min</th>\n",
       "      <td>19.000000</td>\n",
       "      <td>19.000000</td>\n",
       "      <td>19.500000</td>\n",
       "      <td>18.000000</td>\n",
       "      <td>-0.252632</td>\n",
       "      <td>0.000000</td>\n",
       "      <td>0.000000</td>\n",
       "      <td>0.000000</td>\n",
       "      <td>0.000000</td>\n",
       "      <td>-0.154489</td>\n",
       "    </tr>\n",
       "    <tr>\n",
       "      <th>25%</th>\n",
       "      <td>32.500000</td>\n",
       "      <td>32.600000</td>\n",
       "      <td>33.000000</td>\n",
       "      <td>32.000000</td>\n",
       "      <td>-0.012658</td>\n",
       "      <td>0.017544</td>\n",
       "      <td>0.000000</td>\n",
       "      <td>0.000000</td>\n",
       "      <td>0.000000</td>\n",
       "      <td>-0.012244</td>\n",
       "    </tr>\n",
       "    <tr>\n",
       "      <th>50%</th>\n",
       "      <td>39.000000</td>\n",
       "      <td>39.000000</td>\n",
       "      <td>39.750000</td>\n",
       "      <td>38.300000</td>\n",
       "      <td>0.000000</td>\n",
       "      <td>0.029412</td>\n",
       "      <td>0.000000</td>\n",
       "      <td>0.000000</td>\n",
       "      <td>0.000000</td>\n",
       "      <td>0.000000</td>\n",
       "    </tr>\n",
       "    <tr>\n",
       "      <th>75%</th>\n",
       "      <td>47.000000</td>\n",
       "      <td>46.900000</td>\n",
       "      <td>47.500000</td>\n",
       "      <td>46.000000</td>\n",
       "      <td>0.011511</td>\n",
       "      <td>0.045369</td>\n",
       "      <td>1.000000</td>\n",
       "      <td>1.000000</td>\n",
       "      <td>1.000000</td>\n",
       "      <td>0.010815</td>\n",
       "    </tr>\n",
       "    <tr>\n",
       "      <th>max</th>\n",
       "      <td>113.750000</td>\n",
       "      <td>115.000000</td>\n",
       "      <td>121.750000</td>\n",
       "      <td>111.500000</td>\n",
       "      <td>0.141667</td>\n",
       "      <td>0.322222</td>\n",
       "      <td>1.000000</td>\n",
       "      <td>1.000000</td>\n",
       "      <td>1.000000</td>\n",
       "      <td>0.248815</td>\n",
       "    </tr>\n",
       "  </tbody>\n",
       "</table>\n",
       "</div>"
      ],
      "text/plain": [
       "             Price         Open         High          Low   Open_Close  \\\n",
       "count  3220.000000  3220.000000  3220.000000  3220.000000  3220.000000   \n",
       "mean     40.154593    40.143665    40.823121    39.381957    -0.000795   \n",
       "std      11.408266    11.433600    11.826151    11.047338     0.027285   \n",
       "min      19.000000    19.000000    19.500000    18.000000    -0.252632   \n",
       "25%      32.500000    32.600000    33.000000    32.000000    -0.012658   \n",
       "50%      39.000000    39.000000    39.750000    38.300000     0.000000   \n",
       "75%      47.000000    46.900000    47.500000    46.000000     0.011511   \n",
       "max     113.750000   115.000000   121.750000   111.500000     0.141667   \n",
       "\n",
       "          High_Low  Buy_Sell_on_Open  Increase_Decrease     Buy_Sell  \\\n",
       "count  3220.000000       3220.000000        3220.000000  3220.000000   \n",
       "mean      0.035220          0.404658           0.494099     0.397516   \n",
       "std       0.028890          0.490902           0.500043     0.489460   \n",
       "min       0.000000          0.000000           0.000000     0.000000   \n",
       "25%       0.017544          0.000000           0.000000     0.000000   \n",
       "50%       0.029412          0.000000           0.000000     0.000000   \n",
       "75%       0.045369          1.000000           1.000000     1.000000   \n",
       "max       0.322222          1.000000           1.000000     1.000000   \n",
       "\n",
       "           Returns  \n",
       "count  3220.000000  \n",
       "mean      0.000611  \n",
       "std       0.027126  \n",
       "min      -0.154489  \n",
       "25%      -0.012244  \n",
       "50%       0.000000  \n",
       "75%       0.010815  \n",
       "max       0.248815  "
      ]
     },
     "execution_count": 63,
     "metadata": {},
     "output_type": "execute_result"
    }
   ],
   "source": [
    "# view the statistics per each column\n",
    "dataset.describe()"
   ]
  },
  {
   "cell_type": "code",
   "execution_count": null,
   "metadata": {
    "ExecuteTime": {
     "end_time": "2023-04-11T15:29:57.455005Z",
     "start_time": "2023-04-11T15:29:57.317206Z"
    }
   },
   "outputs": [],
   "source": []
  },
  {
   "cell_type": "code",
   "execution_count": 64,
   "metadata": {
    "ExecuteTime": {
     "end_time": "2023-04-11T12:17:00.580541Z",
     "start_time": "2023-04-11T12:16:56.057960Z"
    }
   },
   "outputs": [
    {
     "data": {
      "text/plain": [
       "array([[<AxesSubplot:title={'center':'Price'}>,\n",
       "        <AxesSubplot:title={'center':'Open'}>,\n",
       "        <AxesSubplot:title={'center':'High'}>],\n",
       "       [<AxesSubplot:title={'center':'Low'}>,\n",
       "        <AxesSubplot:title={'center':'Open_Close'}>,\n",
       "        <AxesSubplot:title={'center':'High_Low'}>],\n",
       "       [<AxesSubplot:title={'center':'Buy_Sell_on_Open'}>,\n",
       "        <AxesSubplot:title={'center':'Increase_Decrease'}>,\n",
       "        <AxesSubplot:title={'center':'Buy_Sell'}>],\n",
       "       [<AxesSubplot:title={'center':'Returns'}>, <AxesSubplot:>,\n",
       "        <AxesSubplot:>]], dtype=object)"
      ]
     },
     "execution_count": 64,
     "metadata": {},
     "output_type": "execute_result"
    },
    {
     "data": {
      "image/png": "[encoded data removed]",
      "text/plain": [
       "<Figure size 1080x1080 with 12 Axes>"
      ]
     },
     "metadata": {
      "needs_background": "light"
     },
     "output_type": "display_data"
    }
   ],
   "source": [
    "# view the histogram per each numerical column\n",
    "dataset.hist(figsize=(15, 15))"
   ]
  },
  {
   "cell_type": "code",
   "execution_count": 65,
   "metadata": {
    "ExecuteTime": {
     "end_time": "2023-04-11T12:17:01.341188Z",
     "start_time": "2023-04-11T12:17:00.580541Z"
    }
   },
   "outputs": [
    {
     "data": {
      "text/plain": [
       "<AxesSubplot:xlabel='Price', ylabel='Density'>"
      ]
     },
     "execution_count": 65,
     "metadata": {},
     "output_type": "execute_result"
    },
    {
     "data": {
      "image/png": "[encoded data removed]",
      "text/plain": [
       "<Figure size 432x288 with 1 Axes>"
      ]
     },
     "metadata": {
      "needs_background": "light"
     },
     "output_type": "display_data"
    }
   ],
   "source": [
    "#Distribution plot on stock price\n",
    "sns.distplot(dataset['Price'])"
   ]
  },
  {
   "cell_type": "code",
   "execution_count": 66,
   "metadata": {
    "ExecuteTime": {
     "end_time": "2023-04-11T12:17:02.405651Z",
     "start_time": "2023-04-11T12:17:01.236938Z"
    }
   },
   "outputs": [
    {
     "data": {
      "text/plain": [
       "<AxesSubplot:>"
      ]
     },
     "execution_count": 66,
     "metadata": {},
     "output_type": "execute_result"
    },
    {
     "data": {
      "image/png": "[encoded data removed]",
      "text/plain": [
       "<Figure size 432x288 with 2 Axes>"
      ]
     },
     "metadata": {
      "needs_background": "light"
     },
     "output_type": "display_data"
    }
   ],
   "source": [
    "#correlation matrix\n",
    "sns.heatmap(dataset.corr())"
   ]
  },
  {
   "cell_type": "markdown",
   "metadata": {},
   "source": [
    "# **Define X and Y**"
   ]
  },
  {
   "cell_type": "code",
   "execution_count": 67,
   "metadata": {
    "ExecuteTime": {
     "end_time": "2023-04-11T12:15:24.866093Z",
     "start_time": "2023-04-11T12:15:24.813222Z"
    }
   },
   "outputs": [],
   "source": [
    "#Define x\n",
    "X = dataset[['Open', 'High', 'Low', 'Open_Close', 'High_Low', 'Returns']]\n",
    "\n",
    "#Define y\n",
    "y = dataset['Price']"
   ]
  },
  {
   "cell_type": "markdown",
   "metadata": {},
   "source": [
    "# **Split Train Dataset and Test Dataset**"
   ]
  },
  {
   "cell_type": "code",
   "execution_count": 68,
   "metadata": {
    "ExecuteTime": {
     "end_time": "2023-04-11T12:15:26.627692Z",
     "start_time": "2023-04-11T12:15:26.555352Z"
    }
   },
   "outputs": [],
   "source": [
    "#Split dataset into train (60%) and test (40%)\n",
    "X_train, X_test, y_train, y_test = train_test_split(X, y, \n",
    "                                   test_size=0.4, random_state=101)"
   ]
  },
  {
   "cell_type": "markdown",
   "metadata": {},
   "source": [
    "# **Dataset Traning and Model Traning**"
   ]
  },
  {
   "cell_type": "code",
   "execution_count": 69,
   "metadata": {
    "ExecuteTime": {
     "end_time": "2023-04-11T12:15:27.721673Z",
     "start_time": "2023-04-11T12:15:27.515123Z"
    }
   },
   "outputs": [
    {
     "data": {
      "text/plain": [
       "LinearRegression()"
      ]
     },
     "execution_count": 69,
     "metadata": {},
     "output_type": "execute_result"
    }
   ],
   "source": [
    "#Applying linear regression on train data\n",
    "lm = LinearRegression()\n",
    "lm.fit(X_train,y_train)"
   ]
  },
  {
   "cell_type": "code",
   "execution_count": 70,
   "metadata": {
    "ExecuteTime": {
     "end_time": "2023-04-11T12:15:27.804005Z",
     "start_time": "2023-04-11T12:15:27.682717Z"
    }
   },
   "outputs": [
    {
     "name": "stdout",
     "output_type": "stream",
     "text": [
      "0.4588391394981741\n"
     ]
    }
   ],
   "source": [
    "print(lm.intercept_)"
   ]
  },
  {
   "cell_type": "code",
   "execution_count": 71,
   "metadata": {
    "ExecuteTime": {
     "end_time": "2023-04-11T12:15:28.810342Z",
     "start_time": "2023-04-11T12:15:28.668677Z"
    }
   },
   "outputs": [
    {
     "data": {
      "text/html": [
       "<div>\n",
       "<style scoped>\n",
       "    .dataframe tbody tr th:only-of-type {\n",
       "        vertical-align: middle;\n",
       "    }\n",
       "\n",
       "    .dataframe tbody tr th {\n",
       "        vertical-align: top;\n",
       "    }\n",
       "\n",
       "    .dataframe thead th {\n",
       "        text-align: right;\n",
       "    }\n",
       "</style>\n",
       "<table border=\"1\" class=\"dataframe\">\n",
       "  <thead>\n",
       "    <tr style=\"text-align: right;\">\n",
       "      <th></th>\n",
       "      <th>Coefficient</th>\n",
       "    </tr>\n",
       "  </thead>\n",
       "  <tbody>\n",
       "    <tr>\n",
       "      <th>Open</th>\n",
       "      <td>0.483592</td>\n",
       "    </tr>\n",
       "    <tr>\n",
       "      <th>High</th>\n",
       "      <td>0.437740</td>\n",
       "    </tr>\n",
       "    <tr>\n",
       "      <th>Low</th>\n",
       "      <td>0.067277</td>\n",
       "    </tr>\n",
       "    <tr>\n",
       "      <th>Open_Close</th>\n",
       "      <td>-30.118803</td>\n",
       "    </tr>\n",
       "    <tr>\n",
       "      <th>High_Low</th>\n",
       "      <td>-7.650455</td>\n",
       "    </tr>\n",
       "    <tr>\n",
       "      <th>Returns</th>\n",
       "      <td>2.044344</td>\n",
       "    </tr>\n",
       "  </tbody>\n",
       "</table>\n",
       "</div>"
      ],
      "text/plain": [
       "            Coefficient\n",
       "Open           0.483592\n",
       "High           0.437740\n",
       "Low            0.067277\n",
       "Open_Close   -30.118803\n",
       "High_Low      -7.650455\n",
       "Returns        2.044344"
      ]
     },
     "execution_count": 71,
     "metadata": {},
     "output_type": "execute_result"
    }
   ],
   "source": [
    "coeff_df = pd.DataFrame(lm.coef_,X.columns,columns={'Coefficient'})\n",
    "coeff_df"
   ]
  },
  {
   "cell_type": "markdown",
   "metadata": {},
   "source": [
    "# **Comparison of Actual Values and Predicted Values**"
   ]
  },
  {
   "cell_type": "code",
   "execution_count": 72,
   "metadata": {
    "ExecuteTime": {
     "end_time": "2023-04-11T12:15:30.185238Z",
     "start_time": "2023-04-11T12:15:29.682776Z"
    }
   },
   "outputs": [
    {
     "data": {
      "image/png": "[encoded data removed]",
      "text/plain": [
       "<Figure size 432x288 with 1 Axes>"
      ]
     },
     "metadata": {
      "needs_background": "light"
     },
     "output_type": "display_data"
    }
   ],
   "source": [
    "#Compare actual values with predicted values\n",
    "y_pred = lm.predict(X_test)\n",
    "plt.scatter(y_test,y_pred)\n",
    "plt.savefig(\"Figure: Comparison of Actual Values and Predictions Values\")"
   ]
  },
  {
   "cell_type": "code",
   "execution_count": 73,
   "metadata": {
    "ExecuteTime": {
     "end_time": "2023-04-11T12:15:30.189216Z",
     "start_time": "2023-04-11T12:15:30.184231Z"
    }
   },
   "outputs": [
    {
     "name": "stdout",
     "output_type": "stream",
     "text": [
      "      Actual  Predicted\n",
      "1637    41.1  41.522742\n",
      "566     47.8  47.746856\n",
      "896     43.0  42.945534\n",
      "2660    33.1  33.451342\n",
      "821     43.0  42.957899\n",
      "      Actual  Predicted\n",
      "2268    24.0  24.874780\n",
      "1744    36.5  36.661761\n",
      "435     58.8  58.746052\n",
      "203     38.0  38.199445\n",
      "328     45.8  45.767569\n"
     ]
    }
   ],
   "source": [
    "Actual values vs predicted values table\n",
    "df = pd.DataFrame({'Actual':y_test, 'Predicted':y_pred})  \n",
    "print(df.head())\n",
    "print(df.tail())"
   ]
  },
  {
   "cell_type": "code",
   "execution_count": 74,
   "metadata": {
    "ExecuteTime": {
     "end_time": "2023-04-11T12:15:59.147414Z",
     "start_time": "2023-04-11T12:15:57.383894Z"
    }
   },
   "outputs": [
    {
     "data": {
      "text/plain": [
       "<AxesSubplot:xlabel='Price', ylabel='Density'>"
      ]
     },
     "execution_count": 74,
     "metadata": {},
     "output_type": "execute_result"
    },
    {
     "data": {
      "image/png": "[encoded data removed]",
      "text/plain": [
       "<Figure size 432x288 with 1 Axes>"
      ]
     },
     "metadata": {
      "needs_background": "light"
     },
     "output_type": "display_data"
    }
   ],
   "source": [
    "#distribution plot between test data and predicted data\n",
    "sns.distplot((y_test-y_pred),bins=50)"
   ]
  },
  {
   "cell_type": "code",
   "execution_count": 75,
   "metadata": {
    "ExecuteTime": {
     "end_time": "2023-04-11T12:15:59.171349Z",
     "start_time": "2023-04-11T12:15:58.928028Z"
    }
   },
   "outputs": [
    {
     "name": "stdout",
     "output_type": "stream",
     "text": [
      "(1288,)\n",
      "(1288,)\n"
     ]
    }
   ],
   "source": [
    "#Display shapes of test values and predicted values\n",
    "print(y_test.shape)\n",
    "print(y_pred.shape)"
   ]
  },
  {
   "cell_type": "code",
   "execution_count": 76,
   "metadata": {
    "ExecuteTime": {
     "end_time": "2023-04-11T12:15:59.176337Z",
     "start_time": "2023-04-11T12:15:58.942991Z"
    }
   },
   "outputs": [
    {
     "name": "stdout",
     "output_type": "stream",
     "text": [
      "Mean cross validation score: 0.9988210593054699\n",
      "Score without cv: 0.9990637960376485\n"
     ]
    }
   ],
   "source": [
    "#Getting cross validation scores on trained model\n",
    "lm_fit = lm.fit(X_train, y_train)\n",
    "lm_scores = cross_val_score(lm_fit, X_train, y_train, cv = 5)\n",
    "\n",
    "print(\"Mean cross validation score: {}\".format(np.mean(lm_scores)))\n",
    "print(\"Score without cv: {}\".format(lm_fit.score(X_train, y_train)))"
   ]
  },
  {
   "cell_type": "markdown",
   "metadata": {},
   "source": [
    "# **Accuracy and Loss Function Values of the Model**"
   ]
  },
  {
   "cell_type": "code",
   "execution_count": 77,
   "metadata": {
    "ExecuteTime": {
     "end_time": "2023-04-11T12:15:59.177334Z",
     "start_time": "2023-04-11T12:15:59.041249Z"
    }
   },
   "outputs": [
    {
     "name": "stdout",
     "output_type": "stream",
     "text": [
      "Mean_Absolute_Error(MAE): 0.20613789741079247\n",
      "Mean_Squared_Error(MSE): 0.1069481595848133\n",
      "Root_Mean_Squared_Error(RMSE): 0.32702929468904357\n"
     ]
    }
   ],
   "source": [
    "#Calculating error metrics to analyse model performance\n",
    "print('Mean_Absolute_Error(MAE):', metrics.mean_absolute_error(y_test, y_pred))\n",
    "print('Mean_Squared_Error(MSE):', metrics.mean_squared_error(y_test, y_pred))\n",
    "print('Root_Mean_Squared_Error(RMSE):', np.sqrt(metrics.mean_squared_error(y_test, y_pred)))"
   ]
  },
  {
   "cell_type": "code",
   "execution_count": 78,
   "metadata": {
    "ExecuteTime": {
     "end_time": "2023-04-11T12:15:59.178332Z",
     "start_time": "2023-04-11T12:15:59.069174Z"
    }
   },
   "outputs": [
    {
     "name": "stdout",
     "output_type": "stream",
     "text": [
      "Accuracy score: 0.9990431\n"
     ]
    }
   ],
   "source": [
    "#Display accuracy score\n",
    "print(\"Accuracy score: {:.7f}\".format(lm.score(X_test, y_test)))"
   ]
  }
 ],
 "metadata": {
  "colab": {
   "collapsed_sections": [
    "VUbbWNHO86Ay",
    "bC-terfV7pNG",
    "o038psce8wIc",
    "c-hbl3dB9Dn7",
    "t89qCVw48Owp"
   ],
   "name": " Linear_Regression.ipynb",
   "provenance": []
  },
  "interpreter": {
   "hash": "ff4f85d6e04298634172ac5d8264e7e9b556b95639fe52ebb9425c4d4cba0c9c"
  },
  "kernelspec": {
   "display_name": "Python 3 (ipykernel)",
   "language": "python",
   "name": "python3"
  },
  "language_info": {
   "codemirror_mode": {
    "name": "ipython",
    "version": 3
   },
   "file_extension": ".py",
   "mimetype": "text/x-python",
   "name": "python",
   "nbconvert_exporter": "python",
   "pygments_lexer": "ipython3",
   "version": "3.9.12"
  }
 },
 "nbformat": 4,
 "nbformat_minor": 1
}
