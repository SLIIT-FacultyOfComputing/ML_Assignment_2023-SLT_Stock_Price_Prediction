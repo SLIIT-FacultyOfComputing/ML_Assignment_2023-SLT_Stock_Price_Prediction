{
 "cells": [
  {
   "cell_type": "markdown",
   "metadata": {
    "id": "z732hgQ2ciNC"
   },
   "source": [
    "# 📉📊📈**Comparing the Performance of Various Machine Learning Models   for Sri Lanka Telecom Stock Price Prediction**📉📊📈\n"
   ]
  },
  {
   "cell_type": "markdown",
   "metadata": {
    "id": "_a2eB9y0DNSQ"
   },
   "source": [
    "# ✅ **Bayesian Ridge Regression** ✅"
   ]
  },
  {
   "cell_type": "markdown",
   "metadata": {
    "id": "NsKVFf2RPP_q"
   },
   "source": [
    "Bayesian regression is a powerful method for dealing with limited or unevenly distributed data in linear regression. By incorporating probability distributions, it offers greater flexibility and adaptability in modeling uncertainty and variability. This makes Bayesian regression a robust approach for handling challenging data situations and improving the accuracy and reliability of regression models."
   ]
  },
  {
   "cell_type": "markdown",
   "metadata": {
    "id": "TpujELISO5rj"
   },
   "source": [
    "# **Import Libraries**"
   ]
  },
  {
   "cell_type": "code",
   "execution_count": 59,
   "metadata": {
    "ExecuteTime": {
     "end_time": "2023-04-11T16:08:24.122743Z",
     "start_time": "2023-04-11T16:07:41.046114Z"
    },
    "id": "esw_1ijlDUqR"
   },
   "outputs": [],
   "source": [
    "# Import Libraries\n",
    "import numpy as np\n",
    "import pandas as pd\n",
    "\n",
    "import warnings\n",
    "warnings.filterwarnings(\"ignore\")\n",
    "\n",
    "# Matplotlib and Seaborn for graphs and plottting\n",
    "import matplotlib.pyplot as plt\n",
    "import seaborn as sns\n",
    "%matplotlib inline"
   ]
  },
  {
   "cell_type": "markdown",
   "metadata": {
    "id": "0iy0Y_h6PFlI"
   },
   "source": [
    "# **Load Data into the Data Frame**"
   ]
  },
  {
   "cell_type": "code",
   "execution_count": 98,
   "metadata": {
    "ExecuteTime": {
     "end_time": "2023-04-11T16:08:24.749668Z",
     "start_time": "2023-04-11T16:07:43.646178Z"
    },
    "colab": {
     "base_uri": "https://localhost:8080/",
     "height": 256
    },
    "id": "5CoGrzg-DZ8Q",
    "outputId": "acd42bd1-64f1-4cae-eecb-b85b6bd2df12"
   },
   "outputs": [
    {
     "data": {
      "text/html": [
       "<div>\n",
       "<style scoped>\n",
       "    .dataframe tbody tr th:only-of-type {\n",
       "        vertical-align: middle;\n",
       "    }\n",
       "\n",
       "    .dataframe tbody tr th {\n",
       "        vertical-align: top;\n",
       "    }\n",
       "\n",
       "    .dataframe thead th {\n",
       "        text-align: right;\n",
       "    }\n",
       "</style>\n",
       "<table border=\"1\" class=\"dataframe\">\n",
       "  <thead>\n",
       "    <tr style=\"text-align: right;\">\n",
       "      <th></th>\n",
       "      <th>Date</th>\n",
       "      <th>Price</th>\n",
       "      <th>Open</th>\n",
       "      <th>High</th>\n",
       "      <th>Low</th>\n",
       "      <th>Vol.</th>\n",
       "      <th>Change %</th>\n",
       "    </tr>\n",
       "  </thead>\n",
       "  <tbody>\n",
       "    <tr>\n",
       "      <th>0</th>\n",
       "      <td>7/8/2009</td>\n",
       "      <td>46.50</td>\n",
       "      <td>48.0</td>\n",
       "      <td>48.0</td>\n",
       "      <td>46.50</td>\n",
       "      <td>9.90K</td>\n",
       "      <td>-0.53%</td>\n",
       "    </tr>\n",
       "    <tr>\n",
       "      <th>1</th>\n",
       "      <td>7/9/2009</td>\n",
       "      <td>46.00</td>\n",
       "      <td>47.0</td>\n",
       "      <td>47.0</td>\n",
       "      <td>45.75</td>\n",
       "      <td>17.40K</td>\n",
       "      <td>-1.08%</td>\n",
       "    </tr>\n",
       "    <tr>\n",
       "      <th>2</th>\n",
       "      <td>7/13/2009</td>\n",
       "      <td>45.75</td>\n",
       "      <td>46.0</td>\n",
       "      <td>47.0</td>\n",
       "      <td>45.75</td>\n",
       "      <td>22.10K</td>\n",
       "      <td>-0.54%</td>\n",
       "    </tr>\n",
       "    <tr>\n",
       "      <th>3</th>\n",
       "      <td>7/14/2009</td>\n",
       "      <td>45.75</td>\n",
       "      <td>45.5</td>\n",
       "      <td>46.0</td>\n",
       "      <td>45.00</td>\n",
       "      <td>20.60K</td>\n",
       "      <td>0.00%</td>\n",
       "    </tr>\n",
       "    <tr>\n",
       "      <th>4</th>\n",
       "      <td>7/15/2009</td>\n",
       "      <td>45.50</td>\n",
       "      <td>45.5</td>\n",
       "      <td>46.0</td>\n",
       "      <td>45.25</td>\n",
       "      <td>23.60K</td>\n",
       "      <td>-0.55%</td>\n",
       "    </tr>\n",
       "  </tbody>\n",
       "</table>\n",
       "</div>"
      ],
      "text/plain": [
       "        Date  Price  Open  High    Low    Vol. Change %\n",
       "0   7/8/2009  46.50  48.0  48.0  46.50   9.90K   -0.53%\n",
       "1   7/9/2009  46.00  47.0  47.0  45.75  17.40K   -1.08%\n",
       "2  7/13/2009  45.75  46.0  47.0  45.75  22.10K   -0.54%\n",
       "3  7/14/2009  45.75  45.5  46.0  45.00  20.60K    0.00%\n",
       "4  7/15/2009  45.50  45.5  46.0  45.25  23.60K   -0.55%"
      ]
     },
     "execution_count": 98,
     "metadata": {},
     "output_type": "execute_result"
    }
   ],
   "source": [
    "# Import the dataset to dataset dataframe\n",
    "dataset = pd.read_csv(r\"..\\1. dataset\\TeleCom_2009_2023_Daily.csv\")\n",
    "\n",
    "# View Columns\n",
    "dataset.head()"
   ]
  },
  {
   "cell_type": "code",
   "execution_count": 99,
   "metadata": {
    "ExecuteTime": {
     "end_time": "2023-04-11T16:08:25.351226Z",
     "start_time": "2023-04-11T16:07:44.079367Z"
    },
    "colab": {
     "base_uri": "https://localhost:8080/",
     "height": 455
    },
    "id": "hXkGI25cPM6X",
    "outputId": "030ff17f-0023-47a6-894f-7b625d798168"
   },
   "outputs": [
    {
     "data": {
      "text/html": [
       "<div>\n",
       "<style scoped>\n",
       "    .dataframe tbody tr th:only-of-type {\n",
       "        vertical-align: middle;\n",
       "    }\n",
       "\n",
       "    .dataframe tbody tr th {\n",
       "        vertical-align: top;\n",
       "    }\n",
       "\n",
       "    .dataframe thead th {\n",
       "        text-align: right;\n",
       "    }\n",
       "</style>\n",
       "<table border=\"1\" class=\"dataframe\">\n",
       "  <thead>\n",
       "    <tr style=\"text-align: right;\">\n",
       "      <th></th>\n",
       "      <th>Date</th>\n",
       "      <th>Price</th>\n",
       "      <th>Open</th>\n",
       "      <th>High</th>\n",
       "      <th>Low</th>\n",
       "      <th>Vol.</th>\n",
       "      <th>Change %</th>\n",
       "    </tr>\n",
       "  </thead>\n",
       "  <tbody>\n",
       "    <tr>\n",
       "      <th>0</th>\n",
       "      <td>7/8/2009</td>\n",
       "      <td>46.50</td>\n",
       "      <td>48.0</td>\n",
       "      <td>48.00</td>\n",
       "      <td>46.50</td>\n",
       "      <td>9.90K</td>\n",
       "      <td>-0.53%</td>\n",
       "    </tr>\n",
       "    <tr>\n",
       "      <th>1</th>\n",
       "      <td>7/9/2009</td>\n",
       "      <td>46.00</td>\n",
       "      <td>47.0</td>\n",
       "      <td>47.00</td>\n",
       "      <td>45.75</td>\n",
       "      <td>17.40K</td>\n",
       "      <td>-1.08%</td>\n",
       "    </tr>\n",
       "    <tr>\n",
       "      <th>2</th>\n",
       "      <td>7/13/2009</td>\n",
       "      <td>45.75</td>\n",
       "      <td>46.0</td>\n",
       "      <td>47.00</td>\n",
       "      <td>45.75</td>\n",
       "      <td>22.10K</td>\n",
       "      <td>-0.54%</td>\n",
       "    </tr>\n",
       "    <tr>\n",
       "      <th>3</th>\n",
       "      <td>7/14/2009</td>\n",
       "      <td>45.75</td>\n",
       "      <td>45.5</td>\n",
       "      <td>46.00</td>\n",
       "      <td>45.00</td>\n",
       "      <td>20.60K</td>\n",
       "      <td>0.00%</td>\n",
       "    </tr>\n",
       "    <tr>\n",
       "      <th>4</th>\n",
       "      <td>7/15/2009</td>\n",
       "      <td>45.50</td>\n",
       "      <td>45.5</td>\n",
       "      <td>46.00</td>\n",
       "      <td>45.25</td>\n",
       "      <td>23.60K</td>\n",
       "      <td>-0.55%</td>\n",
       "    </tr>\n",
       "    <tr>\n",
       "      <th>...</th>\n",
       "      <td>...</td>\n",
       "      <td>...</td>\n",
       "      <td>...</td>\n",
       "      <td>...</td>\n",
       "      <td>...</td>\n",
       "      <td>...</td>\n",
       "      <td>...</td>\n",
       "    </tr>\n",
       "    <tr>\n",
       "      <th>3234</th>\n",
       "      <td>4/4/2023</td>\n",
       "      <td>91.50</td>\n",
       "      <td>90.6</td>\n",
       "      <td>92.80</td>\n",
       "      <td>89.60</td>\n",
       "      <td>303.49K</td>\n",
       "      <td>0.66%</td>\n",
       "    </tr>\n",
       "    <tr>\n",
       "      <th>3235</th>\n",
       "      <td>4/6/2023</td>\n",
       "      <td>102.00</td>\n",
       "      <td>92.1</td>\n",
       "      <td>102.00</td>\n",
       "      <td>92.00</td>\n",
       "      <td>734.22K</td>\n",
       "      <td>11.48%</td>\n",
       "    </tr>\n",
       "    <tr>\n",
       "      <th>3236</th>\n",
       "      <td>4/10/2023</td>\n",
       "      <td>98.00</td>\n",
       "      <td>100.0</td>\n",
       "      <td>102.75</td>\n",
       "      <td>97.30</td>\n",
       "      <td>152.39K</td>\n",
       "      <td>-3.92%</td>\n",
       "    </tr>\n",
       "    <tr>\n",
       "      <th>3237</th>\n",
       "      <td>4/11/2023</td>\n",
       "      <td>101.50</td>\n",
       "      <td>97.9</td>\n",
       "      <td>103.50</td>\n",
       "      <td>97.30</td>\n",
       "      <td>329.43K</td>\n",
       "      <td>3.57%</td>\n",
       "    </tr>\n",
       "    <tr>\n",
       "      <th>3238</th>\n",
       "      <td>4/12/2023</td>\n",
       "      <td>99.40</td>\n",
       "      <td>101.0</td>\n",
       "      <td>101.00</td>\n",
       "      <td>96.20</td>\n",
       "      <td>258.99K</td>\n",
       "      <td>-2.07%</td>\n",
       "    </tr>\n",
       "  </tbody>\n",
       "</table>\n",
       "<p>3239 rows × 7 columns</p>\n",
       "</div>"
      ],
      "text/plain": [
       "           Date   Price   Open    High    Low     Vol. Change %\n",
       "0      7/8/2009   46.50   48.0   48.00  46.50    9.90K   -0.53%\n",
       "1      7/9/2009   46.00   47.0   47.00  45.75   17.40K   -1.08%\n",
       "2     7/13/2009   45.75   46.0   47.00  45.75   22.10K   -0.54%\n",
       "3     7/14/2009   45.75   45.5   46.00  45.00   20.60K    0.00%\n",
       "4     7/15/2009   45.50   45.5   46.00  45.25   23.60K   -0.55%\n",
       "...         ...     ...    ...     ...    ...      ...      ...\n",
       "3234   4/4/2023   91.50   90.6   92.80  89.60  303.49K    0.66%\n",
       "3235   4/6/2023  102.00   92.1  102.00  92.00  734.22K   11.48%\n",
       "3236  4/10/2023   98.00  100.0  102.75  97.30  152.39K   -3.92%\n",
       "3237  4/11/2023  101.50   97.9  103.50  97.30  329.43K    3.57%\n",
       "3238  4/12/2023   99.40  101.0  101.00  96.20  258.99K   -2.07%\n",
       "\n",
       "[3239 rows x 7 columns]"
      ]
     },
     "execution_count": 99,
     "metadata": {},
     "output_type": "execute_result"
    }
   ],
   "source": [
    "#View Dataset\n",
    "dataset"
   ]
  },
  {
   "cell_type": "markdown",
   "metadata": {
    "id": "85myMwfHLgc0"
   },
   "source": [
    "# **Dataset Cleaning and Null Value Testing**"
   ]
  },
  {
   "cell_type": "code",
   "execution_count": 100,
   "metadata": {
    "ExecuteTime": {
     "end_time": "2023-04-11T16:08:25.524133Z",
     "start_time": "2023-04-11T16:07:44.079367Z"
    },
    "colab": {
     "base_uri": "https://localhost:8080/"
    },
    "id": "h0UtWEn_PZDP",
    "outputId": "f328b615-231c-4499-84d5-7b20f65b636e"
   },
   "outputs": [
    {
     "data": {
      "text/plain": [
       "Date         0\n",
       "Price        0\n",
       "Open         0\n",
       "High         0\n",
       "Low          0\n",
       "Vol.        18\n",
       "Change %     0\n",
       "dtype: int64"
      ]
     },
     "execution_count": 100,
     "metadata": {},
     "output_type": "execute_result"
    }
   ],
   "source": [
    "#Check for null values in each column\n",
    "datasetdataset.isnull().sum()"
   ]
  },
  {
   "cell_type": "code",
   "execution_count": 103,
   "metadata": {
    "ExecuteTime": {
     "end_time": "2023-04-11T16:08:26.838556Z",
     "start_time": "2023-04-11T16:07:50.465916Z"
    },
    "colab": {
     "base_uri": "https://localhost:8080/",
     "height": 349
    },
    "id": "M3fRoI0fPbVd",
    "outputId": "771a95f6-5816-419d-b1f1-eb84f8de72a5"
   },
   "outputs": [
    {
     "data": {
      "text/plain": [
       "<AxesSubplot:>"
      ]
     },
     "execution_count": 103,
     "metadata": {},
     "output_type": "execute_result"
    },
    {
     "data": {
      "image/png": "[encoded data removed]",
      "text/plain": [
       "<Figure size 864x288 with 1 Axes>"
      ]
     },
     "metadata": {
      "needs_background": "light"
     },
     "output_type": "display_data"
    }
   ],
   "source": [
    "#Drop Vol. Comlumn\n",
    "dataset = dataset.drop('Vol.', axis = 1)\n",
    "\n",
    "#Heatmap to view null values in dataset\n",
    "plt.figure(figsize=(12,4))\n",
    "sns.heatmap(dataset.isnull(), yticklabels=False,cbar=False,cmap='viridis')"
   ]
  },
  {
   "cell_type": "markdown",
   "metadata": {
    "id": "0eUVLRjrPPZk"
   },
   "source": [
    "# **Analyze the Data**"
   ]
  },
  {
   "cell_type": "code",
   "execution_count": 104,
   "metadata": {
    "ExecuteTime": {
     "end_time": "2023-04-11T16:08:26.870471Z",
     "start_time": "2023-04-11T16:07:50.658435Z"
    },
    "colab": {
     "base_uri": "https://localhost:8080/"
    },
    "id": "GSUBDs3QDdjp",
    "outputId": "ca96cb32-198a-41fd-8c51-35ea820400bb"
   },
   "outputs": [
    {
     "data": {
      "text/plain": [
       "(3239, 6)"
      ]
     },
     "execution_count": 104,
     "metadata": {},
     "output_type": "execute_result"
    }
   ],
   "source": [
    "# see number of rows, number of columns\n",
    "dataset.shape"
   ]
  },
  {
   "cell_type": "code",
   "execution_count": 105,
   "metadata": {
    "ExecuteTime": {
     "end_time": "2023-04-11T16:08:26.871470Z",
     "start_time": "2023-04-11T16:07:50.671401Z"
    },
    "colab": {
     "base_uri": "https://localhost:8080/"
    },
    "id": "7BXkRX5oPTr4",
    "outputId": "cf05a34a-95bf-4ca1-a8c7-e789192a6d53"
   },
   "outputs": [
    {
     "name": "stdout",
     "output_type": "stream",
     "text": [
      "Total number of records =  19434\n"
     ]
    }
   ],
   "source": [
    "#View total number of records\n",
    "dataset.size\n",
    "print(\"Total number of records = \",dataset.size)"
   ]
  },
  {
   "cell_type": "code",
   "execution_count": 106,
   "metadata": {
    "ExecuteTime": {
     "end_time": "2023-04-11T16:08:26.872467Z",
     "start_time": "2023-04-11T16:07:50.706309Z"
    },
    "colab": {
     "base_uri": "https://localhost:8080/"
    },
    "id": "A8oT4uzIPVhD",
    "outputId": "48ecc24f-dce3-40ec-80aa-70538aee967e"
   },
   "outputs": [
    {
     "data": {
      "text/plain": [
       "Index(['Date', 'Price', 'Open', 'High', 'Low', 'Change %'], dtype='object')"
      ]
     },
     "execution_count": 106,
     "metadata": {},
     "output_type": "execute_result"
    }
   ],
   "source": [
    "# see columns names\n",
    "\n",
    "dataset.columns"
   ]
  },
  {
   "cell_type": "code",
   "execution_count": 107,
   "metadata": {
    "ExecuteTime": {
     "end_time": "2023-04-11T16:08:26.872467Z",
     "start_time": "2023-04-11T16:07:50.707306Z"
    },
    "colab": {
     "base_uri": "https://localhost:8080/"
    },
    "id": "f5la7x-EPXIh",
    "outputId": "ca3d2834-f902-4d00-d9a7-184459557847"
   },
   "outputs": [
    {
     "name": "stdout",
     "output_type": "stream",
     "text": [
      "<class 'pandas.core.frame.DataFrame'>\n",
      "RangeIndex: 3239 entries, 0 to 3238\n",
      "Data columns (total 6 columns):\n",
      " #   Column    Non-Null Count  Dtype  \n",
      "---  ------    --------------  -----  \n",
      " 0   Date      3239 non-null   object \n",
      " 1   Price     3239 non-null   float64\n",
      " 2   Open      3239 non-null   float64\n",
      " 3   High      3239 non-null   float64\n",
      " 4   Low       3239 non-null   float64\n",
      " 5   Change %  3239 non-null   object \n",
      "dtypes: float64(4), object(2)\n",
      "memory usage: 152.0+ KB\n"
     ]
    }
   ],
   "source": [
    "#View Data Info\n",
    "dataset.info()"
   ]
  },
  {
   "cell_type": "code",
   "execution_count": 108,
   "metadata": {
    "ExecuteTime": {
     "end_time": "2023-04-11T16:08:37.199281Z",
     "start_time": "2023-04-11T16:08:03.853687Z"
    },
    "colab": {
     "base_uri": "https://localhost:8080/",
     "height": 1000
    },
    "id": "B3XfaNuvPdMz",
    "outputId": "c262485b-3fc4-46d1-86e5-94ad75ba2459"
   },
   "outputs": [
    {
     "data": {
      "text/plain": [
       "array([[<AxesSubplot:title={'center':'Price'}>,\n",
       "        <AxesSubplot:title={'center':'Open'}>],\n",
       "       [<AxesSubplot:title={'center':'High'}>,\n",
       "        <AxesSubplot:title={'center':'Low'}>]], dtype=object)"
      ]
     },
     "execution_count": 108,
     "metadata": {},
     "output_type": "execute_result"
    },
    {
     "data": {
      "image/png": "[encoded data removed]",
      "text/plain": [
       "<Figure size 1080x1080 with 4 Axes>"
      ]
     },
     "metadata": {
      "needs_background": "light"
     },
     "output_type": "display_data"
    }
   ],
   "source": [
    "# Histogram per each numerical column\n",
    "\n",
    "dataset.hist(figsize=(15, 15))"
   ]
  },
  {
   "cell_type": "code",
   "execution_count": 109,
   "metadata": {
    "ExecuteTime": {
     "end_time": "2023-04-11T16:08:37.200281Z",
     "start_time": "2023-04-11T16:08:04.292764Z"
    },
    "colab": {
     "base_uri": "https://localhost:8080/",
     "height": 300
    },
    "id": "lKWPar17PfaG",
    "outputId": "b7246998-36e1-4b5d-cc4b-e045fe3679ce"
   },
   "outputs": [
    {
     "data": {
      "text/html": [
       "<div>\n",
       "<style scoped>\n",
       "    .dataframe tbody tr th:only-of-type {\n",
       "        vertical-align: middle;\n",
       "    }\n",
       "\n",
       "    .dataframe tbody tr th {\n",
       "        vertical-align: top;\n",
       "    }\n",
       "\n",
       "    .dataframe thead th {\n",
       "        text-align: right;\n",
       "    }\n",
       "</style>\n",
       "<table border=\"1\" class=\"dataframe\">\n",
       "  <thead>\n",
       "    <tr style=\"text-align: right;\">\n",
       "      <th></th>\n",
       "      <th>Price</th>\n",
       "      <th>Open</th>\n",
       "      <th>High</th>\n",
       "      <th>Low</th>\n",
       "    </tr>\n",
       "  </thead>\n",
       "  <tbody>\n",
       "    <tr>\n",
       "      <th>count</th>\n",
       "      <td>3239.000000</td>\n",
       "      <td>3239.000000</td>\n",
       "      <td>3239.000000</td>\n",
       "      <td>3239.000000</td>\n",
       "    </tr>\n",
       "    <tr>\n",
       "      <th>mean</th>\n",
       "      <td>40.195088</td>\n",
       "      <td>40.184687</td>\n",
       "      <td>40.860157</td>\n",
       "      <td>39.426984</td>\n",
       "    </tr>\n",
       "    <tr>\n",
       "      <th>std</th>\n",
       "      <td>11.390835</td>\n",
       "      <td>11.416385</td>\n",
       "      <td>11.805006</td>\n",
       "      <td>11.034471</td>\n",
       "    </tr>\n",
       "    <tr>\n",
       "      <th>min</th>\n",
       "      <td>19.000000</td>\n",
       "      <td>19.000000</td>\n",
       "      <td>19.500000</td>\n",
       "      <td>18.000000</td>\n",
       "    </tr>\n",
       "    <tr>\n",
       "      <th>25%</th>\n",
       "      <td>32.500000</td>\n",
       "      <td>32.700000</td>\n",
       "      <td>33.000000</td>\n",
       "      <td>32.000000</td>\n",
       "    </tr>\n",
       "    <tr>\n",
       "      <th>50%</th>\n",
       "      <td>39.000000</td>\n",
       "      <td>39.000000</td>\n",
       "      <td>39.800000</td>\n",
       "      <td>38.500000</td>\n",
       "    </tr>\n",
       "    <tr>\n",
       "      <th>75%</th>\n",
       "      <td>47.000000</td>\n",
       "      <td>47.000000</td>\n",
       "      <td>47.550000</td>\n",
       "      <td>46.000000</td>\n",
       "    </tr>\n",
       "    <tr>\n",
       "      <th>max</th>\n",
       "      <td>113.750000</td>\n",
       "      <td>115.000000</td>\n",
       "      <td>121.750000</td>\n",
       "      <td>111.500000</td>\n",
       "    </tr>\n",
       "  </tbody>\n",
       "</table>\n",
       "</div>"
      ],
      "text/plain": [
       "             Price         Open         High          Low\n",
       "count  3239.000000  3239.000000  3239.000000  3239.000000\n",
       "mean     40.195088    40.184687    40.860157    39.426984\n",
       "std      11.390835    11.416385    11.805006    11.034471\n",
       "min      19.000000    19.000000    19.500000    18.000000\n",
       "25%      32.500000    32.700000    33.000000    32.000000\n",
       "50%      39.000000    39.000000    39.800000    38.500000\n",
       "75%      47.000000    47.000000    47.550000    46.000000\n",
       "max     113.750000   115.000000   121.750000   111.500000"
      ]
     },
     "execution_count": 109,
     "metadata": {},
     "output_type": "execute_result"
    }
   ],
   "source": [
    "# The statistics per each column\n",
    "dataset.describe()"
   ]
  },
  {
   "cell_type": "code",
   "execution_count": 110,
   "metadata": {
    "scrolled": true
   },
   "outputs": [
    {
     "data": {
      "image/png": "[encoded data removed]",
      "text/plain": [
       "<Figure size 720x504 with 1 Axes>"
      ]
     },
     "metadata": {
      "needs_background": "light"
     },
     "output_type": "display_data"
    }
   ],
   "source": [
    "#Graph to display stock price data by date\n",
    "dataset['Price'].plot(figsize=(10, 7))\n",
    "plt.title(\"Stock Price\", fontsize=17)\n",
    "plt.ylabel('Price', fontsize=14)\n",
    "plt.xlabel('Date', fontsize=14)\n",
    "plt.grid(which=\"major\", color='k', linestyle='-.', linewidth=0.5)\n",
    "plt.show()"
   ]
  },
  {
   "cell_type": "markdown",
   "metadata": {
    "id": "_y46f82APjLr"
   },
   "source": [
    "# **Define X and Y**"
   ]
  },
  {
   "cell_type": "code",
   "execution_count": 111,
   "metadata": {
    "ExecuteTime": {
     "end_time": "2023-04-11T16:08:37.200281Z",
     "start_time": "2023-04-11T16:08:04.292764Z"
    },
    "id": "SJ9j9UEeDfHo"
   },
   "outputs": [],
   "source": [
    "#Define x\n",
    "X = dataset['Open'].values.reshape(-1,1)\n",
    "\n",
    "#Define y\n",
    "y = dataset['Price'].values.reshape(-1,1)"
   ]
  },
  {
   "cell_type": "code",
   "execution_count": 112,
   "metadata": {
    "ExecuteTime": {
     "end_time": "2023-04-11T16:08:37.212245Z",
     "start_time": "2023-04-11T16:08:04.292764Z"
    },
    "colab": {
     "base_uri": "https://localhost:8080/"
    },
    "id": "SiEx7IFCDk_L",
    "outputId": "ae417ebc-9c67-4496-b03a-6d3d6ce6bbc6"
   },
   "outputs": [
    {
     "data": {
      "text/plain": [
       "BayesianRidge(compute_score=True)"
      ]
     },
     "execution_count": 112,
     "metadata": {},
     "output_type": "execute_result"
    }
   ],
   "source": [
    "#Import BayasianRidge and Linear Regression libraries\n",
    "from sklearn.linear_model import BayesianRidge, LinearRegression\n",
    "\n",
    "# Fit the Bayesian Ridge Regression and an OLS for comparison\n",
    "model = BayesianRidge(compute_score=True)\n",
    "model.fit(X, y)"
   ]
  },
  {
   "cell_type": "code",
   "execution_count": 113,
   "metadata": {
    "ExecuteTime": {
     "end_time": "2023-04-11T16:08:37.213245Z",
     "start_time": "2023-04-11T16:08:04.292764Z"
    },
    "colab": {
     "base_uri": "https://localhost:8080/"
    },
    "id": "Xf8X78dcDn-z",
    "outputId": "a8f24398-cf8a-40b2-8a13-145400aed98a"
   },
   "outputs": [
    {
     "data": {
      "text/plain": [
       "array([0.99169388])"
      ]
     },
     "execution_count": 113,
     "metadata": {},
     "output_type": "execute_result"
    }
   ],
   "source": [
    "model.coef_"
   ]
  },
  {
   "cell_type": "code",
   "execution_count": 114,
   "metadata": {
    "ExecuteTime": {
     "end_time": "2023-04-11T16:08:37.213245Z",
     "start_time": "2023-04-11T16:08:04.292764Z"
    },
    "colab": {
     "base_uri": "https://localhost:8080/"
    },
    "id": "kJ7S8yxrDp-r",
    "outputId": "d3189155-fa5d-4ef1-a320-4c777ff43ace"
   },
   "outputs": [
    {
     "data": {
      "text/plain": [
       "array([-10879.97268586,  -5335.23162131,  -5335.23162124])"
      ]
     },
     "execution_count": 114,
     "metadata": {},
     "output_type": "execute_result"
    }
   ],
   "source": [
    "model.scores_"
   ]
  },
  {
   "cell_type": "markdown",
   "metadata": {
    "id": "8bVZFNDiPqkP"
   },
   "source": [
    "# **Split Train Data and Test Data**"
   ]
  },
  {
   "cell_type": "code",
   "execution_count": 115,
   "metadata": {
    "ExecuteTime": {
     "end_time": "2023-04-11T16:08:37.213245Z",
     "start_time": "2023-04-11T16:08:04.293761Z"
    },
    "id": "HlhbUS61DrWr"
   },
   "outputs": [],
   "source": [
    "#Import train test split library\n",
    "from sklearn.model_selection import train_test_split"
   ]
  },
  {
   "cell_type": "code",
   "execution_count": 116,
   "metadata": {
    "ExecuteTime": {
     "end_time": "2023-04-11T16:08:37.213245Z",
     "start_time": "2023-04-11T16:08:04.293761Z"
    },
    "id": "FgiQLSeGDsxh"
   },
   "outputs": [],
   "source": [
    "#Import train test split library\n",
    "from sklearn.model_selection import train_test_split"
   ]
  },
  {
   "cell_type": "markdown",
   "metadata": {
    "id": "T8LpUbrtPvd3"
   },
   "source": [
    "# **Dataset Traning and Model Traning**"
   ]
  },
  {
   "cell_type": "code",
   "execution_count": 117,
   "metadata": {
    "ExecuteTime": {
     "end_time": "2023-04-11T16:08:37.214241Z",
     "start_time": "2023-04-11T16:08:04.293761Z"
    },
    "colab": {
     "base_uri": "https://localhost:8080/"
    },
    "id": "3jQvIvwlDuXQ",
    "outputId": "5305be77-0714-463e-9c59-87f15c2af5e9"
   },
   "outputs": [
    {
     "data": {
      "text/plain": [
       "BayesianRidge(compute_score=True)"
      ]
     },
     "execution_count": 117,
     "metadata": {},
     "output_type": "execute_result"
    }
   ],
   "source": [
    "#Training Model\n",
    "model = BayesianRidge(compute_score=True)\n",
    "model.fit(X_train, y_train)"
   ]
  },
  {
   "cell_type": "code",
   "execution_count": 118,
   "metadata": {
    "ExecuteTime": {
     "end_time": "2023-04-11T16:08:37.214241Z",
     "start_time": "2023-04-11T16:08:04.336645Z"
    },
    "colab": {
     "base_uri": "https://localhost:8080/"
    },
    "id": "uxtbTNkLDvzD",
    "outputId": "7e515f32-8ba8-4a02-b780-8677056b1b93"
   },
   "outputs": [
    {
     "data": {
      "text/plain": [
       "array([0.98994909])"
      ]
     },
     "execution_count": 118,
     "metadata": {},
     "output_type": "execute_result"
    }
   ],
   "source": [
    "#Calculating model coefficient with training dataset\n",
    "model.coef_"
   ]
  },
  {
   "cell_type": "code",
   "execution_count": 119,
   "metadata": {
    "ExecuteTime": {
     "end_time": "2023-04-11T16:08:37.214241Z",
     "start_time": "2023-04-11T16:08:04.391036Z"
    },
    "colab": {
     "base_uri": "https://localhost:8080/"
    },
    "id": "_A-S-z2kDxCQ",
    "outputId": "435261a4-af26-4e8b-c098-a47c8553b4a8"
   },
   "outputs": [
    {
     "data": {
      "text/plain": [
       "array([-8652.63310463, -4240.80435841, -4240.80435829])"
      ]
     },
     "execution_count": 119,
     "metadata": {},
     "output_type": "execute_result"
    }
   ],
   "source": [
    "#Calculating model scores with training dataset\n",
    "model.scores_"
   ]
  },
  {
   "cell_type": "markdown",
   "metadata": {
    "id": "pxs3rV5PMBmi"
   },
   "source": [
    "# **Comparison of Actual Values and Predicted Values**"
   ]
  },
  {
   "cell_type": "code",
   "execution_count": 120,
   "metadata": {
    "ExecuteTime": {
     "end_time": "2023-04-11T16:08:37.214241Z",
     "start_time": "2023-04-11T16:08:04.597531Z"
    },
    "id": "MQ7HP2gcDyiy"
   },
   "outputs": [],
   "source": [
    "#Predicting with test data with trained model\n",
    "y_pred = model.predict(X_test)"
   ]
  },
  {
   "cell_type": "code",
   "execution_count": 121,
   "metadata": {},
   "outputs": [
    {
     "data": {
      "text/html": [
       "<div>\n",
       "<style scoped>\n",
       "    .dataframe tbody tr th:only-of-type {\n",
       "        vertical-align: middle;\n",
       "    }\n",
       "\n",
       "    .dataframe tbody tr th {\n",
       "        vertical-align: top;\n",
       "    }\n",
       "\n",
       "    .dataframe thead th {\n",
       "        text-align: right;\n",
       "    }\n",
       "</style>\n",
       "<table border=\"1\" class=\"dataframe\">\n",
       "  <thead>\n",
       "    <tr style=\"text-align: right;\">\n",
       "      <th></th>\n",
       "      <th>index</th>\n",
       "      <th>Actual</th>\n",
       "      <th>Predicted</th>\n",
       "    </tr>\n",
       "  </thead>\n",
       "  <tbody>\n",
       "    <tr>\n",
       "      <th>0</th>\n",
       "      <td>0</td>\n",
       "      <td>23.90</td>\n",
       "      <td>23.676701</td>\n",
       "    </tr>\n",
       "    <tr>\n",
       "      <th>1</th>\n",
       "      <td>1</td>\n",
       "      <td>41.25</td>\n",
       "      <td>41.990759</td>\n",
       "    </tr>\n",
       "    <tr>\n",
       "      <th>2</th>\n",
       "      <td>2</td>\n",
       "      <td>52.00</td>\n",
       "      <td>52.682210</td>\n",
       "    </tr>\n",
       "    <tr>\n",
       "      <th>3</th>\n",
       "      <td>3</td>\n",
       "      <td>45.60</td>\n",
       "      <td>46.445530</td>\n",
       "    </tr>\n",
       "    <tr>\n",
       "      <th>4</th>\n",
       "      <td>4</td>\n",
       "      <td>41.75</td>\n",
       "      <td>41.990759</td>\n",
       "    </tr>\n",
       "    <tr>\n",
       "      <th>...</th>\n",
       "      <td>...</td>\n",
       "      <td>...</td>\n",
       "      <td>...</td>\n",
       "    </tr>\n",
       "    <tr>\n",
       "      <th>643</th>\n",
       "      <td>643</td>\n",
       "      <td>39.70</td>\n",
       "      <td>39.911866</td>\n",
       "    </tr>\n",
       "    <tr>\n",
       "      <th>644</th>\n",
       "      <td>644</td>\n",
       "      <td>47.90</td>\n",
       "      <td>47.930454</td>\n",
       "    </tr>\n",
       "    <tr>\n",
       "      <th>645</th>\n",
       "      <td>645</td>\n",
       "      <td>36.00</td>\n",
       "      <td>36.843024</td>\n",
       "    </tr>\n",
       "    <tr>\n",
       "      <th>646</th>\n",
       "      <td>646</td>\n",
       "      <td>28.90</td>\n",
       "      <td>29.121421</td>\n",
       "    </tr>\n",
       "    <tr>\n",
       "      <th>647</th>\n",
       "      <td>647</td>\n",
       "      <td>33.80</td>\n",
       "      <td>33.972172</td>\n",
       "    </tr>\n",
       "  </tbody>\n",
       "</table>\n",
       "<p>648 rows × 3 columns</p>\n",
       "</div>"
      ],
      "text/plain": [
       "     index  Actual  Predicted\n",
       "0        0   23.90  23.676701\n",
       "1        1   41.25  41.990759\n",
       "2        2   52.00  52.682210\n",
       "3        3   45.60  46.445530\n",
       "4        4   41.75  41.990759\n",
       "..     ...     ...        ...\n",
       "643    643   39.70  39.911866\n",
       "644    644   47.90  47.930454\n",
       "645    645   36.00  36.843024\n",
       "646    646   28.90  29.121421\n",
       "647    647   33.80  33.972172\n",
       "\n",
       "[648 rows x 3 columns]"
      ]
     },
     "execution_count": 121,
     "metadata": {},
     "output_type": "execute_result"
    }
   ],
   "source": [
    "#Comparission table between Actual test data and predicted values by the trained model\n",
    "df_pred = pd.DataFrame(y_test, columns=['Actual'])\n",
    "df_pred['Predicted'] = y_pred\n",
    "df_pred = df_pred.reset_index()\n",
    "df_pred"
   ]
  },
  {
   "cell_type": "code",
   "execution_count": 122,
   "metadata": {},
   "outputs": [
    {
     "data": {
      "text/plain": [
       "<AxesSubplot:>"
      ]
     },
     "execution_count": 122,
     "metadata": {},
     "output_type": "execute_result"
    },
    {
     "data": {
      "image/png": "[encoded data removed]",
      "text/plain": [
       "<Figure size 432x288 with 1 Axes>"
      ]
     },
     "metadata": {
      "needs_background": "light"
     },
     "output_type": "display_data"
    }
   ],
   "source": [
    "#Comparission graph between Actual test data and predicted values by the trained model\n",
    "df_pred[['Actual', 'Predicted']].plot()"
   ]
  },
  {
   "cell_type": "markdown",
   "metadata": {
    "id": "UbZ5VEN3MITX"
   },
   "source": [
    "# **Accuracy and Loss Function Values of the Model**"
   ]
  },
  {
   "cell_type": "code",
   "execution_count": 123,
   "metadata": {
    "ExecuteTime": {
     "end_time": "2023-04-11T16:08:37.217234Z",
     "start_time": "2023-04-11T16:08:04.604512Z"
    },
    "colab": {
     "base_uri": "https://localhost:8080/"
    },
    "id": "OV3BBoe8dUfQ",
    "outputId": "6d12bdbf-ba21-47a8-a56e-22478fc0ad41"
   },
   "outputs": [
    {
     "name": "stdout",
     "output_type": "stream",
     "text": [
      "Mean_Absolute_Error(MAE): 0.7552703501463827\n",
      "Mean_Squared_Error(MSE): 1.709689546106186\n",
      "Root_Mean_Squared_Error(RMSE): 1.307550972660793\n"
     ]
    }
   ],
   "source": [
    "#Calculating error metrics to analyse model performance\n",
    "from sklearn import metrics\n",
    "print('Mean_Absolute_Error(MAE):', metrics.mean_absolute_error(y_test, y_pred))\n",
    "print('Mean_Squared_Error(MSE):', metrics.mean_squared_error(y_test, y_pred))\n",
    "print('Root_Mean_Squared_Error(RMSE):', np.sqrt(metrics.mean_squared_error(y_test, y_pred)))\n"
   ]
  },
  {
   "cell_type": "code",
   "execution_count": 124,
   "metadata": {
    "ExecuteTime": {
     "end_time": "2023-04-11T16:08:37.429893Z",
     "start_time": "2023-04-11T16:08:04.605509Z"
    },
    "colab": {
     "base_uri": "https://localhost:8080/"
    },
    "id": "4Im8wi_ND1W4",
    "outputId": "0cbba924-5823-49cb-d0b2-ecab892822bd"
   },
   "outputs": [
    {
     "name": "stdout",
     "output_type": "stream",
     "text": [
      "Accuracy Score: 0.9885539830073098\n"
     ]
    }
   ],
   "source": [
    "#Display model accuracy score\n",
    "print('Accuracy Score:', model.score(X_test, y_test))"
   ]
  },
  {
   "cell_type": "code",
   "execution_count": 252,
   "metadata": {
    "ExecuteTime": {
     "end_time": "2023-04-11T16:08:37.460327Z",
     "start_time": "2023-04-11T16:08:04.645403Z"
    }
   },
   "outputs": [],
   "source": []
  },
  {
   "cell_type": "code",
   "execution_count": 252,
   "metadata": {
    "ExecuteTime": {
     "end_time": "2023-04-11T16:08:37.467309Z",
     "start_time": "2023-04-11T16:08:04.707754Z"
    }
   },
   "outputs": [],
   "source": []
  },
  {
   "cell_type": "code",
   "execution_count": 252,
   "metadata": {
    "ExecuteTime": {
     "end_time": "2023-04-11T16:08:37.467309Z",
     "start_time": "2023-04-11T16:08:04.707754Z"
    }
   },
   "outputs": [],
   "source": []
  },
  {
   "cell_type": "code",
   "execution_count": 252,
   "metadata": {
    "ExecuteTime": {
     "end_time": "2023-04-11T16:08:37.468308Z",
     "start_time": "2023-04-11T16:08:04.707754Z"
    }
   },
   "outputs": [],
   "source": []
  }
 ],
 "metadata": {
  "colab": {
   "collapsed_sections": [],
   "name": "Bayesian_Machine_Learning_final.ipynb",
   "provenance": []
  },
  "kernelspec": {
   "display_name": "Python 3 (ipykernel)",
   "language": "python",
   "name": "python3"
  },
  "language_info": {
   "codemirror_mode": {
    "name": "ipython",
    "version": 3
   },
   "file_extension": ".py",
   "mimetype": "text/x-python",
   "name": "python",
   "nbconvert_exporter": "python",
   "pygments_lexer": "ipython3",
   "version": "3.9.12"
  }
 },
 "nbformat": 4,
 "nbformat_minor": 1
}
